{
  "nbformat": 4,
  "nbformat_minor": 0,
  "metadata": {
    "kernelspec": {
      "display_name": "Python 3",
      "language": "python",
      "name": "python3"
    },
    "language_info": {
      "codemirror_mode": {
        "name": "ipython",
        "version": 3
      },
      "file_extension": ".py",
      "mimetype": "text/x-python",
      "name": "python",
      "nbconvert_exporter": "python",
      "pygments_lexer": "ipython3",
      "version": "3.6.10"
    },
    "colab": {
      "name": "FinRL_multiple_stock_trading.ipynb",
      "provenance": [],
      "collapsed_sections": [
        "uijiWgkuh1jB",
        "MRiOtrywfAo1",
        "_gDkU-j-fCmZ",
        "3Zpv4S0-fDBv"
      ],
      "toc_visible": true
    },
    "accelerator": "GPU"
  },
  "cells": [
    {
      "cell_type": "markdown",
      "metadata": {
        "id": "gXaoZs2lh1hi"
      },
      "source": [
        "# Deep Reinforcement Learning for Stock Trading from Scratch: Multiple Stock Trading\n",
        "\n",
        "Tutorials to use OpenAI DRL to trade multiple stocks in one Jupyter Notebook | Presented at NeurIPS 2020: Deep RL Workshop\n",
        "\n",
        "* This blog is based on our paper: FinRL: A Deep Reinforcement Learning Library for Automated Stock Trading in Quantitative Finance, presented at NeurIPS 2020: Deep RL Workshop.\n",
        "* Check out medium blog for detailed explanations: https://towardsdatascience.com/finrl-for-quantitative-finance-tutorial-for-multiple-stock-trading-7b00763b7530\n",
        "* Please report any issues to our Github: https://github.com/AI4Finance-LLC/FinRL-Library/issues\n",
        "\n"
      ]
    },
    {
      "cell_type": "markdown",
      "metadata": {
        "id": "lGunVt8oLCVS"
      },
      "source": [
        "# Content"
      ]
    },
    {
      "cell_type": "markdown",
      "metadata": {
        "id": "HOzAKQ-SLGX6"
      },
      "source": [
        "* [1. Problem Definition](#0)\n",
        "* [2. Getting Started - Load Python packages](#1)\n",
        "    * [2.1. Install Packages](#1.1)    \n",
        "    * [2.2. Check Additional Packages](#1.2)\n",
        "    * [2.3. Import Packages](#1.3)\n",
        "    * [2.4. Create Folders](#1.4)\n",
        "* [3. Download Data](#2)\n",
        "* [4. Preprocess Data](#3)        \n",
        "    * [4.1. Technical Indicators](#3.1)\n",
        "    * [4.2. Perform Feature Engineering](#3.2)\n",
        "* [5.Build Environment](#4)  \n",
        "    * [5.1. Training & Trade Data Split](#4.1)\n",
        "    * [5.2. User-defined Environment](#4.2)   \n",
        "    * [5.3. Initialize Environment](#4.3)    \n",
        "* [6.Implement DRL Algorithms](#5)  \n",
        "* [7.Backtesting Performance](#6)  \n",
        "    * [7.1. BackTestStats](#6.1)\n",
        "    * [7.2. BackTestPlot](#6.2)   \n",
        "    * [7.3. Baseline Stats](#6.3)   \n",
        "    * [7.3. Compare to Stock Market Index](#6.4)             "
      ]
    },
    {
      "cell_type": "markdown",
      "metadata": {
        "id": "sApkDlD9LIZv"
      },
      "source": [
        "<a id='0'></a>\n",
        "# Part 1. Problem Definition"
      ]
    },
    {
      "cell_type": "markdown",
      "metadata": {
        "id": "HjLD2TZSLKZ-"
      },
      "source": [
        "This problem is to design an automated trading solution for single stock trading. We model the stock trading process as a Markov Decision Process (MDP). We then formulate our trading goal as a maximization problem.\n",
        "\n",
        "The algorithm is trained using Deep Reinforcement Learning (DRL) algorithms and the components of the reinforcement learning environment are:\n",
        "\n",
        "\n",
        "* Action: The action space describes the allowed actions that the agent interacts with the\n",
        "environment. Normally, a ∈ A includes three actions: a ∈ {−1, 0, 1}, where −1, 0, 1 represent\n",
        "selling, holding, and buying one stock. Also, an action can be carried upon multiple shares. We use\n",
        "an action space {−k, ..., −1, 0, 1, ..., k}, where k denotes the number of shares. For example, \"Buy\n",
        "10 shares of AAPL\" or \"Sell 10 shares of AAPL\" are 10 or −10, respectively\n",
        "\n",
        "* Reward function: r(s, a, s′) is the incentive mechanism for an agent to learn a better action. The change of the portfolio value when action a is taken at state s and arriving at new state s',  i.e., r(s, a, s′) = v′ − v, where v′ and v represent the portfolio\n",
        "values at state s′ and s, respectively\n",
        "\n",
        "* State: The state space describes the observations that the agent receives from the environment. Just as a human trader needs to analyze various information before executing a trade, so\n",
        "our trading agent observes many different features to better learn in an interactive environment.\n",
        "\n",
        "* Environment: Dow 30 consituents\n",
        "\n",
        "\n",
        "The data of the single stock that we will be using for this case study is obtained from Yahoo Finance API. The data contains Open-High-Low-Close price and volume.\n"
      ]
    },
    {
      "cell_type": "markdown",
      "metadata": {
        "id": "Ffsre789LY08"
      },
      "source": [
        "<a id='1'></a>\n",
        "# Part 2. Getting Started- Load Python Packages"
      ]
    },
    {
      "cell_type": "markdown",
      "metadata": {
        "id": "Uy5_PTmOh1hj"
      },
      "source": [
        "<a id='1.1'></a>\n",
        "## 2.1. Install all the packages through FinRL library\n"
      ]
    },
    {
      "cell_type": "code",
      "metadata": {
        "id": "mPT0ipYE28wL",
        "colab": {
          "base_uri": "https://localhost:8080/",
          "height": 1000
        },
        "outputId": "a86b56e4-3359-4514-ed4c-d8cd37f5f0bd"
      },
      "source": [
        "## install finrl library\n",
        "!pip install git+https://github.com/AI4Finance-LLC/FinRL-Library.git"
      ],
      "execution_count": 1,
      "outputs": [
        {
          "output_type": "stream",
          "text": [
            "Collecting git+https://github.com/AI4Finance-LLC/FinRL-Library.git\n",
            "  Cloning https://github.com/AI4Finance-LLC/FinRL-Library.git to /tmp/pip-req-build-rwc9ka1t\n",
            "  Running command git clone -q https://github.com/AI4Finance-LLC/FinRL-Library.git /tmp/pip-req-build-rwc9ka1t\n",
            "Requirement already satisfied: numpy<1.19.0,>=1.16.0 in /usr/local/lib/python3.6/dist-packages (from finrl==0.0.1) (1.18.5)\n",
            "Requirement already satisfied: pandas==1.1.4 in /usr/local/lib/python3.6/dist-packages (from finrl==0.0.1) (1.1.4)\n",
            "Collecting stockstats\n",
            "  Downloading https://files.pythonhosted.org/packages/32/41/d3828c5bc0a262cb3112a4024108a3b019c183fa3b3078bff34bf25abf91/stockstats-0.3.2-py2.py3-none-any.whl\n",
            "Collecting yfinance\n",
            "  Downloading https://files.pythonhosted.org/packages/7a/e8/b9d7104d3a4bf39924799067592d9e59119fcfc900a425a12e80a3123ec8/yfinance-0.1.55.tar.gz\n",
            "Collecting scikit-learn==0.21.0\n",
            "\u001b[?25l  Downloading https://files.pythonhosted.org/packages/b7/6c/ec121123c671d980c6969dfc69d0f09e1d7f88d80d373f511e61d773b85c/scikit_learn-0.21.0-cp36-cp36m-manylinux1_x86_64.whl (6.6MB)\n",
            "\u001b[K     |████████████████████████████████| 6.6MB 6.6MB/s \n",
            "\u001b[?25hCollecting gym==0.15.3\n",
            "\u001b[?25l  Downloading https://files.pythonhosted.org/packages/d2/88/a7186ffe1f33570ad3b8cd635996e5a3e3e155736e180ae6a2ad5e826a60/gym-0.15.3.tar.gz (1.6MB)\n",
            "\u001b[K     |████████████████████████████████| 1.6MB 56.6MB/s \n",
            "\u001b[?25hCollecting stable-baselines[mpi]\n",
            "\u001b[?25l  Downloading https://files.pythonhosted.org/packages/b0/48/d428b79bd4360727925f9fe34afeea7a9da381da3dc8748df834a349ad1d/stable_baselines-2.10.1-py3-none-any.whl (240kB)\n",
            "\u001b[K     |████████████████████████████████| 245kB 53.0MB/s \n",
            "\u001b[?25hCollecting tensorflow==1.15.4\n",
            "\u001b[?25l  Downloading https://files.pythonhosted.org/packages/8e/64/7a19837dd54d3f53b1ce5ae346ab401dde9678e8f233220317000bfdb3e2/tensorflow-1.15.4-cp36-cp36m-manylinux2010_x86_64.whl (110.5MB)\n",
            "\u001b[K     |████████████████████████████████| 110.5MB 27kB/s \n",
            "\u001b[?25hCollecting joblib==0.15.1\n",
            "\u001b[?25l  Downloading https://files.pythonhosted.org/packages/b8/a6/d1a816b89aa1e9e96bcb298eb1ee1854f21662ebc6d55ffa3d7b3b50122b/joblib-0.15.1-py3-none-any.whl (298kB)\n",
            "\u001b[K     |████████████████████████████████| 307kB 54.7MB/s \n",
            "\u001b[?25hCollecting matplotlib==3.2.1\n",
            "\u001b[?25l  Downloading https://files.pythonhosted.org/packages/93/4b/52da6b1523d5139d04e02d9e26ceda6146b48f2a4e5d2abfdf1c7bac8c40/matplotlib-3.2.1-cp36-cp36m-manylinux1_x86_64.whl (12.4MB)\n",
            "\u001b[K     |████████████████████████████████| 12.4MB 19.7MB/s \n",
            "\u001b[?25hCollecting pytest<6.0.0,>=5.3.2\n",
            "\u001b[?25l  Downloading https://files.pythonhosted.org/packages/9f/f3/0a83558da436a081344aa6c8b85ea5b5f05071214106036ce341b7769b0b/pytest-5.4.3-py3-none-any.whl (248kB)\n",
            "\u001b[K     |████████████████████████████████| 256kB 39.4MB/s \n",
            "\u001b[?25hCollecting setuptools<42.0.0,>=41.4.0\n",
            "\u001b[?25l  Downloading https://files.pythonhosted.org/packages/d9/de/554b6310ac87c5b921bc45634b07b11394fe63bc4cb5176f5240addf18ab/setuptools-41.6.0-py2.py3-none-any.whl (582kB)\n",
            "\u001b[K     |████████████████████████████████| 583kB 51.2MB/s \n",
            "\u001b[?25hCollecting wheel<0.34.0,>=0.33.6\n",
            "  Downloading https://files.pythonhosted.org/packages/00/83/b4a77d044e78ad1a45610eb88f745be2fd2c6d658f9798a15e384b7d57c9/wheel-0.33.6-py2.py3-none-any.whl\n",
            "Collecting pyfolio@ git+https://github.com/quantopian/pyfolio.git#egg=pyfolio-0.9.2\n",
            "  Cloning https://github.com/quantopian/pyfolio.git to /tmp/pip-install-ggmoqlap/pyfolio\n",
            "  Running command git clone -q https://github.com/quantopian/pyfolio.git /tmp/pip-install-ggmoqlap/pyfolio\n",
            "Requirement already satisfied: python-dateutil>=2.7.3 in /usr/local/lib/python3.6/dist-packages (from pandas==1.1.4->finrl==0.0.1) (2.8.1)\n",
            "Requirement already satisfied: pytz>=2017.2 in /usr/local/lib/python3.6/dist-packages (from pandas==1.1.4->finrl==0.0.1) (2018.9)\n",
            "Collecting int-date>=0.1.7\n",
            "  Downloading https://files.pythonhosted.org/packages/43/27/31803df15173ab341fe7548c14154b54227dfd8f630daa09a1c6e7db52f7/int_date-0.1.8-py2.py3-none-any.whl\n",
            "Requirement already satisfied: requests>=2.20 in /usr/local/lib/python3.6/dist-packages (from yfinance->finrl==0.0.1) (2.23.0)\n",
            "Requirement already satisfied: multitasking>=0.0.7 in /usr/local/lib/python3.6/dist-packages (from yfinance->finrl==0.0.1) (0.0.9)\n",
            "Collecting lxml>=4.5.1\n",
            "\u001b[?25l  Downloading https://files.pythonhosted.org/packages/bd/78/56a7c88a57d0d14945472535d0df9fb4bbad7d34ede658ec7961635c790e/lxml-4.6.2-cp36-cp36m-manylinux1_x86_64.whl (5.5MB)\n",
            "\u001b[K     |████████████████████████████████| 5.5MB 39.2MB/s \n",
            "\u001b[?25hRequirement already satisfied: scipy>=0.17.0 in /usr/local/lib/python3.6/dist-packages (from scikit-learn==0.21.0->finrl==0.0.1) (1.4.1)\n",
            "Requirement already satisfied: six in /usr/local/lib/python3.6/dist-packages (from gym==0.15.3->finrl==0.0.1) (1.15.0)\n",
            "Collecting pyglet<=1.3.2,>=1.2.0\n",
            "\u001b[?25l  Downloading https://files.pythonhosted.org/packages/1c/fc/dad5eaaab68f0c21e2f906a94ddb98175662cc5a654eee404d59554ce0fa/pyglet-1.3.2-py2.py3-none-any.whl (1.0MB)\n",
            "\u001b[K     |████████████████████████████████| 1.0MB 44.4MB/s \n",
            "\u001b[?25hCollecting cloudpickle~=1.2.0\n",
            "  Downloading https://files.pythonhosted.org/packages/c1/49/334e279caa3231255725c8e860fa93e72083567625573421db8875846c14/cloudpickle-1.2.2-py2.py3-none-any.whl\n",
            "Requirement already satisfied: opencv-python in /usr/local/lib/python3.6/dist-packages (from stable-baselines[mpi]->finrl==0.0.1) (4.1.2.30)\n",
            "Collecting mpi4py; extra == \"mpi\"\n",
            "\u001b[?25l  Downloading https://files.pythonhosted.org/packages/ec/8f/bbd8de5ba566dd77e408d8136e2bab7fdf2b97ce06cab830ba8b50a2f588/mpi4py-3.0.3.tar.gz (1.4MB)\n",
            "\u001b[K     |████████████████████████████████| 1.4MB 54.2MB/s \n",
            "\u001b[?25hCollecting gast==0.2.2\n",
            "  Downloading https://files.pythonhosted.org/packages/4e/35/11749bf99b2d4e3cceb4d55ca22590b0d7c2c62b9de38ac4a4a7f4687421/gast-0.2.2.tar.gz\n",
            "Requirement already satisfied: opt-einsum>=2.3.2 in /usr/local/lib/python3.6/dist-packages (from tensorflow==1.15.4->finrl==0.0.1) (3.3.0)\n",
            "Requirement already satisfied: keras-preprocessing>=1.0.5 in /usr/local/lib/python3.6/dist-packages (from tensorflow==1.15.4->finrl==0.0.1) (1.1.2)\n",
            "Requirement already satisfied: astor>=0.6.0 in /usr/local/lib/python3.6/dist-packages (from tensorflow==1.15.4->finrl==0.0.1) (0.8.1)\n",
            "Collecting tensorboard<1.16.0,>=1.15.0\n",
            "\u001b[?25l  Downloading https://files.pythonhosted.org/packages/1e/e9/d3d747a97f7188f48aa5eda486907f3b345cd409f0a0850468ba867db246/tensorboard-1.15.0-py3-none-any.whl (3.8MB)\n",
            "\u001b[K     |████████████████████████████████| 3.8MB 50.5MB/s \n",
            "\u001b[?25hRequirement already satisfied: wrapt>=1.11.1 in /usr/local/lib/python3.6/dist-packages (from tensorflow==1.15.4->finrl==0.0.1) (1.12.1)\n",
            "Requirement already satisfied: grpcio>=1.8.6 in /usr/local/lib/python3.6/dist-packages (from tensorflow==1.15.4->finrl==0.0.1) (1.33.2)\n",
            "Requirement already satisfied: absl-py>=0.7.0 in /usr/local/lib/python3.6/dist-packages (from tensorflow==1.15.4->finrl==0.0.1) (0.10.0)\n",
            "Requirement already satisfied: protobuf>=3.6.1 in /usr/local/lib/python3.6/dist-packages (from tensorflow==1.15.4->finrl==0.0.1) (3.12.4)\n",
            "Requirement already satisfied: google-pasta>=0.1.6 in /usr/local/lib/python3.6/dist-packages (from tensorflow==1.15.4->finrl==0.0.1) (0.2.0)\n",
            "Collecting keras-applications>=1.0.8\n",
            "\u001b[?25l  Downloading https://files.pythonhosted.org/packages/71/e3/19762fdfc62877ae9102edf6342d71b28fbfd9dea3d2f96a882ce099b03f/Keras_Applications-1.0.8-py3-none-any.whl (50kB)\n",
            "\u001b[K     |████████████████████████████████| 51kB 7.8MB/s \n",
            "\u001b[?25hCollecting tensorflow-estimator==1.15.1\n",
            "\u001b[?25l  Downloading https://files.pythonhosted.org/packages/de/62/2ee9cd74c9fa2fa450877847ba560b260f5d0fb70ee0595203082dafcc9d/tensorflow_estimator-1.15.1-py2.py3-none-any.whl (503kB)\n",
            "\u001b[K     |████████████████████████████████| 512kB 49.7MB/s \n",
            "\u001b[?25hRequirement already satisfied: termcolor>=1.1.0 in /usr/local/lib/python3.6/dist-packages (from tensorflow==1.15.4->finrl==0.0.1) (1.1.0)\n",
            "Requirement already satisfied: pyparsing!=2.0.4,!=2.1.2,!=2.1.6,>=2.0.1 in /usr/local/lib/python3.6/dist-packages (from matplotlib==3.2.1->finrl==0.0.1) (2.4.7)\n",
            "Requirement already satisfied: kiwisolver>=1.0.1 in /usr/local/lib/python3.6/dist-packages (from matplotlib==3.2.1->finrl==0.0.1) (1.3.1)\n",
            "Requirement already satisfied: cycler>=0.10 in /usr/local/lib/python3.6/dist-packages (from matplotlib==3.2.1->finrl==0.0.1) (0.10.0)\n",
            "Collecting pluggy<1.0,>=0.12\n",
            "  Downloading https://files.pythonhosted.org/packages/a0/28/85c7aa31b80d150b772fbe4a229487bc6644da9ccb7e427dd8cc60cb8a62/pluggy-0.13.1-py2.py3-none-any.whl\n",
            "Requirement already satisfied: importlib-metadata>=0.12; python_version < \"3.8\" in /usr/local/lib/python3.6/dist-packages (from pytest<6.0.0,>=5.3.2->finrl==0.0.1) (2.0.0)\n",
            "Requirement already satisfied: packaging in /usr/local/lib/python3.6/dist-packages (from pytest<6.0.0,>=5.3.2->finrl==0.0.1) (20.4)\n",
            "Requirement already satisfied: py>=1.5.0 in /usr/local/lib/python3.6/dist-packages (from pytest<6.0.0,>=5.3.2->finrl==0.0.1) (1.9.0)\n",
            "Requirement already satisfied: more-itertools>=4.0.0 in /usr/local/lib/python3.6/dist-packages (from pytest<6.0.0,>=5.3.2->finrl==0.0.1) (8.6.0)\n",
            "Requirement already satisfied: attrs>=17.4.0 in /usr/local/lib/python3.6/dist-packages (from pytest<6.0.0,>=5.3.2->finrl==0.0.1) (20.3.0)\n",
            "Requirement already satisfied: wcwidth in /usr/local/lib/python3.6/dist-packages (from pytest<6.0.0,>=5.3.2->finrl==0.0.1) (0.2.5)\n",
            "Requirement already satisfied: ipython>=3.2.3 in /usr/local/lib/python3.6/dist-packages (from pyfolio@ git+https://github.com/quantopian/pyfolio.git#egg=pyfolio-0.9.2->finrl==0.0.1) (5.5.0)\n",
            "Requirement already satisfied: seaborn>=0.7.1 in /usr/local/lib/python3.6/dist-packages (from pyfolio@ git+https://github.com/quantopian/pyfolio.git#egg=pyfolio-0.9.2->finrl==0.0.1) (0.11.0)\n",
            "Collecting empyrical>=0.5.0\n",
            "\u001b[?25l  Downloading https://files.pythonhosted.org/packages/74/43/1b997c21411c6ab7c96dc034e160198272c7a785aeea7654c9bcf98bec83/empyrical-0.5.5.tar.gz (52kB)\n",
            "\u001b[K     |████████████████████████████████| 61kB 9.6MB/s \n",
            "\u001b[?25hRequirement already satisfied: chardet<4,>=3.0.2 in /usr/local/lib/python3.6/dist-packages (from requests>=2.20->yfinance->finrl==0.0.1) (3.0.4)\n",
            "Requirement already satisfied: urllib3!=1.25.0,!=1.25.1,<1.26,>=1.21.1 in /usr/local/lib/python3.6/dist-packages (from requests>=2.20->yfinance->finrl==0.0.1) (1.24.3)\n",
            "Requirement already satisfied: certifi>=2017.4.17 in /usr/local/lib/python3.6/dist-packages (from requests>=2.20->yfinance->finrl==0.0.1) (2020.11.8)\n",
            "Requirement already satisfied: idna<3,>=2.5 in /usr/local/lib/python3.6/dist-packages (from requests>=2.20->yfinance->finrl==0.0.1) (2.10)\n",
            "Requirement already satisfied: future in /usr/local/lib/python3.6/dist-packages (from pyglet<=1.3.2,>=1.2.0->gym==0.15.3->finrl==0.0.1) (0.16.0)\n",
            "Requirement already satisfied: werkzeug>=0.11.15 in /usr/local/lib/python3.6/dist-packages (from tensorboard<1.16.0,>=1.15.0->tensorflow==1.15.4->finrl==0.0.1) (1.0.1)\n",
            "Requirement already satisfied: markdown>=2.6.8 in /usr/local/lib/python3.6/dist-packages (from tensorboard<1.16.0,>=1.15.0->tensorflow==1.15.4->finrl==0.0.1) (3.3.3)\n",
            "Requirement already satisfied: h5py in /usr/local/lib/python3.6/dist-packages (from keras-applications>=1.0.8->tensorflow==1.15.4->finrl==0.0.1) (2.10.0)\n",
            "Requirement already satisfied: zipp>=0.5 in /usr/local/lib/python3.6/dist-packages (from importlib-metadata>=0.12; python_version < \"3.8\"->pytest<6.0.0,>=5.3.2->finrl==0.0.1) (3.4.0)\n",
            "Requirement already satisfied: pygments in /usr/local/lib/python3.6/dist-packages (from ipython>=3.2.3->pyfolio@ git+https://github.com/quantopian/pyfolio.git#egg=pyfolio-0.9.2->finrl==0.0.1) (2.6.1)\n",
            "Requirement already satisfied: simplegeneric>0.8 in /usr/local/lib/python3.6/dist-packages (from ipython>=3.2.3->pyfolio@ git+https://github.com/quantopian/pyfolio.git#egg=pyfolio-0.9.2->finrl==0.0.1) (0.8.1)\n",
            "Requirement already satisfied: decorator in /usr/local/lib/python3.6/dist-packages (from ipython>=3.2.3->pyfolio@ git+https://github.com/quantopian/pyfolio.git#egg=pyfolio-0.9.2->finrl==0.0.1) (4.4.2)\n",
            "Requirement already satisfied: pickleshare in /usr/local/lib/python3.6/dist-packages (from ipython>=3.2.3->pyfolio@ git+https://github.com/quantopian/pyfolio.git#egg=pyfolio-0.9.2->finrl==0.0.1) (0.7.5)\n",
            "Requirement already satisfied: prompt-toolkit<2.0.0,>=1.0.4 in /usr/local/lib/python3.6/dist-packages (from ipython>=3.2.3->pyfolio@ git+https://github.com/quantopian/pyfolio.git#egg=pyfolio-0.9.2->finrl==0.0.1) (1.0.18)\n",
            "Requirement already satisfied: pexpect; sys_platform != \"win32\" in /usr/local/lib/python3.6/dist-packages (from ipython>=3.2.3->pyfolio@ git+https://github.com/quantopian/pyfolio.git#egg=pyfolio-0.9.2->finrl==0.0.1) (4.8.0)\n",
            "Requirement already satisfied: traitlets>=4.2 in /usr/local/lib/python3.6/dist-packages (from ipython>=3.2.3->pyfolio@ git+https://github.com/quantopian/pyfolio.git#egg=pyfolio-0.9.2->finrl==0.0.1) (4.3.3)\n",
            "Requirement already satisfied: pandas-datareader>=0.2 in /usr/local/lib/python3.6/dist-packages (from empyrical>=0.5.0->pyfolio@ git+https://github.com/quantopian/pyfolio.git#egg=pyfolio-0.9.2->finrl==0.0.1) (0.9.0)\n",
            "Requirement already satisfied: ptyprocess>=0.5 in /usr/local/lib/python3.6/dist-packages (from pexpect; sys_platform != \"win32\"->ipython>=3.2.3->pyfolio@ git+https://github.com/quantopian/pyfolio.git#egg=pyfolio-0.9.2->finrl==0.0.1) (0.6.0)\n",
            "Requirement already satisfied: ipython-genutils in /usr/local/lib/python3.6/dist-packages (from traitlets>=4.2->ipython>=3.2.3->pyfolio@ git+https://github.com/quantopian/pyfolio.git#egg=pyfolio-0.9.2->finrl==0.0.1) (0.2.0)\n",
            "Building wheels for collected packages: finrl, yfinance, gym, pyfolio, mpi4py, gast, empyrical\n",
            "  Building wheel for finrl (setup.py) ... \u001b[?25l\u001b[?25hdone\n",
            "  Created wheel for finrl: filename=finrl-0.0.1-cp36-none-any.whl size=24317 sha256=55b7d32a08ddb1f349f446775b2535280dab0b9ffabf82d558815c2443c4c510\n",
            "  Stored in directory: /tmp/pip-ephem-wheel-cache-yaakq__0/wheels/9c/19/bf/c644def96612df1ad42c94d5304966797eaa3221dffc5efe0b\n",
            "  Building wheel for yfinance (setup.py) ... \u001b[?25l\u001b[?25hdone\n",
            "  Created wheel for yfinance: filename=yfinance-0.1.55-py2.py3-none-any.whl size=22618 sha256=672a5af6e7a5830072304ca1ffa2f72e911ab56ee32962dd4bc6de5933d7bed8\n",
            "  Stored in directory: /root/.cache/pip/wheels/04/98/cc/2702a4242d60bdc14f48b4557c427ded1fe92aedf257d4565c\n",
            "  Building wheel for gym (setup.py) ... \u001b[?25l\u001b[?25hdone\n",
            "  Created wheel for gym: filename=gym-0.15.3-cp36-none-any.whl size=1644971 sha256=65af4733d64d212e34e1feaaf0f0efb31c2bcd9c821cf555903bd415ca6a4083\n",
            "  Stored in directory: /root/.cache/pip/wheels/8a/71/10/30f9b16332ecfd6318ac290445c696fe809bcbe40a05f9a799\n",
            "  Building wheel for pyfolio (setup.py) ... \u001b[?25l\u001b[?25hdone\n",
            "  Created wheel for pyfolio: filename=pyfolio-0.9.2+75.g4b901f6-cp36-none-any.whl size=75764 sha256=8dca92c0ef430507039728d3f348e2436717f7559d830c2ea3261fc3cb1d6667\n",
            "  Stored in directory: /tmp/pip-ephem-wheel-cache-yaakq__0/wheels/43/ce/d9/6752fb6e03205408773235435205a0519d2c608a94f1976e56\n",
            "  Building wheel for mpi4py (setup.py) ... \u001b[?25l\u001b[?25hdone\n",
            "  Created wheel for mpi4py: filename=mpi4py-3.0.3-cp36-cp36m-linux_x86_64.whl size=2074471 sha256=b3d9dcf723a38cce7faac92dd17237a7caa322e8836a5f86ba43882e0f8cf24d\n",
            "  Stored in directory: /root/.cache/pip/wheels/18/e0/86/2b713dd512199096012ceca61429e12b960888de59818871d6\n",
            "  Building wheel for gast (setup.py) ... \u001b[?25l\u001b[?25hdone\n",
            "  Created wheel for gast: filename=gast-0.2.2-cp36-none-any.whl size=7542 sha256=15ac3c023c159f32c0cd89549fea17fb492f9402740821b51fe4b7a446e51750\n",
            "  Stored in directory: /root/.cache/pip/wheels/5c/2e/7e/a1d4d4fcebe6c381f378ce7743a3ced3699feb89bcfbdadadd\n",
            "  Building wheel for empyrical (setup.py) ... \u001b[?25l\u001b[?25hdone\n",
            "  Created wheel for empyrical: filename=empyrical-0.5.5-cp36-none-any.whl size=39763 sha256=f12bf263f4025d6236b04d5de2de9c9b1bb07ed4e84fbfb7824e73a529b376a5\n",
            "  Stored in directory: /root/.cache/pip/wheels/ea/b2/c8/6769d8444d2f2e608fae2641833110668d0ffd1abeb2e9f3fc\n",
            "Successfully built finrl yfinance gym pyfolio mpi4py gast empyrical\n",
            "\u001b[31mERROR: tensorflow-probability 0.11.0 has requirement cloudpickle==1.3, but you'll have cloudpickle 1.2.2 which is incompatible.\u001b[0m\n",
            "\u001b[31mERROR: tensorflow-probability 0.11.0 has requirement gast>=0.3.2, but you'll have gast 0.2.2 which is incompatible.\u001b[0m\n",
            "\u001b[31mERROR: datascience 0.10.6 has requirement folium==0.2.1, but you'll have folium 0.8.3 which is incompatible.\u001b[0m\n",
            "\u001b[31mERROR: albumentations 0.1.12 has requirement imgaug<0.2.7,>=0.2.5, but you'll have imgaug 0.2.9 which is incompatible.\u001b[0m\n",
            "Installing collected packages: int-date, stockstats, lxml, yfinance, joblib, scikit-learn, pyglet, cloudpickle, gym, matplotlib, mpi4py, stable-baselines, gast, wheel, setuptools, tensorboard, keras-applications, tensorflow-estimator, tensorflow, pluggy, pytest, empyrical, pyfolio, finrl\n",
            "  Found existing installation: lxml 4.2.6\n",
            "    Uninstalling lxml-4.2.6:\n",
            "      Successfully uninstalled lxml-4.2.6\n",
            "  Found existing installation: joblib 0.17.0\n",
            "    Uninstalling joblib-0.17.0:\n",
            "      Successfully uninstalled joblib-0.17.0\n",
            "  Found existing installation: scikit-learn 0.22.2.post1\n",
            "    Uninstalling scikit-learn-0.22.2.post1:\n",
            "      Successfully uninstalled scikit-learn-0.22.2.post1\n",
            "  Found existing installation: pyglet 1.5.0\n",
            "    Uninstalling pyglet-1.5.0:\n",
            "      Successfully uninstalled pyglet-1.5.0\n",
            "  Found existing installation: cloudpickle 1.3.0\n",
            "    Uninstalling cloudpickle-1.3.0:\n",
            "      Successfully uninstalled cloudpickle-1.3.0\n",
            "  Found existing installation: gym 0.17.3\n",
            "    Uninstalling gym-0.17.3:\n",
            "      Successfully uninstalled gym-0.17.3\n",
            "  Found existing installation: matplotlib 3.2.2\n",
            "    Uninstalling matplotlib-3.2.2:\n",
            "      Successfully uninstalled matplotlib-3.2.2\n",
            "  Found existing installation: gast 0.3.3\n",
            "    Uninstalling gast-0.3.3:\n",
            "      Successfully uninstalled gast-0.3.3\n",
            "  Found existing installation: wheel 0.35.1\n",
            "    Uninstalling wheel-0.35.1:\n",
            "      Successfully uninstalled wheel-0.35.1\n",
            "  Found existing installation: setuptools 50.3.2\n",
            "    Uninstalling setuptools-50.3.2:\n",
            "      Successfully uninstalled setuptools-50.3.2\n",
            "  Found existing installation: tensorboard 2.3.0\n",
            "    Uninstalling tensorboard-2.3.0:\n",
            "      Successfully uninstalled tensorboard-2.3.0\n",
            "  Found existing installation: tensorflow-estimator 2.3.0\n",
            "    Uninstalling tensorflow-estimator-2.3.0:\n",
            "      Successfully uninstalled tensorflow-estimator-2.3.0\n",
            "  Found existing installation: tensorflow 2.3.0\n",
            "    Uninstalling tensorflow-2.3.0:\n",
            "      Successfully uninstalled tensorflow-2.3.0\n",
            "  Found existing installation: pluggy 0.7.1\n",
            "    Uninstalling pluggy-0.7.1:\n",
            "      Successfully uninstalled pluggy-0.7.1\n",
            "  Found existing installation: pytest 3.6.4\n",
            "    Uninstalling pytest-3.6.4:\n",
            "      Successfully uninstalled pytest-3.6.4\n",
            "Successfully installed cloudpickle-1.2.2 empyrical-0.5.5 finrl-0.0.1 gast-0.2.2 gym-0.15.3 int-date-0.1.8 joblib-0.15.1 keras-applications-1.0.8 lxml-4.6.2 matplotlib-3.2.1 mpi4py-3.0.3 pluggy-0.13.1 pyfolio-0.9.2+75.g4b901f6 pyglet-1.3.2 pytest-5.4.3 scikit-learn-0.21.0 setuptools-41.6.0 stable-baselines-2.10.1 stockstats-0.3.2 tensorboard-1.15.0 tensorflow-1.15.4 tensorflow-estimator-1.15.1 wheel-0.33.6 yfinance-0.1.55\n"
          ],
          "name": "stdout"
        },
        {
          "output_type": "display_data",
          "data": {
            "application/vnd.colab-display-data+json": {
              "pip_warning": {
                "packages": [
                  "matplotlib",
                  "mpl_toolkits",
                  "pkg_resources"
                ]
              }
            }
          },
          "metadata": {
            "tags": []
          }
        }
      ]
    },
    {
      "cell_type": "markdown",
      "metadata": {
        "id": "osBHhVysOEzi"
      },
      "source": [
        "\n",
        "<a id='1.2'></a>\n",
        "## 2.2. Check if the additional packages needed are present, if not install them. \n",
        "* Yahoo Finance API\n",
        "* pandas\n",
        "* numpy\n",
        "* matplotlib\n",
        "* stockstats\n",
        "* OpenAI gym\n",
        "* stable-baselines\n",
        "* tensorflow\n",
        "* pyfolio"
      ]
    },
    {
      "cell_type": "code",
      "metadata": {
        "id": "oirvDTJ0h1hk",
        "colab": {
          "base_uri": "https://localhost:8080/"
        },
        "outputId": "61939d6a-ca08-4188-d8ad-41fa12538b9a"
      },
      "source": [
        "import pkg_resources\n",
        "import pip\n",
        "installedPackages = {pkg.key for pkg in pkg_resources.working_set}\n",
        "required = {'yfinance', 'pandas','numpy', 'matplotlib', 'stockstats','stable-baselines','gym','tensorflow','pyfolio'}\n",
        "missing = required - installedPackages\n",
        "if missing:\n",
        "    !pip install yfinance\n",
        "    !pip install pandas\n",
        "    !pip install numpy\n",
        "    !pip install matplotlib\n",
        "    !pip install stockstats\n",
        "    !pip install gym\n",
        "    !pip install stable-baselines[mpi]\n",
        "    !pip install tensorflow==1.15.4\n",
        "    !pip install git+https://github.com/quantopian/pyfolio\n"
      ],
      "execution_count": 2,
      "outputs": [
        {
          "output_type": "stream",
          "text": [
            "Requirement already satisfied: yfinance in /usr/local/lib/python3.6/dist-packages (0.1.55)\n",
            "Requirement already satisfied: pandas>=0.24 in /usr/local/lib/python3.6/dist-packages (from yfinance) (1.1.4)\n",
            "Requirement already satisfied: requests>=2.20 in /usr/local/lib/python3.6/dist-packages (from yfinance) (2.23.0)\n",
            "Requirement already satisfied: numpy>=1.15 in /usr/local/lib/python3.6/dist-packages (from yfinance) (1.18.5)\n",
            "Requirement already satisfied: lxml>=4.5.1 in /usr/local/lib/python3.6/dist-packages (from yfinance) (4.6.2)\n",
            "Requirement already satisfied: multitasking>=0.0.7 in /usr/local/lib/python3.6/dist-packages (from yfinance) (0.0.9)\n",
            "Requirement already satisfied: python-dateutil>=2.7.3 in /usr/local/lib/python3.6/dist-packages (from pandas>=0.24->yfinance) (2.8.1)\n",
            "Requirement already satisfied: pytz>=2017.2 in /usr/local/lib/python3.6/dist-packages (from pandas>=0.24->yfinance) (2018.9)\n",
            "Requirement already satisfied: chardet<4,>=3.0.2 in /usr/local/lib/python3.6/dist-packages (from requests>=2.20->yfinance) (3.0.4)\n",
            "Requirement already satisfied: urllib3!=1.25.0,!=1.25.1,<1.26,>=1.21.1 in /usr/local/lib/python3.6/dist-packages (from requests>=2.20->yfinance) (1.24.3)\n",
            "Requirement already satisfied: idna<3,>=2.5 in /usr/local/lib/python3.6/dist-packages (from requests>=2.20->yfinance) (2.10)\n",
            "Requirement already satisfied: certifi>=2017.4.17 in /usr/local/lib/python3.6/dist-packages (from requests>=2.20->yfinance) (2020.11.8)\n",
            "Requirement already satisfied: six>=1.5 in /usr/local/lib/python3.6/dist-packages (from python-dateutil>=2.7.3->pandas>=0.24->yfinance) (1.15.0)\n",
            "Requirement already satisfied: pandas in /usr/local/lib/python3.6/dist-packages (1.1.4)\n",
            "Requirement already satisfied: python-dateutil>=2.7.3 in /usr/local/lib/python3.6/dist-packages (from pandas) (2.8.1)\n",
            "Requirement already satisfied: pytz>=2017.2 in /usr/local/lib/python3.6/dist-packages (from pandas) (2018.9)\n",
            "Requirement already satisfied: numpy>=1.15.4 in /usr/local/lib/python3.6/dist-packages (from pandas) (1.18.5)\n",
            "Requirement already satisfied: six>=1.5 in /usr/local/lib/python3.6/dist-packages (from python-dateutil>=2.7.3->pandas) (1.15.0)\n",
            "Requirement already satisfied: numpy in /usr/local/lib/python3.6/dist-packages (1.18.5)\n",
            "Requirement already satisfied: matplotlib in /usr/local/lib/python3.6/dist-packages (3.2.1)\n",
            "Requirement already satisfied: python-dateutil>=2.1 in /usr/local/lib/python3.6/dist-packages (from matplotlib) (2.8.1)\n",
            "Requirement already satisfied: numpy>=1.11 in /usr/local/lib/python3.6/dist-packages (from matplotlib) (1.18.5)\n",
            "Requirement already satisfied: cycler>=0.10 in /usr/local/lib/python3.6/dist-packages (from matplotlib) (0.10.0)\n",
            "Requirement already satisfied: kiwisolver>=1.0.1 in /usr/local/lib/python3.6/dist-packages (from matplotlib) (1.3.1)\n",
            "Requirement already satisfied: pyparsing!=2.0.4,!=2.1.2,!=2.1.6,>=2.0.1 in /usr/local/lib/python3.6/dist-packages (from matplotlib) (2.4.7)\n",
            "Requirement already satisfied: six>=1.5 in /usr/local/lib/python3.6/dist-packages (from python-dateutil>=2.1->matplotlib) (1.15.0)\n",
            "Requirement already satisfied: stockstats in /usr/local/lib/python3.6/dist-packages (0.3.2)\n",
            "Requirement already satisfied: numpy>=1.9.2 in /usr/local/lib/python3.6/dist-packages (from stockstats) (1.18.5)\n",
            "Requirement already satisfied: pandas>=0.18.1 in /usr/local/lib/python3.6/dist-packages (from stockstats) (1.1.4)\n",
            "Requirement already satisfied: int-date>=0.1.7 in /usr/local/lib/python3.6/dist-packages (from stockstats) (0.1.8)\n",
            "Requirement already satisfied: python-dateutil>=2.7.3 in /usr/local/lib/python3.6/dist-packages (from pandas>=0.18.1->stockstats) (2.8.1)\n",
            "Requirement already satisfied: pytz>=2017.2 in /usr/local/lib/python3.6/dist-packages (from pandas>=0.18.1->stockstats) (2018.9)\n",
            "Requirement already satisfied: six>=1.9.0 in /usr/local/lib/python3.6/dist-packages (from int-date>=0.1.7->stockstats) (1.15.0)\n",
            "Requirement already satisfied: gym in /usr/local/lib/python3.6/dist-packages (0.15.3)\n",
            "Requirement already satisfied: six in /usr/local/lib/python3.6/dist-packages (from gym) (1.15.0)\n",
            "Requirement already satisfied: pyglet<=1.3.2,>=1.2.0 in /usr/local/lib/python3.6/dist-packages (from gym) (1.3.2)\n",
            "Requirement already satisfied: scipy in /usr/local/lib/python3.6/dist-packages (from gym) (1.4.1)\n",
            "Requirement already satisfied: numpy>=1.10.4 in /usr/local/lib/python3.6/dist-packages (from gym) (1.18.5)\n",
            "Requirement already satisfied: cloudpickle~=1.2.0 in /usr/local/lib/python3.6/dist-packages (from gym) (1.2.2)\n",
            "Requirement already satisfied: future in /usr/local/lib/python3.6/dist-packages (from pyglet<=1.3.2,>=1.2.0->gym) (0.16.0)\n",
            "Requirement already satisfied: stable-baselines[mpi] in /usr/local/lib/python3.6/dist-packages (2.10.1)\n",
            "Requirement already satisfied: opencv-python in /usr/local/lib/python3.6/dist-packages (from stable-baselines[mpi]) (4.1.2.30)\n",
            "Requirement already satisfied: scipy in /usr/local/lib/python3.6/dist-packages (from stable-baselines[mpi]) (1.4.1)\n",
            "Requirement already satisfied: matplotlib in /usr/local/lib/python3.6/dist-packages (from stable-baselines[mpi]) (3.2.1)\n",
            "Requirement already satisfied: gym[atari,classic_control]>=0.11 in /usr/local/lib/python3.6/dist-packages (from stable-baselines[mpi]) (0.15.3)\n",
            "Requirement already satisfied: numpy in /usr/local/lib/python3.6/dist-packages (from stable-baselines[mpi]) (1.18.5)\n",
            "Requirement already satisfied: cloudpickle>=0.5.5 in /usr/local/lib/python3.6/dist-packages (from stable-baselines[mpi]) (1.2.2)\n",
            "Requirement already satisfied: joblib in /usr/local/lib/python3.6/dist-packages (from stable-baselines[mpi]) (0.15.1)\n",
            "Requirement already satisfied: pandas in /usr/local/lib/python3.6/dist-packages (from stable-baselines[mpi]) (1.1.4)\n",
            "Requirement already satisfied: mpi4py; extra == \"mpi\" in /usr/local/lib/python3.6/dist-packages (from stable-baselines[mpi]) (3.0.3)\n",
            "Requirement already satisfied: kiwisolver>=1.0.1 in /usr/local/lib/python3.6/dist-packages (from matplotlib->stable-baselines[mpi]) (1.3.1)\n",
            "Requirement already satisfied: cycler>=0.10 in /usr/local/lib/python3.6/dist-packages (from matplotlib->stable-baselines[mpi]) (0.10.0)\n",
            "Requirement already satisfied: pyparsing!=2.0.4,!=2.1.2,!=2.1.6,>=2.0.1 in /usr/local/lib/python3.6/dist-packages (from matplotlib->stable-baselines[mpi]) (2.4.7)\n",
            "Requirement already satisfied: python-dateutil>=2.1 in /usr/local/lib/python3.6/dist-packages (from matplotlib->stable-baselines[mpi]) (2.8.1)\n",
            "Requirement already satisfied: pyglet<=1.3.2,>=1.2.0 in /usr/local/lib/python3.6/dist-packages (from gym[atari,classic_control]>=0.11->stable-baselines[mpi]) (1.3.2)\n",
            "Requirement already satisfied: six in /usr/local/lib/python3.6/dist-packages (from gym[atari,classic_control]>=0.11->stable-baselines[mpi]) (1.15.0)\n",
            "Requirement already satisfied: Pillow; extra == \"atari\" in /usr/local/lib/python3.6/dist-packages (from gym[atari,classic_control]>=0.11->stable-baselines[mpi]) (7.0.0)\n",
            "Requirement already satisfied: atari-py~=0.2.0; extra == \"atari\" in /usr/local/lib/python3.6/dist-packages (from gym[atari,classic_control]>=0.11->stable-baselines[mpi]) (0.2.6)\n",
            "Requirement already satisfied: pytz>=2017.2 in /usr/local/lib/python3.6/dist-packages (from pandas->stable-baselines[mpi]) (2018.9)\n",
            "Requirement already satisfied: future in /usr/local/lib/python3.6/dist-packages (from pyglet<=1.3.2,>=1.2.0->gym[atari,classic_control]>=0.11->stable-baselines[mpi]) (0.16.0)\n",
            "Requirement already satisfied: tensorflow==1.15.4 in /usr/local/lib/python3.6/dist-packages (1.15.4)\n",
            "Requirement already satisfied: tensorflow-estimator==1.15.1 in /usr/local/lib/python3.6/dist-packages (from tensorflow==1.15.4) (1.15.1)\n",
            "Requirement already satisfied: opt-einsum>=2.3.2 in /usr/local/lib/python3.6/dist-packages (from tensorflow==1.15.4) (3.3.0)\n",
            "Requirement already satisfied: google-pasta>=0.1.6 in /usr/local/lib/python3.6/dist-packages (from tensorflow==1.15.4) (0.2.0)\n",
            "Requirement already satisfied: wrapt>=1.11.1 in /usr/local/lib/python3.6/dist-packages (from tensorflow==1.15.4) (1.12.1)\n",
            "Requirement already satisfied: grpcio>=1.8.6 in /usr/local/lib/python3.6/dist-packages (from tensorflow==1.15.4) (1.33.2)\n",
            "Requirement already satisfied: six>=1.10.0 in /usr/local/lib/python3.6/dist-packages (from tensorflow==1.15.4) (1.15.0)\n",
            "Requirement already satisfied: gast==0.2.2 in /usr/local/lib/python3.6/dist-packages (from tensorflow==1.15.4) (0.2.2)\n",
            "Requirement already satisfied: tensorboard<1.16.0,>=1.15.0 in /usr/local/lib/python3.6/dist-packages (from tensorflow==1.15.4) (1.15.0)\n",
            "Requirement already satisfied: numpy<1.19.0,>=1.16.0 in /usr/local/lib/python3.6/dist-packages (from tensorflow==1.15.4) (1.18.5)\n",
            "Requirement already satisfied: wheel>=0.26; python_version >= \"3\" in /usr/local/lib/python3.6/dist-packages (from tensorflow==1.15.4) (0.33.6)\n",
            "Requirement already satisfied: termcolor>=1.1.0 in /usr/local/lib/python3.6/dist-packages (from tensorflow==1.15.4) (1.1.0)\n",
            "Requirement already satisfied: absl-py>=0.7.0 in /usr/local/lib/python3.6/dist-packages (from tensorflow==1.15.4) (0.10.0)\n",
            "Requirement already satisfied: protobuf>=3.6.1 in /usr/local/lib/python3.6/dist-packages (from tensorflow==1.15.4) (3.12.4)\n",
            "Requirement already satisfied: keras-applications>=1.0.8 in /usr/local/lib/python3.6/dist-packages (from tensorflow==1.15.4) (1.0.8)\n",
            "Requirement already satisfied: astor>=0.6.0 in /usr/local/lib/python3.6/dist-packages (from tensorflow==1.15.4) (0.8.1)\n",
            "Requirement already satisfied: keras-preprocessing>=1.0.5 in /usr/local/lib/python3.6/dist-packages (from tensorflow==1.15.4) (1.1.2)\n",
            "Requirement already satisfied: werkzeug>=0.11.15 in /usr/local/lib/python3.6/dist-packages (from tensorboard<1.16.0,>=1.15.0->tensorflow==1.15.4) (1.0.1)\n",
            "Requirement already satisfied: setuptools>=41.0.0 in /usr/local/lib/python3.6/dist-packages (from tensorboard<1.16.0,>=1.15.0->tensorflow==1.15.4) (41.6.0)\n",
            "Requirement already satisfied: markdown>=2.6.8 in /usr/local/lib/python3.6/dist-packages (from tensorboard<1.16.0,>=1.15.0->tensorflow==1.15.4) (3.3.3)\n",
            "Requirement already satisfied: h5py in /usr/local/lib/python3.6/dist-packages (from keras-applications>=1.0.8->tensorflow==1.15.4) (2.10.0)\n",
            "Requirement already satisfied: importlib-metadata; python_version < \"3.8\" in /usr/local/lib/python3.6/dist-packages (from markdown>=2.6.8->tensorboard<1.16.0,>=1.15.0->tensorflow==1.15.4) (2.0.0)\n",
            "Requirement already satisfied: zipp>=0.5 in /usr/local/lib/python3.6/dist-packages (from importlib-metadata; python_version < \"3.8\"->markdown>=2.6.8->tensorboard<1.16.0,>=1.15.0->tensorflow==1.15.4) (3.4.0)\n",
            "Collecting git+https://github.com/quantopian/pyfolio\n",
            "  Cloning https://github.com/quantopian/pyfolio to /tmp/pip-req-build-1pn7gmdh\n",
            "  Running command git clone -q https://github.com/quantopian/pyfolio /tmp/pip-req-build-1pn7gmdh\n",
            "Requirement already satisfied (use --upgrade to upgrade): pyfolio==0.9.2+75.g4b901f6 from git+https://github.com/quantopian/pyfolio in /usr/local/lib/python3.6/dist-packages\n",
            "Requirement already satisfied: ipython>=3.2.3 in /usr/local/lib/python3.6/dist-packages (from pyfolio==0.9.2+75.g4b901f6) (5.5.0)\n",
            "Requirement already satisfied: matplotlib>=1.4.0 in /usr/local/lib/python3.6/dist-packages (from pyfolio==0.9.2+75.g4b901f6) (3.2.1)\n",
            "Requirement already satisfied: numpy>=1.11.1 in /usr/local/lib/python3.6/dist-packages (from pyfolio==0.9.2+75.g4b901f6) (1.18.5)\n",
            "Requirement already satisfied: pandas>=0.18.1 in /usr/local/lib/python3.6/dist-packages (from pyfolio==0.9.2+75.g4b901f6) (1.1.4)\n",
            "Requirement already satisfied: pytz>=2014.10 in /usr/local/lib/python3.6/dist-packages (from pyfolio==0.9.2+75.g4b901f6) (2018.9)\n",
            "Requirement already satisfied: scipy>=0.14.0 in /usr/local/lib/python3.6/dist-packages (from pyfolio==0.9.2+75.g4b901f6) (1.4.1)\n",
            "Requirement already satisfied: scikit-learn>=0.16.1 in /usr/local/lib/python3.6/dist-packages (from pyfolio==0.9.2+75.g4b901f6) (0.21.0)\n",
            "Requirement already satisfied: seaborn>=0.7.1 in /usr/local/lib/python3.6/dist-packages (from pyfolio==0.9.2+75.g4b901f6) (0.11.0)\n",
            "Requirement already satisfied: empyrical>=0.5.0 in /usr/local/lib/python3.6/dist-packages (from pyfolio==0.9.2+75.g4b901f6) (0.5.5)\n",
            "Requirement already satisfied: traitlets>=4.2 in /usr/local/lib/python3.6/dist-packages (from ipython>=3.2.3->pyfolio==0.9.2+75.g4b901f6) (4.3.3)\n",
            "Requirement already satisfied: decorator in /usr/local/lib/python3.6/dist-packages (from ipython>=3.2.3->pyfolio==0.9.2+75.g4b901f6) (4.4.2)\n",
            "Requirement already satisfied: pygments in /usr/local/lib/python3.6/dist-packages (from ipython>=3.2.3->pyfolio==0.9.2+75.g4b901f6) (2.6.1)\n",
            "Requirement already satisfied: pexpect; sys_platform != \"win32\" in /usr/local/lib/python3.6/dist-packages (from ipython>=3.2.3->pyfolio==0.9.2+75.g4b901f6) (4.8.0)\n",
            "Requirement already satisfied: pickleshare in /usr/local/lib/python3.6/dist-packages (from ipython>=3.2.3->pyfolio==0.9.2+75.g4b901f6) (0.7.5)\n",
            "Requirement already satisfied: simplegeneric>0.8 in /usr/local/lib/python3.6/dist-packages (from ipython>=3.2.3->pyfolio==0.9.2+75.g4b901f6) (0.8.1)\n",
            "Requirement already satisfied: prompt-toolkit<2.0.0,>=1.0.4 in /usr/local/lib/python3.6/dist-packages (from ipython>=3.2.3->pyfolio==0.9.2+75.g4b901f6) (1.0.18)\n",
            "Requirement already satisfied: setuptools>=18.5 in /usr/local/lib/python3.6/dist-packages (from ipython>=3.2.3->pyfolio==0.9.2+75.g4b901f6) (41.6.0)\n",
            "Requirement already satisfied: pyparsing!=2.0.4,!=2.1.2,!=2.1.6,>=2.0.1 in /usr/local/lib/python3.6/dist-packages (from matplotlib>=1.4.0->pyfolio==0.9.2+75.g4b901f6) (2.4.7)\n",
            "Requirement already satisfied: kiwisolver>=1.0.1 in /usr/local/lib/python3.6/dist-packages (from matplotlib>=1.4.0->pyfolio==0.9.2+75.g4b901f6) (1.3.1)\n",
            "Requirement already satisfied: python-dateutil>=2.1 in /usr/local/lib/python3.6/dist-packages (from matplotlib>=1.4.0->pyfolio==0.9.2+75.g4b901f6) (2.8.1)\n",
            "Requirement already satisfied: cycler>=0.10 in /usr/local/lib/python3.6/dist-packages (from matplotlib>=1.4.0->pyfolio==0.9.2+75.g4b901f6) (0.10.0)\n",
            "Requirement already satisfied: joblib>=0.11 in /usr/local/lib/python3.6/dist-packages (from scikit-learn>=0.16.1->pyfolio==0.9.2+75.g4b901f6) (0.15.1)\n",
            "Requirement already satisfied: pandas-datareader>=0.2 in /usr/local/lib/python3.6/dist-packages (from empyrical>=0.5.0->pyfolio==0.9.2+75.g4b901f6) (0.9.0)\n",
            "Requirement already satisfied: six in /usr/local/lib/python3.6/dist-packages (from traitlets>=4.2->ipython>=3.2.3->pyfolio==0.9.2+75.g4b901f6) (1.15.0)\n",
            "Requirement already satisfied: ipython-genutils in /usr/local/lib/python3.6/dist-packages (from traitlets>=4.2->ipython>=3.2.3->pyfolio==0.9.2+75.g4b901f6) (0.2.0)\n",
            "Requirement already satisfied: ptyprocess>=0.5 in /usr/local/lib/python3.6/dist-packages (from pexpect; sys_platform != \"win32\"->ipython>=3.2.3->pyfolio==0.9.2+75.g4b901f6) (0.6.0)\n",
            "Requirement already satisfied: wcwidth in /usr/local/lib/python3.6/dist-packages (from prompt-toolkit<2.0.0,>=1.0.4->ipython>=3.2.3->pyfolio==0.9.2+75.g4b901f6) (0.2.5)\n",
            "Requirement already satisfied: requests>=2.19.0 in /usr/local/lib/python3.6/dist-packages (from pandas-datareader>=0.2->empyrical>=0.5.0->pyfolio==0.9.2+75.g4b901f6) (2.23.0)\n",
            "Requirement already satisfied: lxml in /usr/local/lib/python3.6/dist-packages (from pandas-datareader>=0.2->empyrical>=0.5.0->pyfolio==0.9.2+75.g4b901f6) (4.6.2)\n",
            "Requirement already satisfied: certifi>=2017.4.17 in /usr/local/lib/python3.6/dist-packages (from requests>=2.19.0->pandas-datareader>=0.2->empyrical>=0.5.0->pyfolio==0.9.2+75.g4b901f6) (2020.11.8)\n",
            "Requirement already satisfied: chardet<4,>=3.0.2 in /usr/local/lib/python3.6/dist-packages (from requests>=2.19.0->pandas-datareader>=0.2->empyrical>=0.5.0->pyfolio==0.9.2+75.g4b901f6) (3.0.4)\n",
            "Requirement already satisfied: idna<3,>=2.5 in /usr/local/lib/python3.6/dist-packages (from requests>=2.19.0->pandas-datareader>=0.2->empyrical>=0.5.0->pyfolio==0.9.2+75.g4b901f6) (2.10)\n",
            "Requirement already satisfied: urllib3!=1.25.0,!=1.25.1,<1.26,>=1.21.1 in /usr/local/lib/python3.6/dist-packages (from requests>=2.19.0->pandas-datareader>=0.2->empyrical>=0.5.0->pyfolio==0.9.2+75.g4b901f6) (1.24.3)\n",
            "Building wheels for collected packages: pyfolio\n",
            "  Building wheel for pyfolio (setup.py) ... \u001b[?25l\u001b[?25hdone\n",
            "  Created wheel for pyfolio: filename=pyfolio-0.9.2+75.g4b901f6-cp36-none-any.whl size=75763 sha256=f17ee8610e51a5419e58465878b4489d9eee2a155cf75672c0893bb2ecb97c28\n",
            "  Stored in directory: /tmp/pip-ephem-wheel-cache-vbebiir8/wheels/62/7d/a7/3e462442ba7d63c35414176627c886340521dc3dbc0893ce9f\n",
            "Successfully built pyfolio\n"
          ],
          "name": "stdout"
        }
      ]
    },
    {
      "cell_type": "markdown",
      "metadata": {
        "id": "nGv01K8Sh1hn"
      },
      "source": [
        "<a id='1.3'></a>\n",
        "## 2.3. Import Packages"
      ]
    },
    {
      "cell_type": "code",
      "metadata": {
        "id": "lPqeTTwoh1hn",
        "colab": {
          "base_uri": "https://localhost:8080/"
        },
        "outputId": "357d1efc-963c-4198-a539-98d6c16f08bb"
      },
      "source": [
        "import pandas as pd\n",
        "import numpy as np\n",
        "import matplotlib\n",
        "import matplotlib.pyplot as plt\n",
        "matplotlib.use('Agg')\n",
        "import datetime\n",
        "\n",
        "from finrl.config import config\n",
        "from finrl.marketdata.yahoodownloader import YahooDownloader\n",
        "from finrl.preprocessing.preprocessors import FeatureEngineer\n",
        "from finrl.preprocessing.data import data_split\n",
        "from finrl.env.environment import EnvSetup\n",
        "from finrl.env.EnvMultipleStock_train import StockEnvTrain\n",
        "from finrl.env.EnvMultipleStock_trade import StockEnvTrade\n",
        "from finrl.model.models import DRLAgent\n",
        "from finrl.trade.backtest import BackTestStats, BaselineStats, BackTestPlot\n",
        "\n"
      ],
      "execution_count": 3,
      "outputs": [
        {
          "output_type": "stream",
          "text": [
            "WARNING:tensorflow:\n",
            "The TensorFlow contrib module will not be included in TensorFlow 2.0.\n",
            "For more information, please see:\n",
            "  * https://github.com/tensorflow/community/blob/master/rfcs/20180907-contrib-sunset.md\n",
            "  * https://github.com/tensorflow/addons\n",
            "  * https://github.com/tensorflow/io (for I/O related ops)\n",
            "If you depend on functionality not listed there, please file an issue.\n",
            "\n"
          ],
          "name": "stdout"
        },
        {
          "output_type": "stream",
          "text": [
            "/usr/local/lib/python3.6/dist-packages/pyfolio/pos.py:27: UserWarning: Module \"zipline.assets\" not found; multipliers will not be applied to position notionals.\n",
            "  'Module \"zipline.assets\" not found; multipliers will not be applied'\n"
          ],
          "name": "stderr"
        }
      ]
    },
    {
      "cell_type": "markdown",
      "metadata": {
        "id": "T2owTj985RW4"
      },
      "source": [
        "<a id='1.4'></a>\n",
        "## 2.4. Create Folders"
      ]
    },
    {
      "cell_type": "code",
      "metadata": {
        "id": "w9A8CN5R5PuZ"
      },
      "source": [
        "import os\n",
        "if not os.path.exists(\"./\" + config.DATA_SAVE_DIR):\n",
        "    os.makedirs(\"./\" + config.DATA_SAVE_DIR)\n",
        "if not os.path.exists(\"./\" + config.TRAINED_MODEL_DIR):\n",
        "    os.makedirs(\"./\" + config.TRAINED_MODEL_DIR)\n",
        "if not os.path.exists(\"./\" + config.TENSORBOARD_LOG_DIR):\n",
        "    os.makedirs(\"./\" + config.TENSORBOARD_LOG_DIR)\n",
        "if not os.path.exists(\"./\" + config.RESULTS_DIR):\n",
        "    os.makedirs(\"./\" + config.RESULTS_DIR)"
      ],
      "execution_count": 4,
      "outputs": []
    },
    {
      "cell_type": "markdown",
      "metadata": {
        "id": "A289rQWMh1hq"
      },
      "source": [
        "<a id='2'></a>\n",
        "# Part 3. Download Data\n",
        "Yahoo Finance is a website that provides stock data, financial news, financial reports, etc. All the data provided by Yahoo Finance is free.\n",
        "* FinRL uses a class **YahooDownloader** to fetch data from Yahoo Finance API\n",
        "* Call Limit: Using the Public API (without authentication), you are limited to 2,000 requests per hour per IP (or up to a total of 48,000 requests a day).\n"
      ]
    },
    {
      "cell_type": "markdown",
      "metadata": {
        "id": "NPeQ7iS-LoMm"
      },
      "source": [
        "\n",
        "\n",
        "-----\n",
        "class YahooDownloader:\n",
        "    Provides methods for retrieving daily stock data from\n",
        "    Yahoo Finance API\n",
        "\n",
        "    Attributes\n",
        "    ----------\n",
        "        start_date : str\n",
        "            start date of the data (modified from config.py)\n",
        "        end_date : str\n",
        "            end date of the data (modified from config.py)\n",
        "        ticker_list : list\n",
        "            a list of stock tickers (modified from config.py)\n",
        "\n",
        "    Methods\n",
        "    -------\n",
        "    fetch_data()\n",
        "        Fetches data from yahoo API\n"
      ]
    },
    {
      "cell_type": "code",
      "metadata": {
        "colab": {
          "base_uri": "https://localhost:8080/",
          "height": 36
        },
        "id": "h3XJnvrbLp-C",
        "outputId": "e6177e4e-c5a7-4ba2-c4af-5b6812bab5a8"
      },
      "source": [
        "# from config.py start_date is a string\n",
        "config.START_DATE"
      ],
      "execution_count": 5,
      "outputs": [
        {
          "output_type": "execute_result",
          "data": {
            "application/vnd.google.colaboratory.intrinsic+json": {
              "type": "string"
            },
            "text/plain": [
              "'2009-01-01'"
            ]
          },
          "metadata": {
            "tags": []
          },
          "execution_count": 5
        }
      ]
    },
    {
      "cell_type": "code",
      "metadata": {
        "colab": {
          "base_uri": "https://localhost:8080/",
          "height": 36
        },
        "id": "FUnY8WEfLq3C",
        "outputId": "ef33c135-d8f0-48be-a15b-2b4d8c6ecb31"
      },
      "source": [
        "# from config.py end_date is a string\n",
        "config.END_DATE"
      ],
      "execution_count": 6,
      "outputs": [
        {
          "output_type": "execute_result",
          "data": {
            "application/vnd.google.colaboratory.intrinsic+json": {
              "type": "string"
            },
            "text/plain": [
              "'2020-09-30'"
            ]
          },
          "metadata": {
            "tags": []
          },
          "execution_count": 6
        }
      ]
    },
    {
      "cell_type": "code",
      "metadata": {
        "id": "yCKm4om-s9kE",
        "colab": {
          "base_uri": "https://localhost:8080/"
        },
        "outputId": "4418b340-062d-432b-97e8-e443a5adf2a8"
      },
      "source": [
        "df = YahooDownloader(start_date = config.START_DATE,\n",
        "                     end_date = config.END_DATE,\n",
        "                     ticker_list = config.DOW_30_TICKER).fetch_data()"
      ],
      "execution_count": 7,
      "outputs": [
        {
          "output_type": "stream",
          "text": [
            "[*********************100%***********************]  1 of 1 completed\n",
            "[*********************100%***********************]  1 of 1 completed\n",
            "[*********************100%***********************]  1 of 1 completed\n",
            "[*********************100%***********************]  1 of 1 completed\n",
            "[*********************100%***********************]  1 of 1 completed\n",
            "[*********************100%***********************]  1 of 1 completed\n",
            "[*********************100%***********************]  1 of 1 completed\n",
            "[*********************100%***********************]  1 of 1 completed\n",
            "[*********************100%***********************]  1 of 1 completed\n",
            "[*********************100%***********************]  1 of 1 completed\n",
            "[*********************100%***********************]  1 of 1 completed\n",
            "[*********************100%***********************]  1 of 1 completed\n",
            "[*********************100%***********************]  1 of 1 completed\n",
            "[*********************100%***********************]  1 of 1 completed\n",
            "[*********************100%***********************]  1 of 1 completed\n",
            "[*********************100%***********************]  1 of 1 completed\n",
            "[*********************100%***********************]  1 of 1 completed\n",
            "[*********************100%***********************]  1 of 1 completed\n",
            "[*********************100%***********************]  1 of 1 completed\n",
            "[*********************100%***********************]  1 of 1 completed\n",
            "[*********************100%***********************]  1 of 1 completed\n",
            "[*********************100%***********************]  1 of 1 completed\n",
            "[*********************100%***********************]  1 of 1 completed\n",
            "[*********************100%***********************]  1 of 1 completed\n",
            "[*********************100%***********************]  1 of 1 completed\n",
            "[*********************100%***********************]  1 of 1 completed\n",
            "[*********************100%***********************]  1 of 1 completed\n",
            "[*********************100%***********************]  1 of 1 completed\n",
            "[*********************100%***********************]  1 of 1 completed\n",
            "[*********************100%***********************]  1 of 1 completed\n",
            "Shape of DataFrame:  (88680, 7)\n"
          ],
          "name": "stdout"
        }
      ]
    },
    {
      "cell_type": "code",
      "metadata": {
        "id": "CV3HrZHLh1hy",
        "colab": {
          "base_uri": "https://localhost:8080/"
        },
        "outputId": "5d5fca3b-18ed-4d2d-fdad-4a9985ef309c"
      },
      "source": [
        "df.shape"
      ],
      "execution_count": 8,
      "outputs": [
        {
          "output_type": "execute_result",
          "data": {
            "text/plain": [
              "(88680, 7)"
            ]
          },
          "metadata": {
            "tags": []
          },
          "execution_count": 8
        }
      ]
    },
    {
      "cell_type": "code",
      "metadata": {
        "colab": {
          "base_uri": "https://localhost:8080/",
          "height": 194
        },
        "id": "4hYkeaPiICHS",
        "outputId": "daac8c41-3fcf-4b89-d943-bbf94565912a"
      },
      "source": [
        "df.sort_values(['date','tic'],ignore_index=True).head()"
      ],
      "execution_count": 9,
      "outputs": [
        {
          "output_type": "execute_result",
          "data": {
            "text/html": [
              "<div>\n",
              "<style scoped>\n",
              "    .dataframe tbody tr th:only-of-type {\n",
              "        vertical-align: middle;\n",
              "    }\n",
              "\n",
              "    .dataframe tbody tr th {\n",
              "        vertical-align: top;\n",
              "    }\n",
              "\n",
              "    .dataframe thead th {\n",
              "        text-align: right;\n",
              "    }\n",
              "</style>\n",
              "<table border=\"1\" class=\"dataframe\">\n",
              "  <thead>\n",
              "    <tr style=\"text-align: right;\">\n",
              "      <th></th>\n",
              "      <th>date</th>\n",
              "      <th>open</th>\n",
              "      <th>high</th>\n",
              "      <th>low</th>\n",
              "      <th>close</th>\n",
              "      <th>volume</th>\n",
              "      <th>tic</th>\n",
              "    </tr>\n",
              "  </thead>\n",
              "  <tbody>\n",
              "    <tr>\n",
              "      <th>0</th>\n",
              "      <td>2009-01-02</td>\n",
              "      <td>3.067143</td>\n",
              "      <td>3.251429</td>\n",
              "      <td>3.041429</td>\n",
              "      <td>2.773207</td>\n",
              "      <td>746015200.0</td>\n",
              "      <td>AAPL</td>\n",
              "    </tr>\n",
              "    <tr>\n",
              "      <th>1</th>\n",
              "      <td>2009-01-02</td>\n",
              "      <td>18.570000</td>\n",
              "      <td>19.520000</td>\n",
              "      <td>18.400000</td>\n",
              "      <td>15.800624</td>\n",
              "      <td>10955700.0</td>\n",
              "      <td>AXP</td>\n",
              "    </tr>\n",
              "    <tr>\n",
              "      <th>2</th>\n",
              "      <td>2009-01-02</td>\n",
              "      <td>42.799999</td>\n",
              "      <td>45.560001</td>\n",
              "      <td>42.779999</td>\n",
              "      <td>33.680935</td>\n",
              "      <td>7010200.0</td>\n",
              "      <td>BA</td>\n",
              "    </tr>\n",
              "    <tr>\n",
              "      <th>3</th>\n",
              "      <td>2009-01-02</td>\n",
              "      <td>44.910000</td>\n",
              "      <td>46.980000</td>\n",
              "      <td>44.709999</td>\n",
              "      <td>32.514400</td>\n",
              "      <td>7117200.0</td>\n",
              "      <td>CAT</td>\n",
              "    </tr>\n",
              "    <tr>\n",
              "      <th>4</th>\n",
              "      <td>2009-01-02</td>\n",
              "      <td>16.410000</td>\n",
              "      <td>17.000000</td>\n",
              "      <td>16.250000</td>\n",
              "      <td>12.786087</td>\n",
              "      <td>40980600.0</td>\n",
              "      <td>CSCO</td>\n",
              "    </tr>\n",
              "  </tbody>\n",
              "</table>\n",
              "</div>"
            ],
            "text/plain": [
              "         date       open       high        low      close       volume   tic\n",
              "0  2009-01-02   3.067143   3.251429   3.041429   2.773207  746015200.0  AAPL\n",
              "1  2009-01-02  18.570000  19.520000  18.400000  15.800624   10955700.0   AXP\n",
              "2  2009-01-02  42.799999  45.560001  42.779999  33.680935    7010200.0    BA\n",
              "3  2009-01-02  44.910000  46.980000  44.709999  32.514400    7117200.0   CAT\n",
              "4  2009-01-02  16.410000  17.000000  16.250000  12.786087   40980600.0  CSCO"
            ]
          },
          "metadata": {
            "tags": []
          },
          "execution_count": 9
        }
      ]
    },
    {
      "cell_type": "markdown",
      "metadata": {
        "id": "uqC6c40Zh1iH"
      },
      "source": [
        "# Part 4: Preprocess Data\n",
        "Data preprocessing is a crucial step for training a high quality machine learning model. We need to check for missing data and do feature engineering in order to convert the data into a model-ready state.\n",
        "* Add technical indicators. In practical trading, various information needs to be taken into account, for example the historical stock prices, current holding shares, technical indicators, etc. In this article, we demonstrate two trend-following technical indicators: MACD and RSI.\n",
        "* Add turbulence index. Risk-aversion reflects whether an investor will choose to preserve the capital. It also influences one's trading strategy when facing different market volatility level. To control the risk in a worst-case scenario, such as financial crisis of 2007–2008, FinRL employs the financial turbulence index that measures extreme asset price fluctuation."
      ]
    },
    {
      "cell_type": "code",
      "metadata": {
        "id": "Le342Hc1h1iI",
        "colab": {
          "base_uri": "https://localhost:8080/"
        },
        "outputId": "9693670c-7949-43a0-dc33-d7204b243d45"
      },
      "source": [
        "df = FeatureEngineer(df.copy(),\n",
        "                    use_technical_indicator=True,\n",
        "                    tech_indicator_list = config.TECHNICAL_INDICATORS_LIST,\n",
        "                    use_turbulence=True,\n",
        "                    user_defined_feature = False).preprocess_data()"
      ],
      "execution_count": 10,
      "outputs": [
        {
          "output_type": "stream",
          "text": [
            "Successfully added technical indicators\n",
            "Successfully added turbulence index\n"
          ],
          "name": "stdout"
        }
      ]
    },
    {
      "cell_type": "code",
      "metadata": {
        "colab": {
          "base_uri": "https://localhost:8080/",
          "height": 340
        },
        "id": "grvhGJJII3Xn",
        "outputId": "6dbb7433-b730-4ddc-b770-4b5b1d9a042e"
      },
      "source": [
        "df.sort_values(['date','tic'],ignore_index=True).head(10)"
      ],
      "execution_count": 11,
      "outputs": [
        {
          "output_type": "execute_result",
          "data": {
            "text/html": [
              "<div>\n",
              "<style scoped>\n",
              "    .dataframe tbody tr th:only-of-type {\n",
              "        vertical-align: middle;\n",
              "    }\n",
              "\n",
              "    .dataframe tbody tr th {\n",
              "        vertical-align: top;\n",
              "    }\n",
              "\n",
              "    .dataframe thead th {\n",
              "        text-align: right;\n",
              "    }\n",
              "</style>\n",
              "<table border=\"1\" class=\"dataframe\">\n",
              "  <thead>\n",
              "    <tr style=\"text-align: right;\">\n",
              "      <th></th>\n",
              "      <th>date</th>\n",
              "      <th>open</th>\n",
              "      <th>high</th>\n",
              "      <th>low</th>\n",
              "      <th>close</th>\n",
              "      <th>volume</th>\n",
              "      <th>tic</th>\n",
              "      <th>macd</th>\n",
              "      <th>rsi_30</th>\n",
              "      <th>cci_30</th>\n",
              "      <th>dx_30</th>\n",
              "      <th>turbulence</th>\n",
              "    </tr>\n",
              "  </thead>\n",
              "  <tbody>\n",
              "    <tr>\n",
              "      <th>0</th>\n",
              "      <td>2009-01-02</td>\n",
              "      <td>3.067143</td>\n",
              "      <td>3.251429</td>\n",
              "      <td>3.041429</td>\n",
              "      <td>2.773207</td>\n",
              "      <td>746015200.0</td>\n",
              "      <td>AAPL</td>\n",
              "      <td>0.0</td>\n",
              "      <td>100.0</td>\n",
              "      <td>66.666667</td>\n",
              "      <td>100.0</td>\n",
              "      <td>0.0</td>\n",
              "    </tr>\n",
              "    <tr>\n",
              "      <th>1</th>\n",
              "      <td>2009-01-02</td>\n",
              "      <td>18.570000</td>\n",
              "      <td>19.520000</td>\n",
              "      <td>18.400000</td>\n",
              "      <td>15.800624</td>\n",
              "      <td>10955700.0</td>\n",
              "      <td>AXP</td>\n",
              "      <td>0.0</td>\n",
              "      <td>100.0</td>\n",
              "      <td>66.666667</td>\n",
              "      <td>100.0</td>\n",
              "      <td>0.0</td>\n",
              "    </tr>\n",
              "    <tr>\n",
              "      <th>2</th>\n",
              "      <td>2009-01-02</td>\n",
              "      <td>42.799999</td>\n",
              "      <td>45.560001</td>\n",
              "      <td>42.779999</td>\n",
              "      <td>33.680935</td>\n",
              "      <td>7010200.0</td>\n",
              "      <td>BA</td>\n",
              "      <td>0.0</td>\n",
              "      <td>100.0</td>\n",
              "      <td>66.666667</td>\n",
              "      <td>100.0</td>\n",
              "      <td>0.0</td>\n",
              "    </tr>\n",
              "    <tr>\n",
              "      <th>3</th>\n",
              "      <td>2009-01-02</td>\n",
              "      <td>44.910000</td>\n",
              "      <td>46.980000</td>\n",
              "      <td>44.709999</td>\n",
              "      <td>32.514400</td>\n",
              "      <td>7117200.0</td>\n",
              "      <td>CAT</td>\n",
              "      <td>0.0</td>\n",
              "      <td>100.0</td>\n",
              "      <td>66.666667</td>\n",
              "      <td>100.0</td>\n",
              "      <td>0.0</td>\n",
              "    </tr>\n",
              "    <tr>\n",
              "      <th>4</th>\n",
              "      <td>2009-01-02</td>\n",
              "      <td>16.410000</td>\n",
              "      <td>17.000000</td>\n",
              "      <td>16.250000</td>\n",
              "      <td>12.786087</td>\n",
              "      <td>40980600.0</td>\n",
              "      <td>CSCO</td>\n",
              "      <td>0.0</td>\n",
              "      <td>100.0</td>\n",
              "      <td>66.666667</td>\n",
              "      <td>100.0</td>\n",
              "      <td>0.0</td>\n",
              "    </tr>\n",
              "    <tr>\n",
              "      <th>5</th>\n",
              "      <td>2009-01-02</td>\n",
              "      <td>74.230003</td>\n",
              "      <td>77.300003</td>\n",
              "      <td>73.580002</td>\n",
              "      <td>48.043262</td>\n",
              "      <td>13695900.0</td>\n",
              "      <td>CVX</td>\n",
              "      <td>0.0</td>\n",
              "      <td>100.0</td>\n",
              "      <td>66.666667</td>\n",
              "      <td>100.0</td>\n",
              "      <td>0.0</td>\n",
              "    </tr>\n",
              "    <tr>\n",
              "      <th>6</th>\n",
              "      <td>2009-01-02</td>\n",
              "      <td>21.605234</td>\n",
              "      <td>22.060680</td>\n",
              "      <td>20.993229</td>\n",
              "      <td>14.527276</td>\n",
              "      <td>13251000.0</td>\n",
              "      <td>DD</td>\n",
              "      <td>0.0</td>\n",
              "      <td>100.0</td>\n",
              "      <td>66.666667</td>\n",
              "      <td>100.0</td>\n",
              "      <td>0.0</td>\n",
              "    </tr>\n",
              "    <tr>\n",
              "      <th>7</th>\n",
              "      <td>2009-01-02</td>\n",
              "      <td>22.760000</td>\n",
              "      <td>24.030001</td>\n",
              "      <td>22.500000</td>\n",
              "      <td>20.597496</td>\n",
              "      <td>9796600.0</td>\n",
              "      <td>DIS</td>\n",
              "      <td>0.0</td>\n",
              "      <td>100.0</td>\n",
              "      <td>66.666667</td>\n",
              "      <td>100.0</td>\n",
              "      <td>0.0</td>\n",
              "    </tr>\n",
              "    <tr>\n",
              "      <th>8</th>\n",
              "      <td>2009-01-02</td>\n",
              "      <td>84.019997</td>\n",
              "      <td>87.620003</td>\n",
              "      <td>82.190002</td>\n",
              "      <td>72.844467</td>\n",
              "      <td>14088500.0</td>\n",
              "      <td>GS</td>\n",
              "      <td>0.0</td>\n",
              "      <td>100.0</td>\n",
              "      <td>66.666667</td>\n",
              "      <td>100.0</td>\n",
              "      <td>0.0</td>\n",
              "    </tr>\n",
              "    <tr>\n",
              "      <th>9</th>\n",
              "      <td>2009-01-02</td>\n",
              "      <td>23.070000</td>\n",
              "      <td>24.190001</td>\n",
              "      <td>22.959999</td>\n",
              "      <td>17.909452</td>\n",
              "      <td>14902500.0</td>\n",
              "      <td>HD</td>\n",
              "      <td>0.0</td>\n",
              "      <td>100.0</td>\n",
              "      <td>66.666667</td>\n",
              "      <td>100.0</td>\n",
              "      <td>0.0</td>\n",
              "    </tr>\n",
              "  </tbody>\n",
              "</table>\n",
              "</div>"
            ],
            "text/plain": [
              "         date       open       high  ...     cci_30  dx_30  turbulence\n",
              "0  2009-01-02   3.067143   3.251429  ...  66.666667  100.0         0.0\n",
              "1  2009-01-02  18.570000  19.520000  ...  66.666667  100.0         0.0\n",
              "2  2009-01-02  42.799999  45.560001  ...  66.666667  100.0         0.0\n",
              "3  2009-01-02  44.910000  46.980000  ...  66.666667  100.0         0.0\n",
              "4  2009-01-02  16.410000  17.000000  ...  66.666667  100.0         0.0\n",
              "5  2009-01-02  74.230003  77.300003  ...  66.666667  100.0         0.0\n",
              "6  2009-01-02  21.605234  22.060680  ...  66.666667  100.0         0.0\n",
              "7  2009-01-02  22.760000  24.030001  ...  66.666667  100.0         0.0\n",
              "8  2009-01-02  84.019997  87.620003  ...  66.666667  100.0         0.0\n",
              "9  2009-01-02  23.070000  24.190001  ...  66.666667  100.0         0.0\n",
              "\n",
              "[10 rows x 12 columns]"
            ]
          },
          "metadata": {
            "tags": []
          },
          "execution_count": 11
        }
      ]
    },
    {
      "cell_type": "markdown",
      "metadata": {
        "id": "-QsYaY0Dh1iw"
      },
      "source": [
        "<a id='4'></a>\n",
        "# Part 5. Design Environment\n",
        "Considering the stochastic and interactive nature of the automated stock trading tasks, a financial task is modeled as a **Markov Decision Process (MDP)** problem. The training process involves observing stock price change, taking an action and reward's calculation to have the agent adjusting its strategy accordingly. By interacting with the environment, the trading agent will derive a trading strategy with the maximized rewards as time proceeds.\n",
        "\n",
        "Our trading environments, based on OpenAI Gym framework, simulate live stock markets with real market data according to the principle of time-driven simulation.\n",
        "\n",
        "The action space describes the allowed actions that the agent interacts with the environment. Normally, action a includes three actions: {-1, 0, 1}, where -1, 0, 1 represent selling, holding, and buying one share. Also, an action can be carried upon multiple shares. We use an action space {-k,…,-1, 0, 1, …, k}, where k denotes the number of shares to buy and -k denotes the number of shares to sell. For example, \"Buy 10 shares of AAPL\" or \"Sell 10 shares of AAPL\" are 10 or -10, respectively. The continuous action space needs to be normalized to [-1, 1], since the policy is defined on a Gaussian distribution, which needs to be normalized and symmetric."
      ]
    },
    {
      "cell_type": "markdown",
      "metadata": {
        "id": "5TOhcryx44bb"
      },
      "source": [
        "## Training data split: 2009-01-01 to 2018-12-31\n",
        "## Trade data split: 2019-01-01 to 2020-09-30"
      ]
    },
    {
      "cell_type": "code",
      "metadata": {
        "id": "W0qaVGjLtgbI"
      },
      "source": [
        "train = data_split(df, config.START_DATE,config.START_TRADE_DATE)\n",
        "trade = data_split(df,config.START_TRADE_DATE,config.END_DATE)\n"
      ],
      "execution_count": 12,
      "outputs": []
    },
    {
      "cell_type": "code",
      "metadata": {
        "id": "p52zNCOhTtLR",
        "colab": {
          "base_uri": "https://localhost:8080/",
          "height": 194
        },
        "outputId": "1291829c-b31f-4635-fe41-c6a02eff87f7"
      },
      "source": [
        "train.head()"
      ],
      "execution_count": 13,
      "outputs": [
        {
          "output_type": "execute_result",
          "data": {
            "text/html": [
              "<div>\n",
              "<style scoped>\n",
              "    .dataframe tbody tr th:only-of-type {\n",
              "        vertical-align: middle;\n",
              "    }\n",
              "\n",
              "    .dataframe tbody tr th {\n",
              "        vertical-align: top;\n",
              "    }\n",
              "\n",
              "    .dataframe thead th {\n",
              "        text-align: right;\n",
              "    }\n",
              "</style>\n",
              "<table border=\"1\" class=\"dataframe\">\n",
              "  <thead>\n",
              "    <tr style=\"text-align: right;\">\n",
              "      <th></th>\n",
              "      <th>date</th>\n",
              "      <th>open</th>\n",
              "      <th>high</th>\n",
              "      <th>low</th>\n",
              "      <th>close</th>\n",
              "      <th>volume</th>\n",
              "      <th>tic</th>\n",
              "      <th>macd</th>\n",
              "      <th>rsi_30</th>\n",
              "      <th>cci_30</th>\n",
              "      <th>dx_30</th>\n",
              "      <th>turbulence</th>\n",
              "    </tr>\n",
              "  </thead>\n",
              "  <tbody>\n",
              "    <tr>\n",
              "      <th>0</th>\n",
              "      <td>2009-01-02</td>\n",
              "      <td>3.067143</td>\n",
              "      <td>3.251429</td>\n",
              "      <td>3.041429</td>\n",
              "      <td>2.773207</td>\n",
              "      <td>746015200.0</td>\n",
              "      <td>AAPL</td>\n",
              "      <td>0.0</td>\n",
              "      <td>100.0</td>\n",
              "      <td>66.666667</td>\n",
              "      <td>100.0</td>\n",
              "      <td>0.0</td>\n",
              "    </tr>\n",
              "    <tr>\n",
              "      <th>0</th>\n",
              "      <td>2009-01-02</td>\n",
              "      <td>18.570000</td>\n",
              "      <td>19.520000</td>\n",
              "      <td>18.400000</td>\n",
              "      <td>15.800624</td>\n",
              "      <td>10955700.0</td>\n",
              "      <td>AXP</td>\n",
              "      <td>0.0</td>\n",
              "      <td>100.0</td>\n",
              "      <td>66.666667</td>\n",
              "      <td>100.0</td>\n",
              "      <td>0.0</td>\n",
              "    </tr>\n",
              "    <tr>\n",
              "      <th>0</th>\n",
              "      <td>2009-01-02</td>\n",
              "      <td>42.799999</td>\n",
              "      <td>45.560001</td>\n",
              "      <td>42.779999</td>\n",
              "      <td>33.680935</td>\n",
              "      <td>7010200.0</td>\n",
              "      <td>BA</td>\n",
              "      <td>0.0</td>\n",
              "      <td>100.0</td>\n",
              "      <td>66.666667</td>\n",
              "      <td>100.0</td>\n",
              "      <td>0.0</td>\n",
              "    </tr>\n",
              "    <tr>\n",
              "      <th>0</th>\n",
              "      <td>2009-01-02</td>\n",
              "      <td>44.910000</td>\n",
              "      <td>46.980000</td>\n",
              "      <td>44.709999</td>\n",
              "      <td>32.514400</td>\n",
              "      <td>7117200.0</td>\n",
              "      <td>CAT</td>\n",
              "      <td>0.0</td>\n",
              "      <td>100.0</td>\n",
              "      <td>66.666667</td>\n",
              "      <td>100.0</td>\n",
              "      <td>0.0</td>\n",
              "    </tr>\n",
              "    <tr>\n",
              "      <th>0</th>\n",
              "      <td>2009-01-02</td>\n",
              "      <td>16.410000</td>\n",
              "      <td>17.000000</td>\n",
              "      <td>16.250000</td>\n",
              "      <td>12.786087</td>\n",
              "      <td>40980600.0</td>\n",
              "      <td>CSCO</td>\n",
              "      <td>0.0</td>\n",
              "      <td>100.0</td>\n",
              "      <td>66.666667</td>\n",
              "      <td>100.0</td>\n",
              "      <td>0.0</td>\n",
              "    </tr>\n",
              "  </tbody>\n",
              "</table>\n",
              "</div>"
            ],
            "text/plain": [
              "         date       open       high  ...     cci_30  dx_30  turbulence\n",
              "0  2009-01-02   3.067143   3.251429  ...  66.666667  100.0         0.0\n",
              "0  2009-01-02  18.570000  19.520000  ...  66.666667  100.0         0.0\n",
              "0  2009-01-02  42.799999  45.560001  ...  66.666667  100.0         0.0\n",
              "0  2009-01-02  44.910000  46.980000  ...  66.666667  100.0         0.0\n",
              "0  2009-01-02  16.410000  17.000000  ...  66.666667  100.0         0.0\n",
              "\n",
              "[5 rows x 12 columns]"
            ]
          },
          "metadata": {
            "tags": []
          },
          "execution_count": 13
        }
      ]
    },
    {
      "cell_type": "code",
      "metadata": {
        "id": "k9zU9YaTTvFq",
        "colab": {
          "base_uri": "https://localhost:8080/",
          "height": 194
        },
        "outputId": "010af00a-d138-4748-c76b-39f7b5d81c9d"
      },
      "source": [
        "trade.head()"
      ],
      "execution_count": 14,
      "outputs": [
        {
          "output_type": "execute_result",
          "data": {
            "text/html": [
              "<div>\n",
              "<style scoped>\n",
              "    .dataframe tbody tr th:only-of-type {\n",
              "        vertical-align: middle;\n",
              "    }\n",
              "\n",
              "    .dataframe tbody tr th {\n",
              "        vertical-align: top;\n",
              "    }\n",
              "\n",
              "    .dataframe thead th {\n",
              "        text-align: right;\n",
              "    }\n",
              "</style>\n",
              "<table border=\"1\" class=\"dataframe\">\n",
              "  <thead>\n",
              "    <tr style=\"text-align: right;\">\n",
              "      <th></th>\n",
              "      <th>date</th>\n",
              "      <th>open</th>\n",
              "      <th>high</th>\n",
              "      <th>low</th>\n",
              "      <th>close</th>\n",
              "      <th>volume</th>\n",
              "      <th>tic</th>\n",
              "      <th>macd</th>\n",
              "      <th>rsi_30</th>\n",
              "      <th>cci_30</th>\n",
              "      <th>dx_30</th>\n",
              "      <th>turbulence</th>\n",
              "    </tr>\n",
              "  </thead>\n",
              "  <tbody>\n",
              "    <tr>\n",
              "      <th>0</th>\n",
              "      <td>2019-01-02</td>\n",
              "      <td>38.722500</td>\n",
              "      <td>39.712502</td>\n",
              "      <td>38.557499</td>\n",
              "      <td>38.249401</td>\n",
              "      <td>148158800.0</td>\n",
              "      <td>AAPL</td>\n",
              "      <td>-2.003499</td>\n",
              "      <td>37.867367</td>\n",
              "      <td>-91.588048</td>\n",
              "      <td>42.250808</td>\n",
              "      <td>119.879152</td>\n",
              "    </tr>\n",
              "    <tr>\n",
              "      <th>0</th>\n",
              "      <td>2019-01-02</td>\n",
              "      <td>93.910004</td>\n",
              "      <td>96.269997</td>\n",
              "      <td>93.769997</td>\n",
              "      <td>92.643311</td>\n",
              "      <td>4175400.0</td>\n",
              "      <td>AXP</td>\n",
              "      <td>-3.426008</td>\n",
              "      <td>41.204982</td>\n",
              "      <td>-97.742269</td>\n",
              "      <td>26.709417</td>\n",
              "      <td>119.879152</td>\n",
              "    </tr>\n",
              "    <tr>\n",
              "      <th>0</th>\n",
              "      <td>2019-01-02</td>\n",
              "      <td>316.190002</td>\n",
              "      <td>323.950012</td>\n",
              "      <td>313.709991</td>\n",
              "      <td>314.645142</td>\n",
              "      <td>3292200.0</td>\n",
              "      <td>BA</td>\n",
              "      <td>-5.550592</td>\n",
              "      <td>47.010000</td>\n",
              "      <td>-21.712382</td>\n",
              "      <td>13.611972</td>\n",
              "      <td>119.879152</td>\n",
              "    </tr>\n",
              "    <tr>\n",
              "      <th>0</th>\n",
              "      <td>2019-01-02</td>\n",
              "      <td>124.029999</td>\n",
              "      <td>127.879997</td>\n",
              "      <td>123.000000</td>\n",
              "      <td>119.302582</td>\n",
              "      <td>4783200.0</td>\n",
              "      <td>CAT</td>\n",
              "      <td>-0.686759</td>\n",
              "      <td>48.229089</td>\n",
              "      <td>-5.091209</td>\n",
              "      <td>0.873482</td>\n",
              "      <td>119.879152</td>\n",
              "    </tr>\n",
              "    <tr>\n",
              "      <th>0</th>\n",
              "      <td>2019-01-02</td>\n",
              "      <td>42.279999</td>\n",
              "      <td>43.200001</td>\n",
              "      <td>42.209999</td>\n",
              "      <td>40.382099</td>\n",
              "      <td>23833500.0</td>\n",
              "      <td>CSCO</td>\n",
              "      <td>-0.960061</td>\n",
              "      <td>44.872557</td>\n",
              "      <td>-87.496850</td>\n",
              "      <td>29.529377</td>\n",
              "      <td>119.879152</td>\n",
              "    </tr>\n",
              "  </tbody>\n",
              "</table>\n",
              "</div>"
            ],
            "text/plain": [
              "         date        open        high  ...     cci_30      dx_30  turbulence\n",
              "0  2019-01-02   38.722500   39.712502  ... -91.588048  42.250808  119.879152\n",
              "0  2019-01-02   93.910004   96.269997  ... -97.742269  26.709417  119.879152\n",
              "0  2019-01-02  316.190002  323.950012  ... -21.712382  13.611972  119.879152\n",
              "0  2019-01-02  124.029999  127.879997  ...  -5.091209   0.873482  119.879152\n",
              "0  2019-01-02   42.279999   43.200001  ... -87.496850  29.529377  119.879152\n",
              "\n",
              "[5 rows x 12 columns]"
            ]
          },
          "metadata": {
            "tags": []
          },
          "execution_count": 14
        }
      ]
    },
    {
      "cell_type": "code",
      "metadata": {
        "id": "Q2zqII8rMIqn"
      },
      "source": [
        "stock_dimension = len(train.tic.unique())\n",
        "state_space = 1 + 2*stock_dimension + len(config.TECHNICAL_INDICATORS_LIST)*stock_dimension"
      ],
      "execution_count": 15,
      "outputs": []
    },
    {
      "cell_type": "code",
      "metadata": {
        "id": "AWyp84Ltto19"
      },
      "source": [
        "env_setup = EnvSetup(stock_dim = stock_dimension,\n",
        "                        state_space = state_space,\n",
        "                        hmax = 100,\n",
        "                        initial_amount = 1000000,\n",
        "                        transaction_cost_pct = 0.001)"
      ],
      "execution_count": 16,
      "outputs": []
    },
    {
      "cell_type": "markdown",
      "metadata": {
        "id": "64EoqOrQjiVf"
      },
      "source": [
        "## Environment for Training\n",
        "\n"
      ]
    },
    {
      "cell_type": "code",
      "metadata": {
        "id": "xwSvvPjutpqS"
      },
      "source": [
        "env_train = env_setup.create_env_training(data = train,\n",
        "                                          env_class = StockEnvTrain)"
      ],
      "execution_count": 17,
      "outputs": []
    },
    {
      "cell_type": "markdown",
      "metadata": {
        "id": "4QrezXm3jwu4"
      },
      "source": [
        "## Environment for Trading\n",
        "\n"
      ]
    },
    {
      "cell_type": "code",
      "metadata": {
        "id": "5_2x5PwMtqoN"
      },
      "source": [
        "env_trade, obs_trade = env_setup.create_env_trading(data = trade,\n",
        "                                         env_class = StockEnvTrade) "
      ],
      "execution_count": 18,
      "outputs": []
    },
    {
      "cell_type": "markdown",
      "metadata": {
        "id": "HMNR5nHjh1iz"
      },
      "source": [
        "<a id='5'></a>\n",
        "# Part 6: Implement DRL Algorithms\n",
        "* The implementation of the DRL algorithms are based on **OpenAI Baselines** and **Stable Baselines**. Stable Baselines is a fork of OpenAI Baselines, with a major structural refactoring, and code cleanups.\n",
        "* FinRL library includes fine-tuned standard DRL algorithms, such as DQN, DDPG,\n",
        "Multi-Agent DDPG, PPO, SAC, A2C and TD3. We also allow users to\n",
        "design their own DRL algorithms by adapting these DRL algorithms."
      ]
    },
    {
      "cell_type": "code",
      "metadata": {
        "id": "364PsqckttcQ"
      },
      "source": [
        "agent = DRLAgent(env = env_train)"
      ],
      "execution_count": 19,
      "outputs": []
    },
    {
      "cell_type": "markdown",
      "metadata": {
        "id": "YDmqOyF9h1iz"
      },
      "source": [
        "### Model Training: 5 models, A2C DDPG, PPO, TD3, SAC\n"
      ]
    },
    {
      "cell_type": "markdown",
      "metadata": {
        "id": "uijiWgkuh1jB"
      },
      "source": [
        "### Model 1: A2C\n"
      ]
    },
    {
      "cell_type": "code",
      "metadata": {
        "id": "tDLXWsDctyuz",
        "colab": {
          "base_uri": "https://localhost:8080/"
        },
        "outputId": "0f05cd32-0dc3-440e-da0d-76fe4d4c35ae"
      },
      "source": [
        "print(\"==============Model Training===========\")\n",
        "now = datetime.datetime.now().strftime('%Y%m%d-%Hh%M')\n",
        "a2c_params_tuning = {'n_steps':5, \n",
        "\t\t\t  'ent_coef':0.005, \n",
        "\t\t\t  'learning_rate':0.0002,\n",
        "\t\t\t  'verbose':0,\n",
        "\t\t\t  'timesteps':150000}\n",
        "model_a2c = agent.train_A2C(model_name = \"A2C_{}\".format(now), model_params = a2c_params_tuning)"
      ],
      "execution_count": 20,
      "outputs": [
        {
          "output_type": "stream",
          "text": [
            "==============Model Training===========\n",
            "WARNING:tensorflow:From /usr/local/lib/python3.6/dist-packages/stable_baselines/common/tf_util.py:191: The name tf.ConfigProto is deprecated. Please use tf.compat.v1.ConfigProto instead.\n",
            "\n",
            "WARNING:tensorflow:From /usr/local/lib/python3.6/dist-packages/stable_baselines/common/tf_util.py:200: The name tf.Session is deprecated. Please use tf.compat.v1.Session instead.\n",
            "\n",
            "WARNING:tensorflow:From /usr/local/lib/python3.6/dist-packages/stable_baselines/common/policies.py:116: The name tf.variable_scope is deprecated. Please use tf.compat.v1.variable_scope instead.\n",
            "\n",
            "WARNING:tensorflow:From /usr/local/lib/python3.6/dist-packages/stable_baselines/common/input.py:25: The name tf.placeholder is deprecated. Please use tf.compat.v1.placeholder instead.\n",
            "\n",
            "WARNING:tensorflow:From /usr/local/lib/python3.6/dist-packages/stable_baselines/common/policies.py:561: flatten (from tensorflow.python.layers.core) is deprecated and will be removed in a future version.\n",
            "Instructions for updating:\n",
            "Use keras.layers.flatten instead.\n",
            "WARNING:tensorflow:From /usr/local/lib/python3.6/dist-packages/tensorflow_core/python/layers/core.py:332: Layer.apply (from tensorflow.python.keras.engine.base_layer) is deprecated and will be removed in a future version.\n",
            "Instructions for updating:\n",
            "Please use `layer.__call__` method instead.\n",
            "WARNING:tensorflow:From /usr/local/lib/python3.6/dist-packages/stable_baselines/common/tf_layers.py:123: The name tf.get_variable is deprecated. Please use tf.compat.v1.get_variable instead.\n",
            "\n",
            "WARNING:tensorflow:From /usr/local/lib/python3.6/dist-packages/stable_baselines/common/distributions.py:418: The name tf.random_normal is deprecated. Please use tf.random.normal instead.\n",
            "\n",
            "WARNING:tensorflow:From /usr/local/lib/python3.6/dist-packages/stable_baselines/a2c/a2c.py:160: The name tf.summary.scalar is deprecated. Please use tf.compat.v1.summary.scalar instead.\n",
            "\n",
            "WARNING:tensorflow:From /usr/local/lib/python3.6/dist-packages/stable_baselines/common/tf_util.py:449: The name tf.get_collection is deprecated. Please use tf.compat.v1.get_collection instead.\n",
            "\n",
            "WARNING:tensorflow:From /usr/local/lib/python3.6/dist-packages/stable_baselines/common/tf_util.py:449: The name tf.GraphKeys is deprecated. Please use tf.compat.v1.GraphKeys instead.\n",
            "\n",
            "WARNING:tensorflow:From /usr/local/lib/python3.6/dist-packages/tensorflow_core/python/ops/clip_ops.py:301: where (from tensorflow.python.ops.array_ops) is deprecated and will be removed in a future version.\n",
            "Instructions for updating:\n",
            "Use tf.where in 2.0, which has the same broadcast rule as np.where\n",
            "WARNING:tensorflow:From /usr/local/lib/python3.6/dist-packages/stable_baselines/a2c/a2c.py:184: The name tf.train.RMSPropOptimizer is deprecated. Please use tf.compat.v1.train.RMSPropOptimizer instead.\n",
            "\n",
            "WARNING:tensorflow:From /usr/local/lib/python3.6/dist-packages/tensorflow_core/python/training/rmsprop.py:119: calling Ones.__init__ (from tensorflow.python.ops.init_ops) with dtype is deprecated and will be removed in a future version.\n",
            "Instructions for updating:\n",
            "Call initializer instance with the dtype argument instead of passing it to the constructor\n",
            "WARNING:tensorflow:From /usr/local/lib/python3.6/dist-packages/stable_baselines/a2c/a2c.py:194: The name tf.global_variables_initializer is deprecated. Please use tf.compat.v1.global_variables_initializer instead.\n",
            "\n",
            "WARNING:tensorflow:From /usr/local/lib/python3.6/dist-packages/stable_baselines/a2c/a2c.py:196: The name tf.summary.merge_all is deprecated. Please use tf.compat.v1.summary.merge_all instead.\n",
            "\n",
            "WARNING:tensorflow:From /usr/local/lib/python3.6/dist-packages/stable_baselines/common/base_class.py:1169: The name tf.summary.FileWriter is deprecated. Please use tf.compat.v1.summary.FileWriter instead.\n",
            "\n",
            "begin_total_asset:1000000\n",
            "end_total_asset:3605996.6659141653\n",
            "total_reward:2605996.6659141653\n",
            "total_cost:  275734.00335139607\n",
            "total_trades:  73865\n",
            "Sharpe:  0.9626489853183927\n",
            "=================================\n",
            "WARNING:tensorflow:From /usr/local/lib/python3.6/dist-packages/stable_baselines/common/tf_util.py:502: The name tf.Summary is deprecated. Please use tf.compat.v1.Summary instead.\n",
            "\n",
            "begin_total_asset:1000000\n",
            "end_total_asset:3552954.928867219\n",
            "total_reward:2552954.928867219\n",
            "total_cost:  266370.9790409698\n",
            "total_trades:  73004\n",
            "Sharpe:  1.0113200906121411\n",
            "=================================\n",
            "begin_total_asset:1000000\n",
            "end_total_asset:3249548.8683646433\n",
            "total_reward:2249548.8683646433\n",
            "total_cost:  228222.72378727136\n",
            "total_trades:  70391\n",
            "Sharpe:  0.9242875407934459\n",
            "=================================\n",
            "begin_total_asset:1000000\n",
            "end_total_asset:2357906.366346798\n",
            "total_reward:1357906.366346798\n",
            "total_cost:  206414.0705468426\n",
            "total_trades:  68857\n",
            "Sharpe:  0.6593778771633637\n",
            "=================================\n",
            "begin_total_asset:1000000\n",
            "end_total_asset:3287943.8468118953\n",
            "total_reward:2287943.8468118953\n",
            "total_cost:  179181.57111941322\n",
            "total_trades:  64639\n",
            "Sharpe:  0.8562900096303352\n",
            "=================================\n",
            "begin_total_asset:1000000\n",
            "end_total_asset:3494947.862266809\n",
            "total_reward:2494947.862266809\n",
            "total_cost:  174739.2755754179\n",
            "total_trades:  64707\n",
            "Sharpe:  0.906307705738782\n",
            "=================================\n",
            "begin_total_asset:1000000\n",
            "end_total_asset:3591192.2482325034\n",
            "total_reward:2591192.2482325034\n",
            "total_cost:  156041.64611652622\n",
            "total_trades:  62639\n",
            "Sharpe:  0.9188694455979736\n",
            "=================================\n",
            "begin_total_asset:1000000\n",
            "end_total_asset:3040632.79344251\n",
            "total_reward:2040632.79344251\n",
            "total_cost:  157235.75440988506\n",
            "total_trades:  61732\n",
            "Sharpe:  0.7894071358201487\n",
            "=================================\n",
            "begin_total_asset:1000000\n",
            "end_total_asset:2862412.3969787215\n",
            "total_reward:1862412.3969787215\n",
            "total_cost:  142400.0912698092\n",
            "total_trades:  59904\n",
            "Sharpe:  0.8148190355749301\n",
            "=================================\n",
            "begin_total_asset:1000000\n",
            "end_total_asset:2890963.6167609887\n",
            "total_reward:1890963.6167609887\n",
            "total_cost:  121988.05038442706\n",
            "total_trades:  58089\n",
            "Sharpe:  0.8574230436757125\n",
            "=================================\n",
            "begin_total_asset:1000000\n",
            "end_total_asset:3044553.8822564264\n",
            "total_reward:2044553.8822564264\n",
            "total_cost:  120604.62609479083\n",
            "total_trades:  56701\n",
            "Sharpe:  0.8242954520284909\n",
            "=================================\n",
            "begin_total_asset:1000000\n",
            "end_total_asset:2840480.502874468\n",
            "total_reward:1840480.502874468\n",
            "total_cost:  146848.1013766939\n",
            "total_trades:  59748\n",
            "Sharpe:  0.7876275485075434\n",
            "=================================\n",
            "begin_total_asset:1000000\n",
            "end_total_asset:3652596.1575332163\n",
            "total_reward:2652596.1575332163\n",
            "total_cost:  150377.9974933667\n",
            "total_trades:  60566\n",
            "Sharpe:  1.0275570664072509\n",
            "=================================\n",
            "begin_total_asset:1000000\n",
            "end_total_asset:3191929.0759009556\n",
            "total_reward:2191929.0759009556\n",
            "total_cost:  157163.21659182294\n",
            "total_trades:  61487\n",
            "Sharpe:  0.8967702827357759\n",
            "=================================\n",
            "begin_total_asset:1000000\n",
            "end_total_asset:4160988.0684503475\n",
            "total_reward:3160988.0684503475\n",
            "total_cost:  133035.66698285026\n",
            "total_trades:  58653\n",
            "Sharpe:  1.051334713393975\n",
            "=================================\n",
            "begin_total_asset:1000000\n",
            "end_total_asset:3964828.663547924\n",
            "total_reward:2964828.663547924\n",
            "total_cost:  128543.57456222798\n",
            "total_trades:  58896\n",
            "Sharpe:  0.9594070090373068\n",
            "=================================\n",
            "begin_total_asset:1000000\n",
            "end_total_asset:3180603.59473148\n",
            "total_reward:2180603.59473148\n",
            "total_cost:  140295.32420892848\n",
            "total_trades:  59590\n",
            "Sharpe:  0.823430923095796\n",
            "=================================\n",
            "begin_total_asset:1000000\n",
            "end_total_asset:4007540.013776086\n",
            "total_reward:3007540.013776086\n",
            "total_cost:  152338.17370410723\n",
            "total_trades:  61350\n",
            "Sharpe:  0.9938222365456582\n",
            "=================================\n",
            "begin_total_asset:1000000\n",
            "end_total_asset:3863992.8066045814\n",
            "total_reward:2863992.8066045814\n",
            "total_cost:  145279.86030250505\n",
            "total_trades:  59449\n",
            "Sharpe:  0.9947854006676057\n",
            "=================================\n",
            "begin_total_asset:1000000\n",
            "end_total_asset:3224128.4464739244\n",
            "total_reward:2224128.4464739244\n",
            "total_cost:  125589.56802778746\n",
            "total_trades:  56984\n",
            "Sharpe:  0.8725582512283203\n",
            "=================================\n",
            "begin_total_asset:1000000\n",
            "end_total_asset:4122111.8767968477\n",
            "total_reward:3122111.8767968477\n",
            "total_cost:  113968.2077172093\n",
            "total_trades:  54430\n",
            "Sharpe:  0.9430331734225954\n",
            "=================================\n",
            "begin_total_asset:1000000\n",
            "end_total_asset:4264919.635096329\n",
            "total_reward:3264919.6350963293\n",
            "total_cost:  132326.5761046414\n",
            "total_trades:  56630\n",
            "Sharpe:  0.9386650655387861\n",
            "=================================\n",
            "begin_total_asset:1000000\n",
            "end_total_asset:4651357.101768717\n",
            "total_reward:3651357.101768717\n",
            "total_cost:  135430.88286465418\n",
            "total_trades:  56363\n",
            "Sharpe:  0.972803424707679\n",
            "=================================\n",
            "begin_total_asset:1000000\n",
            "end_total_asset:3907486.785818862\n",
            "total_reward:2907486.785818862\n",
            "total_cost:  116702.38782376013\n",
            "total_trades:  53223\n",
            "Sharpe:  0.9191455665725532\n",
            "=================================\n",
            "begin_total_asset:1000000\n",
            "end_total_asset:3389737.3550827377\n",
            "total_reward:2389737.3550827377\n",
            "total_cost:  129836.7538677593\n",
            "total_trades:  54340\n",
            "Sharpe:  0.875058550377421\n",
            "=================================\n",
            "begin_total_asset:1000000\n",
            "end_total_asset:3542284.446562687\n",
            "total_reward:2542284.446562687\n",
            "total_cost:  125222.16620737736\n",
            "total_trades:  54113\n",
            "Sharpe:  0.8764327284994167\n",
            "=================================\n",
            "begin_total_asset:1000000\n",
            "end_total_asset:4407210.3067154065\n",
            "total_reward:3407210.3067154065\n",
            "total_cost:  97391.55634056081\n",
            "total_trades:  50522\n",
            "Sharpe:  1.007400101914233\n",
            "=================================\n",
            "begin_total_asset:1000000\n",
            "end_total_asset:4481958.0737737715\n",
            "total_reward:3481958.0737737715\n",
            "total_cost:  83290.18695161025\n",
            "total_trades:  48063\n",
            "Sharpe:  0.9814719855069701\n",
            "=================================\n",
            "begin_total_asset:1000000\n",
            "end_total_asset:4641614.434294159\n",
            "total_reward:3641614.4342941586\n",
            "total_cost:  67933.26285170225\n",
            "total_trades:  46429\n",
            "Sharpe:  0.9555406472359662\n",
            "=================================\n",
            "begin_total_asset:1000000\n",
            "end_total_asset:4224161.735147665\n",
            "total_reward:3224161.7351476653\n",
            "total_cost:  73774.78701245191\n",
            "total_trades:  46826\n",
            "Sharpe:  0.919936504778786\n",
            "=================================\n",
            "begin_total_asset:1000000\n",
            "end_total_asset:5216075.794645473\n",
            "total_reward:4216075.794645473\n",
            "total_cost:  109675.97635474271\n",
            "total_trades:  53683\n",
            "Sharpe:  1.1027236039777872\n",
            "=================================\n",
            "begin_total_asset:1000000\n",
            "end_total_asset:5812382.336316694\n",
            "total_reward:4812382.336316694\n",
            "total_cost:  124461.24855875602\n",
            "total_trades:  56792\n",
            "Sharpe:  1.1024044674497444\n",
            "=================================\n",
            "begin_total_asset:1000000\n",
            "end_total_asset:4328989.966747972\n",
            "total_reward:3328989.966747972\n",
            "total_cost:  101532.30632504038\n",
            "total_trades:  52887\n",
            "Sharpe:  0.9047151921220888\n",
            "=================================\n",
            "begin_total_asset:1000000\n",
            "end_total_asset:3999068.1958275777\n",
            "total_reward:2999068.1958275777\n",
            "total_cost:  112668.82951700987\n",
            "total_trades:  55165\n",
            "Sharpe:  0.8738967497701327\n",
            "=================================\n",
            "begin_total_asset:1000000\n",
            "end_total_asset:3407388.5232280507\n",
            "total_reward:2407388.5232280507\n",
            "total_cost:  122698.14874397083\n",
            "total_trades:  55643\n",
            "Sharpe:  0.8264216464529921\n",
            "=================================\n",
            "begin_total_asset:1000000\n",
            "end_total_asset:3227169.6284954306\n",
            "total_reward:2227169.6284954306\n",
            "total_cost:  120357.5658519596\n",
            "total_trades:  56877\n",
            "Sharpe:  0.8350987734756887\n",
            "=================================\n",
            "begin_total_asset:1000000\n",
            "end_total_asset:3637653.4319381295\n",
            "total_reward:2637653.4319381295\n",
            "total_cost:  105931.72702094504\n",
            "total_trades:  55022\n",
            "Sharpe:  0.9018559351604818\n",
            "=================================\n",
            "begin_total_asset:1000000\n",
            "end_total_asset:5003794.913610104\n",
            "total_reward:4003794.9136101035\n",
            "total_cost:  129828.09465237157\n",
            "total_trades:  57161\n",
            "Sharpe:  1.022989990577148\n",
            "=================================\n",
            "begin_total_asset:1000000\n",
            "end_total_asset:4825028.369075715\n",
            "total_reward:3825028.3690757146\n",
            "total_cost:  119441.03818526272\n",
            "total_trades:  56111\n",
            "Sharpe:  0.9839772152468985\n",
            "=================================\n",
            "begin_total_asset:1000000\n",
            "end_total_asset:4219308.38202252\n",
            "total_reward:3219308.3820225196\n",
            "total_cost:  109497.99136178386\n",
            "total_trades:  55975\n",
            "Sharpe:  0.93041663226048\n",
            "=================================\n",
            "begin_total_asset:1000000\n",
            "end_total_asset:4678797.889622527\n",
            "total_reward:3678797.889622527\n",
            "total_cost:  102233.05860868048\n",
            "total_trades:  54669\n",
            "Sharpe:  0.9195093502538537\n",
            "=================================\n",
            "begin_total_asset:1000000\n",
            "end_total_asset:4024296.892771049\n",
            "total_reward:3024296.892771049\n",
            "total_cost:  99338.64502186124\n",
            "total_trades:  55124\n",
            "Sharpe:  0.8112951072594803\n",
            "=================================\n",
            "begin_total_asset:1000000\n",
            "end_total_asset:4280474.868542387\n",
            "total_reward:3280474.868542387\n",
            "total_cost:  91474.96459184798\n",
            "total_trades:  52604\n",
            "Sharpe:  0.8529508718210294\n",
            "=================================\n",
            "begin_total_asset:1000000\n",
            "end_total_asset:4075233.688092785\n",
            "total_reward:3075233.688092785\n",
            "total_cost:  106318.84764360858\n",
            "total_trades:  54695\n",
            "Sharpe:  0.8779206671110552\n",
            "=================================\n",
            "begin_total_asset:1000000\n",
            "end_total_asset:3045052.9237316535\n",
            "total_reward:2045052.9237316535\n",
            "total_cost:  122324.63192204462\n",
            "total_trades:  57839\n",
            "Sharpe:  0.7024629328764656\n",
            "=================================\n",
            "begin_total_asset:1000000\n",
            "end_total_asset:3526372.912367778\n",
            "total_reward:2526372.912367778\n",
            "total_cost:  129247.5896183282\n",
            "total_trades:  60058\n",
            "Sharpe:  0.7936941126437234\n",
            "=================================\n",
            "begin_total_asset:1000000\n",
            "end_total_asset:3775941.5072053797\n",
            "total_reward:2775941.5072053797\n",
            "total_cost:  116651.20154337642\n",
            "total_trades:  56758\n",
            "Sharpe:  0.8258426160273928\n",
            "=================================\n",
            "begin_total_asset:1000000\n",
            "end_total_asset:4198177.55591114\n",
            "total_reward:3198177.5559111396\n",
            "total_cost:  128061.05520575545\n",
            "total_trades:  56823\n",
            "Sharpe:  0.8995428486319857\n",
            "=================================\n",
            "begin_total_asset:1000000\n",
            "end_total_asset:4996432.79694531\n",
            "total_reward:3996432.79694531\n",
            "total_cost:  108856.17177412343\n",
            "total_trades:  56444\n",
            "Sharpe:  0.9734231519545427\n",
            "=================================\n",
            "begin_total_asset:1000000\n",
            "end_total_asset:4903764.747080171\n",
            "total_reward:3903764.7470801705\n",
            "total_cost:  120941.410461912\n",
            "total_trades:  57063\n",
            "Sharpe:  0.9567723264343918\n",
            "=================================\n",
            "begin_total_asset:1000000\n",
            "end_total_asset:3556806.560814706\n",
            "total_reward:2556806.560814706\n",
            "total_cost:  98230.53935654285\n",
            "total_trades:  54718\n",
            "Sharpe:  0.7332978828072066\n",
            "=================================\n",
            "begin_total_asset:1000000\n",
            "end_total_asset:3829903.791081151\n",
            "total_reward:2829903.791081151\n",
            "total_cost:  73589.48552318191\n",
            "total_trades:  50332\n",
            "Sharpe:  0.7357687896622892\n",
            "=================================\n",
            "begin_total_asset:1000000\n",
            "end_total_asset:4045280.1186843878\n",
            "total_reward:3045280.1186843878\n",
            "total_cost:  91821.50669551376\n",
            "total_trades:  53295\n",
            "Sharpe:  0.792126275502072\n",
            "=================================\n",
            "begin_total_asset:1000000\n",
            "end_total_asset:3903236.1465005744\n",
            "total_reward:2903236.1465005744\n",
            "total_cost:  71779.55349006999\n",
            "total_trades:  51110\n",
            "Sharpe:  0.7885804564561906\n",
            "=================================\n",
            "begin_total_asset:1000000\n",
            "end_total_asset:4163544.0296169654\n",
            "total_reward:3163544.0296169654\n",
            "total_cost:  68849.46663172658\n",
            "total_trades:  51448\n",
            "Sharpe:  0.8317498963524522\n",
            "=================================\n",
            "begin_total_asset:1000000\n",
            "end_total_asset:3944109.6629980127\n",
            "total_reward:2944109.6629980127\n",
            "total_cost:  55461.42185974334\n",
            "total_trades:  49792\n",
            "Sharpe:  0.7876603803006038\n",
            "=================================\n",
            "begin_total_asset:1000000\n",
            "end_total_asset:3970011.2226954154\n",
            "total_reward:2970011.2226954154\n",
            "total_cost:  51608.062207604475\n",
            "total_trades:  48332\n",
            "Sharpe:  0.7892004364550322\n",
            "=================================\n",
            "begin_total_asset:1000000\n",
            "end_total_asset:4006946.773426412\n",
            "total_reward:3006946.773426412\n",
            "total_cost:  62230.092564517465\n",
            "total_trades:  49482\n",
            "Sharpe:  0.8100440337281357\n",
            "=================================\n",
            "begin_total_asset:1000000\n",
            "end_total_asset:4355654.114534185\n",
            "total_reward:3355654.1145341853\n",
            "total_cost:  112075.99339844966\n",
            "total_trades:  55854\n",
            "Sharpe:  0.9271832947396491\n",
            "=================================\n",
            "Training time (A2C):  6.010686075687408  minutes\n"
          ],
          "name": "stdout"
        }
      ]
    },
    {
      "cell_type": "markdown",
      "metadata": {
        "id": "MRiOtrywfAo1"
      },
      "source": [
        "### Model 2: DDPG"
      ]
    },
    {
      "cell_type": "code",
      "metadata": {
        "colab": {
          "base_uri": "https://localhost:8080/"
        },
        "id": "tCDa78rqfO_a",
        "outputId": "b02ca19f-c439-4b41-b77d-7f13d4dbf95f"
      },
      "source": [
        "print(\"==============Model Training===========\")\n",
        "now = datetime.datetime.now().strftime('%Y%m%d-%Hh%M')\n",
        "ddpg_params_tuning = {\n",
        "                     'batch_size': 128,\n",
        "\t\t\t               'buffer_size':100000, \n",
        "\t\t\t               'verbose':0,\n",
        "\t\t\t               'timesteps':50000}\n",
        "model_ddpg = agent.train_DDPG(model_name = \"DDPG_{}\".format(now), model_params = ddpg_params_tuning)"
      ],
      "execution_count": 21,
      "outputs": [
        {
          "output_type": "stream",
          "text": [
            "==============Model Training===========\n",
            "WARNING:tensorflow:From /usr/local/lib/python3.6/dist-packages/stable_baselines/ddpg/policies.py:136: dense (from tensorflow.python.layers.core) is deprecated and will be removed in a future version.\n",
            "Instructions for updating:\n",
            "Use keras.layers.Dense instead.\n",
            "WARNING:tensorflow:From /usr/local/lib/python3.6/dist-packages/stable_baselines/ddpg/ddpg.py:94: The name tf.assign is deprecated. Please use tf.compat.v1.assign instead.\n",
            "\n",
            "WARNING:tensorflow:From /usr/local/lib/python3.6/dist-packages/stable_baselines/ddpg/ddpg.py:444: The name tf.global_variables is deprecated. Please use tf.compat.v1.global_variables instead.\n",
            "\n",
            "WARNING:tensorflow:From /usr/local/lib/python3.6/dist-packages/stable_baselines/common/tf_util.py:432: The name tf.get_default_session is deprecated. Please use tf.compat.v1.get_default_session instead.\n",
            "\n",
            "begin_total_asset:1000000\n",
            "end_total_asset:3278082.1198303066\n",
            "total_reward:2278082.1198303066\n",
            "total_cost:  5819.730338896489\n",
            "total_trades:  44288\n",
            "Sharpe:  0.8494046814688067\n",
            "=================================\n",
            "begin_total_asset:1000000\n",
            "end_total_asset:2027424.3998158018\n",
            "total_reward:1027424.3998158018\n",
            "total_cost:  4821.581315910313\n",
            "total_trades:  38000\n",
            "Sharpe:  0.48003799402589176\n",
            "=================================\n",
            "begin_total_asset:1000000\n",
            "end_total_asset:4232269.289113719\n",
            "total_reward:3232269.289113719\n",
            "total_cost:  8304.60447380157\n",
            "total_trades:  43428\n",
            "Sharpe:  0.8941766708519643\n",
            "=================================\n",
            "begin_total_asset:1000000\n",
            "end_total_asset:3690192.8468325543\n",
            "total_reward:2690192.8468325543\n",
            "total_cost:  4046.801998721877\n",
            "total_trades:  39950\n",
            "Sharpe:  0.8438435030956893\n",
            "=================================\n",
            "begin_total_asset:1000000\n",
            "end_total_asset:4121275.3982393397\n",
            "total_reward:3121275.3982393397\n",
            "total_cost:  3161.906084776384\n",
            "total_trades:  36876\n",
            "Sharpe:  0.8611544824126525\n",
            "=================================\n",
            "begin_total_asset:1000000\n",
            "end_total_asset:2006629.9224570212\n",
            "total_reward:1006629.9224570212\n",
            "total_cost:  5773.508106145084\n",
            "total_trades:  40309\n",
            "Sharpe:  0.46122906829152205\n",
            "=================================\n",
            "begin_total_asset:1000000\n",
            "end_total_asset:3191949.3867740287\n",
            "total_reward:2191949.3867740287\n",
            "total_cost:  8528.000558943915\n",
            "total_trades:  46406\n",
            "Sharpe:  0.6849220564725329\n",
            "=================================\n",
            "begin_total_asset:1000000\n",
            "end_total_asset:5402369.448664683\n",
            "total_reward:4402369.448664683\n",
            "total_cost:  11540.715012594701\n",
            "total_trades:  41221\n",
            "Sharpe:  0.9962542954385112\n",
            "=================================\n",
            "begin_total_asset:1000000\n",
            "end_total_asset:3602538.230718895\n",
            "total_reward:2602538.230718895\n",
            "total_cost:  9686.111966486455\n",
            "total_trades:  42382\n",
            "Sharpe:  0.7996880382532598\n",
            "=================================\n",
            "begin_total_asset:1000000\n",
            "end_total_asset:4527959.743625242\n",
            "total_reward:3527959.7436252423\n",
            "total_cost:  12275.48449732705\n",
            "total_trades:  42540\n",
            "Sharpe:  0.9441313197466742\n",
            "=================================\n",
            "begin_total_asset:1000000\n",
            "end_total_asset:4112669.3524811566\n",
            "total_reward:3112669.3524811566\n",
            "total_cost:  12986.481611240964\n",
            "total_trades:  45566\n",
            "Sharpe:  0.8529395659830142\n",
            "=================================\n",
            "begin_total_asset:1000000\n",
            "end_total_asset:3885997.772284857\n",
            "total_reward:2885997.772284857\n",
            "total_cost:  16392.319910591646\n",
            "total_trades:  41483\n",
            "Sharpe:  0.7909671031063656\n",
            "=================================\n",
            "begin_total_asset:1000000\n",
            "end_total_asset:3460526.960370927\n",
            "total_reward:2460526.960370927\n",
            "total_cost:  8678.52567667647\n",
            "total_trades:  42354\n",
            "Sharpe:  0.7800770453039224\n",
            "=================================\n",
            "begin_total_asset:1000000\n",
            "end_total_asset:3378347.357877562\n",
            "total_reward:2378347.357877562\n",
            "total_cost:  10877.25382974319\n",
            "total_trades:  44864\n",
            "Sharpe:  0.7661926999438062\n",
            "=================================\n",
            "begin_total_asset:1000000\n",
            "end_total_asset:4120252.139744663\n",
            "total_reward:3120252.139744663\n",
            "total_cost:  14165.464317808624\n",
            "total_trades:  44059\n",
            "Sharpe:  0.9369932209959148\n",
            "=================================\n",
            "begin_total_asset:1000000\n",
            "end_total_asset:3693336.7064704504\n",
            "total_reward:2693336.7064704504\n",
            "total_cost:  19333.23781204164\n",
            "total_trades:  43590\n",
            "Sharpe:  0.7834062241668797\n",
            "=================================\n",
            "begin_total_asset:1000000\n",
            "end_total_asset:4871845.412669702\n",
            "total_reward:3871845.4126697024\n",
            "total_cost:  17458.797011135728\n",
            "total_trades:  44965\n",
            "Sharpe:  0.8696691793270718\n",
            "=================================\n",
            "begin_total_asset:1000000\n",
            "end_total_asset:4827143.532493342\n",
            "total_reward:3827143.5324933417\n",
            "total_cost:  14864.108068371042\n",
            "total_trades:  44021\n",
            "Sharpe:  0.835116004399163\n",
            "=================================\n",
            "begin_total_asset:1000000\n",
            "end_total_asset:3723619.129391498\n",
            "total_reward:2723619.129391498\n",
            "total_cost:  15600.81985701607\n",
            "total_trades:  45596\n",
            "Sharpe:  0.7490822239343841\n",
            "=================================\n",
            "Training time (DDPG):  3.987959086894989  minutes\n"
          ],
          "name": "stdout"
        }
      ]
    },
    {
      "cell_type": "markdown",
      "metadata": {
        "id": "_gDkU-j-fCmZ"
      },
      "source": [
        "### Model 3: PPO"
      ]
    },
    {
      "cell_type": "code",
      "metadata": {
        "colab": {
          "base_uri": "https://localhost:8080/"
        },
        "id": "AXo1pwzHfUci",
        "outputId": "7863be3b-6369-4807-a3ac-d5d183a8b12f"
      },
      "source": [
        "print(\"==============Model Training===========\")\n",
        "now = datetime.datetime.now().strftime('%Y%m%d-%Hh%M')\n",
        "ppo_params_tuning = {'n_steps':128, \n",
        "                     'nminibatches': 4,\n",
        "\t\t\t               'ent_coef':0.005, \n",
        "\t\t\t               'learning_rate':0.00025,\n",
        "\t\t\t              'verbose':0,\n",
        "\t\t\t              'timesteps':50000}\n",
        "model_ppo = agent.train_PPO(model_name = \"PPO_{}\".format(now), model_params = ppo_params_tuning)"
      ],
      "execution_count": 22,
      "outputs": [
        {
          "output_type": "stream",
          "text": [
            "==============Model Training===========\n",
            "WARNING:tensorflow:From /usr/local/lib/python3.6/dist-packages/stable_baselines/ppo2/ppo2.py:198: The name tf.trainable_variables is deprecated. Please use tf.compat.v1.trainable_variables instead.\n",
            "\n",
            "WARNING:tensorflow:From /usr/local/lib/python3.6/dist-packages/stable_baselines/ppo2/ppo2.py:206: The name tf.train.AdamOptimizer is deprecated. Please use tf.compat.v1.train.AdamOptimizer instead.\n",
            "\n",
            "begin_total_asset:1000000\n",
            "end_total_asset:2838573.3968208567\n",
            "total_reward:1838573.3968208567\n",
            "total_cost:  218263.94721130692\n",
            "total_trades:  70857\n",
            "Sharpe:  0.7700609467872713\n",
            "=================================\n",
            "begin_total_asset:1000000\n",
            "end_total_asset:1781758.1034966\n",
            "total_reward:781758.1034966\n",
            "total_cost:  130041.10431636123\n",
            "total_trades:  63827\n",
            "Sharpe:  0.42855742541197034\n",
            "=================================\n",
            "begin_total_asset:1000000\n",
            "end_total_asset:2581347.7973335646\n",
            "total_reward:1581347.7973335646\n",
            "total_cost:  151045.73955825897\n",
            "total_trades:  65221\n",
            "Sharpe:  0.6839921829742198\n",
            "=================================\n",
            "begin_total_asset:1000000\n",
            "end_total_asset:2600138.902453165\n",
            "total_reward:1600138.902453165\n",
            "total_cost:  115326.74680110808\n",
            "total_trades:  62008\n",
            "Sharpe:  0.6568284530169676\n",
            "=================================\n",
            "begin_total_asset:1000000\n",
            "end_total_asset:1687174.197910323\n",
            "total_reward:687174.197910323\n",
            "total_cost:  33861.52171485286\n",
            "total_trades:  49349\n",
            "Sharpe:  0.3808717208591959\n",
            "=================================\n",
            "begin_total_asset:1000000\n",
            "end_total_asset:1816510.3698401607\n",
            "total_reward:816510.3698401607\n",
            "total_cost:  27320.06611331219\n",
            "total_trades:  48408\n",
            "Sharpe:  0.4162045610296986\n",
            "=================================\n",
            "begin_total_asset:1000000\n",
            "end_total_asset:1869911.3914211383\n",
            "total_reward:869911.3914211383\n",
            "total_cost:  32501.601052353064\n",
            "total_trades:  51971\n",
            "Sharpe:  0.4421291966561163\n",
            "=================================\n",
            "begin_total_asset:1000000\n",
            "end_total_asset:2848888.109090883\n",
            "total_reward:1848888.1090908828\n",
            "total_cost:  103397.1600211481\n",
            "total_trades:  62970\n",
            "Sharpe:  0.7591444702157515\n",
            "=================================\n",
            "begin_total_asset:1000000\n",
            "end_total_asset:3497530.6143446565\n",
            "total_reward:2497530.6143446565\n",
            "total_cost:  126644.3026550723\n",
            "total_trades:  63674\n",
            "Sharpe:  0.988235704843121\n",
            "=================================\n",
            "begin_total_asset:1000000\n",
            "end_total_asset:3227838.420316349\n",
            "total_reward:2227838.420316349\n",
            "total_cost:  104793.15966696251\n",
            "total_trades:  61053\n",
            "Sharpe:  0.8894822252425745\n",
            "=================================\n",
            "begin_total_asset:1000000\n",
            "end_total_asset:4770825.4342646\n",
            "total_reward:3770825.4342646003\n",
            "total_cost:  141156.87302128557\n",
            "total_trades:  63980\n",
            "Sharpe:  1.0849295766447429\n",
            "=================================\n",
            "begin_total_asset:1000000\n",
            "end_total_asset:2554589.7069442724\n",
            "total_reward:1554589.7069442724\n",
            "total_cost:  164269.8944815248\n",
            "total_trades:  63871\n",
            "Sharpe:  0.602918999562703\n",
            "=================================\n",
            "begin_total_asset:1000000\n",
            "end_total_asset:2713068.083340207\n",
            "total_reward:1713068.083340207\n",
            "total_cost:  158648.4947813709\n",
            "total_trades:  63553\n",
            "Sharpe:  0.6821496600982757\n",
            "=================================\n",
            "begin_total_asset:1000000\n",
            "end_total_asset:2496538.3057877454\n",
            "total_reward:1496538.3057877454\n",
            "total_cost:  142135.05109349702\n",
            "total_trades:  61818\n",
            "Sharpe:  0.569797339547812\n",
            "=================================\n",
            "begin_total_asset:1000000\n",
            "end_total_asset:4079677.225208606\n",
            "total_reward:3079677.225208606\n",
            "total_cost:  138727.6160136793\n",
            "total_trades:  61817\n",
            "Sharpe:  0.9038300586445892\n",
            "=================================\n",
            "begin_total_asset:1000000\n",
            "end_total_asset:6518394.087580895\n",
            "total_reward:5518394.087580895\n",
            "total_cost:  141153.08840412984\n",
            "total_trades:  62983\n",
            "Sharpe:  1.17838816132346\n",
            "=================================\n",
            "begin_total_asset:1000000\n",
            "end_total_asset:3835069.996770168\n",
            "total_reward:2835069.996770168\n",
            "total_cost:  114794.78097316384\n",
            "total_trades:  59867\n",
            "Sharpe:  0.8892965581221074\n",
            "=================================\n",
            "begin_total_asset:1000000\n",
            "end_total_asset:5515154.781037914\n",
            "total_reward:4515154.781037914\n",
            "total_cost:  181087.25672679528\n",
            "total_trades:  65686\n",
            "Sharpe:  1.0913452695884083\n",
            "=================================\n",
            "begin_total_asset:1000000\n",
            "end_total_asset:4192551.906314692\n",
            "total_reward:3192551.906314692\n",
            "total_cost:  132470.99820219766\n",
            "total_trades:  60916\n",
            "Sharpe:  0.8528643231851492\n",
            "=================================\n",
            "Training time (PPO):  1.8894920667012534  minutes\n"
          ],
          "name": "stdout"
        }
      ]
    },
    {
      "cell_type": "markdown",
      "metadata": {
        "id": "3Zpv4S0-fDBv"
      },
      "source": [
        "### Model 4: TD3"
      ]
    },
    {
      "cell_type": "code",
      "metadata": {
        "colab": {
          "base_uri": "https://localhost:8080/"
        },
        "id": "0S5WIHJffWdP",
        "outputId": "9970520e-1abe-479b-e113-166f09e57cc1"
      },
      "source": [
        "print(\"==============Model Training===========\")\n",
        "now = datetime.datetime.now().strftime('%Y%m%d-%Hh%M')\n",
        "td3_params_tuning = {\n",
        "                     'batch_size': 128,\n",
        "\t\t\t               'buffer_size':200000, \n",
        "                     'learning_rate': 0.0002,\n",
        "\t\t\t               'verbose':0,\n",
        "\t\t\t               'timesteps':50000}\n",
        "model_td3 = agent.train_TD3(model_name = \"TD3_{}\".format(now), model_params = td3_params_tuning)"
      ],
      "execution_count": 23,
      "outputs": [
        {
          "output_type": "stream",
          "text": [
            "==============Model Training===========\n",
            "begin_total_asset:1000000\n",
            "end_total_asset:3312144.639586015\n",
            "total_reward:2312144.639586015\n",
            "total_cost:  7380.206053174357\n",
            "total_trades:  35584\n",
            "Sharpe:  0.8997302567944108\n",
            "=================================\n",
            "begin_total_asset:1000000\n",
            "end_total_asset:3731697.337407999\n",
            "total_reward:2731697.337407999\n",
            "total_cost:  1486.6642088949757\n",
            "total_trades:  35613\n",
            "Sharpe:  0.9372994261682959\n",
            "=================================\n",
            "begin_total_asset:1000000\n",
            "end_total_asset:3757356.187222476\n",
            "total_reward:2757356.187222476\n",
            "total_cost:  1021.4222807239162\n",
            "total_trades:  35244\n",
            "Sharpe:  0.9316490753344869\n",
            "=================================\n",
            "begin_total_asset:1000000\n",
            "end_total_asset:3773611.9563634805\n",
            "total_reward:2773611.9563634805\n",
            "total_cost:  998.9965967157827\n",
            "total_trades:  40103\n",
            "Sharpe:  0.9331672925145489\n",
            "=================================\n",
            "begin_total_asset:1000000\n",
            "end_total_asset:3763397.262609715\n",
            "total_reward:2763397.262609715\n",
            "total_cost:  998.9982482680424\n",
            "total_trades:  40103\n",
            "Sharpe:  0.9320380910559253\n",
            "=================================\n",
            "begin_total_asset:1000000\n",
            "end_total_asset:3769523.973160339\n",
            "total_reward:2769523.973160339\n",
            "total_cost:  998.9996445212028\n",
            "total_trades:  40103\n",
            "Sharpe:  0.9336202850982461\n",
            "=================================\n",
            "begin_total_asset:1000000\n",
            "end_total_asset:3758967.0995710636\n",
            "total_reward:2758967.0995710636\n",
            "total_cost:  998.9966456835909\n",
            "total_trades:  40103\n",
            "Sharpe:  0.9311007764239745\n",
            "=================================\n",
            "begin_total_asset:1000000\n",
            "end_total_asset:3781417.4015538106\n",
            "total_reward:2781417.4015538106\n",
            "total_cost:  998.9944519404719\n",
            "total_trades:  40102\n",
            "Sharpe:  0.9339794580971116\n",
            "=================================\n",
            "begin_total_asset:1000000\n",
            "end_total_asset:3776177.8282240317\n",
            "total_reward:2776177.8282240317\n",
            "total_cost:  998.9952054195008\n",
            "total_trades:  40102\n",
            "Sharpe:  0.9334908470668424\n",
            "=================================\n",
            "begin_total_asset:1000000\n",
            "end_total_asset:3772808.6106700883\n",
            "total_reward:2772808.6106700883\n",
            "total_cost:  998.9965402341239\n",
            "total_trades:  40103\n",
            "Sharpe:  0.9323695697424107\n",
            "=================================\n",
            "begin_total_asset:1000000\n",
            "end_total_asset:3759958.873508591\n",
            "total_reward:2759958.873508591\n",
            "total_cost:  998.9948476692152\n",
            "total_trades:  40103\n",
            "Sharpe:  0.9315452772598101\n",
            "=================================\n",
            "begin_total_asset:1000000\n",
            "end_total_asset:3767058.892622502\n",
            "total_reward:2767058.892622502\n",
            "total_cost:  998.998010661569\n",
            "total_trades:  40103\n",
            "Sharpe:  0.9326110537833641\n",
            "=================================\n",
            "begin_total_asset:1000000\n",
            "end_total_asset:3772541.158375256\n",
            "total_reward:2772541.158375256\n",
            "total_cost:  998.9958821662632\n",
            "total_trades:  40103\n",
            "Sharpe:  0.9331865056654173\n",
            "=================================\n",
            "begin_total_asset:1000000\n",
            "end_total_asset:3758697.163175268\n",
            "total_reward:2758697.163175268\n",
            "total_cost:  999.0009514609652\n",
            "total_trades:  40103\n",
            "Sharpe:  0.9314147895931949\n",
            "=================================\n",
            "begin_total_asset:1000000\n",
            "end_total_asset:3769285.063126017\n",
            "total_reward:2769285.063126017\n",
            "total_cost:  998.9959444046157\n",
            "total_trades:  40103\n",
            "Sharpe:  0.93232805992903\n",
            "=================================\n",
            "begin_total_asset:1000000\n",
            "end_total_asset:3778311.3717213403\n",
            "total_reward:2778311.3717213403\n",
            "total_cost:  998.9998104777661\n",
            "total_trades:  40102\n",
            "Sharpe:  0.9344842902811055\n",
            "=================================\n",
            "begin_total_asset:1000000\n",
            "end_total_asset:3765824.7412846107\n",
            "total_reward:2765824.7412846107\n",
            "total_cost:  998.9981644279486\n",
            "total_trades:  40574\n",
            "Sharpe:  0.9325647139410427\n",
            "=================================\n",
            "begin_total_asset:1000000\n",
            "end_total_asset:3784809.5893709385\n",
            "total_reward:2784809.5893709385\n",
            "total_cost:  1006.3013839409977\n",
            "total_trades:  42574\n",
            "Sharpe:  0.9368195329581835\n",
            "=================================\n",
            "begin_total_asset:1000000\n",
            "end_total_asset:3627116.6532622953\n",
            "total_reward:2627116.6532622953\n",
            "total_cost:  1585.5945838291707\n",
            "total_trades:  41135\n",
            "Sharpe:  0.9032513084011081\n",
            "=================================\n",
            "Training time (DDPG):  5.312898389498392  minutes\n"
          ],
          "name": "stdout"
        }
      ]
    },
    {
      "cell_type": "markdown",
      "metadata": {
        "id": "Dr49PotrfG01"
      },
      "source": [
        "### Model 5: SAC"
      ]
    },
    {
      "cell_type": "code",
      "metadata": {
        "colab": {
          "base_uri": "https://localhost:8080/"
        },
        "id": "jr6sX5pCfkVo",
        "outputId": "e520a23c-d408-4bac-8580-e0ad1a2e1a13"
      },
      "source": [
        "env_train = env_setup.create_env_training(data = train,\n",
        "                                          env_class = StockEnvTrain)\n",
        "agent = DRLAgent(env = env_train)\n",
        "print(\"==============Model Training===========\")\n",
        "now = datetime.datetime.now().strftime('%Y%m%d-%Hh%M')\n",
        "sac_params_tuning={\n",
        "  'batch_size': 128,\n",
        " 'buffer_size': 100000,\n",
        "  'ent_coef':'auto_0.1',\n",
        " 'learning_rate': 0.0001,\n",
        " 'learning_starts':200,\n",
        " 'timesteps': 50000,\n",
        " 'verbose': 0}\n",
        "model_sac = agent.train_SAC(model_name = \"SAC_{}\".format(now), model_params = sac_params_tuning)"
      ],
      "execution_count": 24,
      "outputs": [
        {
          "output_type": "stream",
          "text": [
            "==============Model Training===========\n",
            "WARNING:tensorflow:From /usr/local/lib/python3.6/dist-packages/stable_baselines/sac/policies.py:63: The name tf.log is deprecated. Please use tf.math.log instead.\n",
            "\n",
            "begin_total_asset:1000000\n",
            "end_total_asset:2814374.1784732593\n",
            "total_reward:1814374.1784732593\n",
            "total_cost:  11754.782792834712\n",
            "total_trades:  35149\n",
            "Sharpe:  0.7362068793033862\n",
            "=================================\n",
            "begin_total_asset:1000000\n",
            "end_total_asset:3122752.3474002834\n",
            "total_reward:2122752.3474002834\n",
            "total_cost:  2243.6827179108795\n",
            "total_trades:  36911\n",
            "Sharpe:  0.7187343715532327\n",
            "=================================\n",
            "begin_total_asset:1000000\n",
            "end_total_asset:3472655.4282076377\n",
            "total_reward:2472655.4282076377\n",
            "total_cost:  4554.40219785966\n",
            "total_trades:  39468\n",
            "Sharpe:  0.7929664447726154\n",
            "=================================\n",
            "begin_total_asset:1000000\n",
            "end_total_asset:3590727.831253359\n",
            "total_reward:2590727.831253359\n",
            "total_cost:  3603.040289494003\n",
            "total_trades:  36305\n",
            "Sharpe:  0.8029452622568944\n",
            "=================================\n",
            "begin_total_asset:1000000\n",
            "end_total_asset:2787441.2371854694\n",
            "total_reward:1787441.2371854694\n",
            "total_cost:  3633.9273869667604\n",
            "total_trades:  36208\n",
            "Sharpe:  0.6876276591981112\n",
            "=================================\n",
            "begin_total_asset:1000000\n",
            "end_total_asset:2861571.2779699615\n",
            "total_reward:1861571.2779699615\n",
            "total_cost:  3226.9183606579145\n",
            "total_trades:  35151\n",
            "Sharpe:  0.7176758680329846\n",
            "=================================\n",
            "begin_total_asset:1000000\n",
            "end_total_asset:3159826.179800239\n",
            "total_reward:2159826.179800239\n",
            "total_cost:  5187.014030110728\n",
            "total_trades:  37483\n",
            "Sharpe:  0.7157091789571922\n",
            "=================================\n",
            "begin_total_asset:1000000\n",
            "end_total_asset:2892892.3518643184\n",
            "total_reward:1892892.3518643184\n",
            "total_cost:  3480.818420397508\n",
            "total_trades:  33159\n",
            "Sharpe:  0.6939115784919838\n",
            "=================================\n",
            "begin_total_asset:1000000\n",
            "end_total_asset:2785614.4355119453\n",
            "total_reward:1785614.4355119453\n",
            "total_cost:  3068.387577452453\n",
            "total_trades:  34161\n",
            "Sharpe:  0.6306157755993431\n",
            "=================================\n",
            "begin_total_asset:1000000\n",
            "end_total_asset:2679231.069910562\n",
            "total_reward:1679231.0699105621\n",
            "total_cost:  3247.48467041037\n",
            "total_trades:  35108\n",
            "Sharpe:  0.6509452648440365\n",
            "=================================\n",
            "begin_total_asset:1000000\n",
            "end_total_asset:2700385.7934362767\n",
            "total_reward:1700385.7934362767\n",
            "total_cost:  3694.4458547897043\n",
            "total_trades:  34300\n",
            "Sharpe:  0.6154920708041967\n",
            "=================================\n",
            "begin_total_asset:1000000\n",
            "end_total_asset:3188395.880880941\n",
            "total_reward:2188395.880880941\n",
            "total_cost:  4880.461342477085\n",
            "total_trades:  35853\n",
            "Sharpe:  0.7643817677388858\n",
            "=================================\n",
            "begin_total_asset:1000000\n",
            "end_total_asset:1899594.5109862396\n",
            "total_reward:899594.5109862396\n",
            "total_cost:  3897.4709968838006\n",
            "total_trades:  36662\n",
            "Sharpe:  0.4582231484317286\n",
            "=================================\n",
            "begin_total_asset:1000000\n",
            "end_total_asset:2608626.3105699737\n",
            "total_reward:1608626.3105699737\n",
            "total_cost:  6194.2399215948435\n",
            "total_trades:  34447\n",
            "Sharpe:  0.6330365864497896\n",
            "=================================\n",
            "begin_total_asset:1000000\n",
            "end_total_asset:4101958.287764021\n",
            "total_reward:3101958.287764021\n",
            "total_cost:  4165.294380961253\n",
            "total_trades:  35950\n",
            "Sharpe:  0.9535780414334109\n",
            "=================================\n",
            "begin_total_asset:1000000\n",
            "end_total_asset:2479969.497790176\n",
            "total_reward:1479969.497790176\n",
            "total_cost:  4210.358667430075\n",
            "total_trades:  36364\n",
            "Sharpe:  0.6296363775197258\n",
            "=================================\n",
            "begin_total_asset:1000000\n",
            "end_total_asset:2520106.9234554567\n",
            "total_reward:1520106.9234554567\n",
            "total_cost:  3995.274747294379\n",
            "total_trades:  36196\n",
            "Sharpe:  0.6406318098953889\n",
            "=================================\n",
            "begin_total_asset:1000000\n",
            "end_total_asset:2562938.3668883652\n",
            "total_reward:1562938.3668883652\n",
            "total_cost:  9751.212508226838\n",
            "total_trades:  36221\n",
            "Sharpe:  0.682346630587567\n",
            "=================================\n",
            "begin_total_asset:1000000\n",
            "end_total_asset:2699342.894216903\n",
            "total_reward:1699342.894216903\n",
            "total_cost:  4244.698503456971\n",
            "total_trades:  41108\n",
            "Sharpe:  0.7021066537447896\n",
            "=================================\n",
            "Training time (SAC):  6.81339211066564  minutes\n"
          ],
          "name": "stdout"
        }
      ]
    },
    {
      "cell_type": "markdown",
      "metadata": {
        "id": "f2wZgkQXh1jE"
      },
      "source": [
        "## Trading\n",
        "Assume that we have $1,000,000 initial capital at 2019-01-01. We use the DDPG model to trade Dow jones 30 stocks."
      ]
    },
    {
      "cell_type": "markdown",
      "metadata": {
        "id": "bEv5KGC8h1jE"
      },
      "source": [
        "### Set turbulence threshold\n",
        "Set the turbulence threshold to be the 99% quantile of insample turbulence data, if current turbulence index is greater than the threshold, then we assume that the current market is volatile"
      ]
    },
    {
      "cell_type": "code",
      "metadata": {
        "id": "efwBi84ch1jE"
      },
      "source": [
        "data_turbulence = df[(df.date<'2019-01-01') & (df.date>='2009-01-01')]\n",
        "insample_turbulence = data_turbulence.drop_duplicates(subset=['date'])"
      ],
      "execution_count": 25,
      "outputs": []
    },
    {
      "cell_type": "code",
      "metadata": {
        "id": "VHZMBpSqh1jG",
        "colab": {
          "base_uri": "https://localhost:8080/"
        },
        "outputId": "c6a07c8a-223c-4a6e-b393-dc99e025f360"
      },
      "source": [
        "insample_turbulence.turbulence.describe()"
      ],
      "execution_count": 26,
      "outputs": [
        {
          "output_type": "execute_result",
          "data": {
            "text/plain": [
              "count    2516.000000\n",
              "mean       75.936148\n",
              "std        38.178006\n",
              "min         0.000000\n",
              "25%        58.034388\n",
              "50%        74.015104\n",
              "75%        96.948879\n",
              "max       230.256690\n",
              "Name: turbulence, dtype: float64"
            ]
          },
          "metadata": {
            "tags": []
          },
          "execution_count": 26
        }
      ]
    },
    {
      "cell_type": "code",
      "metadata": {
        "id": "yuwDPkV9h1jL"
      },
      "source": [
        "turbulence_threshold = np.quantile(insample_turbulence.turbulence.values,1)"
      ],
      "execution_count": 27,
      "outputs": []
    },
    {
      "cell_type": "code",
      "metadata": {
        "id": "wwoz_7VSh1jO",
        "colab": {
          "base_uri": "https://localhost:8080/"
        },
        "outputId": "e09f6bd5-fd4e-4b0d-e66b-99831896993d"
      },
      "source": [
        "turbulence_threshold"
      ],
      "execution_count": 28,
      "outputs": [
        {
          "output_type": "execute_result",
          "data": {
            "text/plain": [
              "230.25669016833135"
            ]
          },
          "metadata": {
            "tags": []
          },
          "execution_count": 28
        }
      ]
    },
    {
      "cell_type": "markdown",
      "metadata": {
        "id": "U5mmgQF_h1jQ"
      },
      "source": [
        "### Trade\n",
        "\n",
        "DRL model needs to update periodically in order to take full advantage of the data, ideally we need to retrain our model yearly, quarterly, or monthly. We also need to tune the parameters along the way, in this notebook I only use the in-sample data from 2009-01 to 2018-12 to tune the parameters once, so there is some alpha decay here as the length of trade date extends. \n",
        "\n",
        "Numerous hyperparameters – e.g. the learning rate, the total number of samples to train on – influence the learning process and are usually determined by testing some variations."
      ]
    },
    {
      "cell_type": "code",
      "metadata": {
        "id": "A8pXH01Gant2"
      },
      "source": [
        "env_trade, obs_trade = env_setup.create_env_trading(data = trade,\n",
        "                                         env_class = StockEnvTrade) "
      ],
      "execution_count": 29,
      "outputs": []
    },
    {
      "cell_type": "code",
      "metadata": {
        "id": "eLOnL5eYh1jR",
        "colab": {
          "base_uri": "https://localhost:8080/"
        },
        "outputId": "fa83424b-b34c-479f-f0a1-fa28658cb9fc"
      },
      "source": [
        "env_trade, obs_trade = env_setup.create_env_trading(data = trade,\n",
        "                                         env_class = StockEnvTrade,\n",
        "                                         turbulence_threshold=250) \n",
        "\n",
        "df_account_value, df_actions = DRLAgent.DRL_prediction(model=model_sac,\n",
        "                        test_data = trade,\n",
        "                        test_env = env_trade,\n",
        "                        test_obs = obs_trade)"
      ],
      "execution_count": 30,
      "outputs": [
        {
          "output_type": "stream",
          "text": [
            "previous_total_asset:1000000\n",
            "end_total_asset:1217510.7237775829\n",
            "total_reward:217510.72377758287\n",
            "total_cost:  15509.552676920432\n",
            "total trades:  7089\n",
            "Sharpe:  0.6710092534418319\n"
          ],
          "name": "stdout"
        }
      ]
    },
    {
      "cell_type": "code",
      "metadata": {
        "id": "ERxw3KqLkcP4",
        "colab": {
          "base_uri": "https://localhost:8080/"
        },
        "outputId": "12c5d7fa-3ace-4db3-e497-c42e5224ca1d"
      },
      "source": [
        "df_account_value.shape"
      ],
      "execution_count": 31,
      "outputs": [
        {
          "output_type": "execute_result",
          "data": {
            "text/plain": [
              "(440, 2)"
            ]
          },
          "metadata": {
            "tags": []
          },
          "execution_count": 31
        }
      ]
    },
    {
      "cell_type": "code",
      "metadata": {
        "id": "2yRkNguY5yvp",
        "colab": {
          "base_uri": "https://localhost:8080/",
          "height": 194
        },
        "outputId": "514ab2de-742f-4b9d-e353-65ee15aea85d"
      },
      "source": [
        "df_account_value.head()"
      ],
      "execution_count": 32,
      "outputs": [
        {
          "output_type": "execute_result",
          "data": {
            "text/html": [
              "<div>\n",
              "<style scoped>\n",
              "    .dataframe tbody tr th:only-of-type {\n",
              "        vertical-align: middle;\n",
              "    }\n",
              "\n",
              "    .dataframe tbody tr th {\n",
              "        vertical-align: top;\n",
              "    }\n",
              "\n",
              "    .dataframe thead th {\n",
              "        text-align: right;\n",
              "    }\n",
              "</style>\n",
              "<table border=\"1\" class=\"dataframe\">\n",
              "  <thead>\n",
              "    <tr style=\"text-align: right;\">\n",
              "      <th></th>\n",
              "      <th>date</th>\n",
              "      <th>account_value</th>\n",
              "    </tr>\n",
              "  </thead>\n",
              "  <tbody>\n",
              "    <tr>\n",
              "      <th>0</th>\n",
              "      <td>2019-01-02</td>\n",
              "      <td>1.000000e+06</td>\n",
              "    </tr>\n",
              "    <tr>\n",
              "      <th>1</th>\n",
              "      <td>2019-01-03</td>\n",
              "      <td>9.961629e+05</td>\n",
              "    </tr>\n",
              "    <tr>\n",
              "      <th>2</th>\n",
              "      <td>2019-01-04</td>\n",
              "      <td>1.007119e+06</td>\n",
              "    </tr>\n",
              "    <tr>\n",
              "      <th>3</th>\n",
              "      <td>2019-01-07</td>\n",
              "      <td>1.009500e+06</td>\n",
              "    </tr>\n",
              "    <tr>\n",
              "      <th>4</th>\n",
              "      <td>2019-01-08</td>\n",
              "      <td>1.012914e+06</td>\n",
              "    </tr>\n",
              "  </tbody>\n",
              "</table>\n",
              "</div>"
            ],
            "text/plain": [
              "         date  account_value\n",
              "0  2019-01-02   1.000000e+06\n",
              "1  2019-01-03   9.961629e+05\n",
              "2  2019-01-04   1.007119e+06\n",
              "3  2019-01-07   1.009500e+06\n",
              "4  2019-01-08   1.012914e+06"
            ]
          },
          "metadata": {
            "tags": []
          },
          "execution_count": 32
        }
      ]
    },
    {
      "cell_type": "code",
      "metadata": {
        "colab": {
          "base_uri": "https://localhost:8080/",
          "height": 297
        },
        "id": "xtFQD1SsOfM5",
        "outputId": "df7d3adc-2391-4dbd-9674-c8fc603283d2"
      },
      "source": [
        "df_actions[['AAPL']].plot()"
      ],
      "execution_count": 37,
      "outputs": [
        {
          "output_type": "execute_result",
          "data": {
            "text/plain": [
              "<matplotlib.axes._subplots.AxesSubplot at 0x7f5fa7deb4a8>"
            ]
          },
          "metadata": {
            "tags": []
          },
          "execution_count": 37
        },
        {
          "output_type": "display_data",
          "data": {
            "image/png": "[encoded data removed]",
            "text/plain": [
              "<Figure size 432x288 with 1 Axes>"
            ]
          },
          "metadata": {
            "tags": [],
            "needs_background": "light"
          }
        }
      ]
    },
    {
      "cell_type": "markdown",
      "metadata": {
        "id": "W6vvNSC6h1jZ"
      },
      "source": [
        "<a id='6'></a>\n",
        "# Part 7: Backtest Our Strategy\n",
        "Backtesting plays a key role in evaluating the performance of a trading strategy. Automated backtesting tool is preferred because it reduces the human error. We usually use the Quantopian pyfolio package to backtest our trading strategies. It is easy to use and consists of various individual plots that provide a comprehensive image of the performance of a trading strategy."
      ]
    },
    {
      "cell_type": "markdown",
      "metadata": {
        "id": "Lr2zX7ZxNyFQ"
      },
      "source": [
        "<a id='6.1'></a>\n",
        "## 7.1 BackTestStats\n",
        "pass in df_account_value, this information is stored in env class\n"
      ]
    },
    {
      "cell_type": "code",
      "metadata": {
        "id": "Nzkr9yv-AdV_",
        "colab": {
          "base_uri": "https://localhost:8080/"
        },
        "outputId": "f2c8264a-a0be-4d69-89fa-5df97cc41572"
      },
      "source": [
        "print(\"==============Get Backtest Results===========\")\n",
        "perf_stats_all = BackTestStats(account_value=df_account_value)\n",
        "perf_stats_all = pd.DataFrame(perf_stats_all)\n",
        "perf_stats_all.to_csv(\"./\"+config.RESULTS_DIR+\"/perf_stats_all_\"+now+'.csv')"
      ],
      "execution_count": 33,
      "outputs": [
        {
          "output_type": "stream",
          "text": [
            "==============Get Backtest Results===========\n",
            "annual return:  14.165174982511264\n",
            "sharpe ratio:  0.6710092534418319\n",
            "Annual return          0.119316\n",
            "Cumulative returns     0.217511\n",
            "Annual volatility      0.197480\n",
            "Sharpe ratio           0.671009\n",
            "Calmar ratio           0.575472\n",
            "Stability              0.581574\n",
            "Max drawdown          -0.207335\n",
            "Omega ratio            1.141713\n",
            "Sortino ratio          0.935084\n",
            "Skew                        NaN\n",
            "Kurtosis                    NaN\n",
            "Tail ratio             0.798236\n",
            "Daily value at risk   -0.024354\n",
            "Alpha                  0.000000\n",
            "Beta                   1.000000\n",
            "dtype: float64\n"
          ],
          "name": "stdout"
        }
      ]
    },
    {
      "cell_type": "markdown",
      "metadata": {
        "id": "9U6Suru3h1jc"
      },
      "source": [
        "<a id='6.2'></a>\n",
        "## 7.2 BackTestPlot"
      ]
    },
    {
      "cell_type": "code",
      "metadata": {
        "id": "lKRGftSS7pNM",
        "colab": {
          "base_uri": "https://localhost:8080/",
          "height": 1000
        },
        "outputId": "9a9a2512-2bdf-434b-9d69-7d3529b506ae"
      },
      "source": [
        "print(\"==============Compare to DJIA===========\")\n",
        "%matplotlib inline\n",
        "# S&P 500: ^GSPC\n",
        "# Dow Jones Index: ^DJI\n",
        "# NASDAQ 100: ^NDX\n",
        "BackTestPlot(df_account_value, \n",
        "             baseline_ticker = '^DJI', \n",
        "             baseline_start = '2019-01-01',\n",
        "             baseline_end = '2020-09-30')"
      ],
      "execution_count": 34,
      "outputs": [
        {
          "output_type": "stream",
          "text": [
            "==============Compare to DJIA===========\n",
            "annual return:  14.165174982511264\n",
            "sharpe ratio:  0.6710092534418319\n",
            "[*********************100%***********************]  1 of 1 completed\n",
            "Shape of DataFrame:  (440, 7)\n"
          ],
          "name": "stdout"
        },
        {
          "output_type": "display_data",
          "data": {
            "text/html": [
              "<table border=\"1\" class=\"dataframe\">\n",
              "  <thead>\n",
              "    <tr style=\"text-align: right;\"><th>Start date</th><td colspan=2>2019-01-03</td></tr>\n",
              "    <tr style=\"text-align: right;\"><th>End date</th><td colspan=2>2020-09-29</td></tr>\n",
              "    <tr style=\"text-align: right;\"><th>Total months</th><td colspan=2>20</td></tr>\n",
              "    <tr style=\"text-align: right;\">\n",
              "      <th></th>\n",
              "      <th>Backtest</th>\n",
              "    </tr>\n",
              "  </thead>\n",
              "  <tbody>\n",
              "    <tr>\n",
              "      <th>Annual return</th>\n",
              "      <td>11.96%</td>\n",
              "    </tr>\n",
              "    <tr>\n",
              "      <th>Cumulative returns</th>\n",
              "      <td>21.751%</td>\n",
              "    </tr>\n",
              "    <tr>\n",
              "      <th>Annual volatility</th>\n",
              "      <td>19.748%</td>\n",
              "    </tr>\n",
              "    <tr>\n",
              "      <th>Sharpe ratio</th>\n",
              "      <td>0.67</td>\n",
              "    </tr>\n",
              "    <tr>\n",
              "      <th>Calmar ratio</th>\n",
              "      <td>0.58</td>\n",
              "    </tr>\n",
              "    <tr>\n",
              "      <th>Stability</th>\n",
              "      <td>0.58</td>\n",
              "    </tr>\n",
              "    <tr>\n",
              "      <th>Max drawdown</th>\n",
              "      <td>-20.734%</td>\n",
              "    </tr>\n",
              "    <tr>\n",
              "      <th>Omega ratio</th>\n",
              "      <td>1.14</td>\n",
              "    </tr>\n",
              "    <tr>\n",
              "      <th>Sortino ratio</th>\n",
              "      <td>0.94</td>\n",
              "    </tr>\n",
              "    <tr>\n",
              "      <th>Skew</th>\n",
              "      <td>-0.32</td>\n",
              "    </tr>\n",
              "    <tr>\n",
              "      <th>Kurtosis</th>\n",
              "      <td>7.63</td>\n",
              "    </tr>\n",
              "    <tr>\n",
              "      <th>Tail ratio</th>\n",
              "      <td>0.80</td>\n",
              "    </tr>\n",
              "    <tr>\n",
              "      <th>Daily value at risk</th>\n",
              "      <td>-2.435%</td>\n",
              "    </tr>\n",
              "    <tr>\n",
              "      <th>Alpha</th>\n",
              "      <td>0.07</td>\n",
              "    </tr>\n",
              "    <tr>\n",
              "      <th>Beta</th>\n",
              "      <td>0.51</td>\n",
              "    </tr>\n",
              "  </tbody>\n",
              "</table>"
            ],
            "text/plain": [
              "<IPython.core.display.HTML object>"
            ]
          },
          "metadata": {
            "tags": []
          }
        },
        {
          "output_type": "display_data",
          "data": {
            "text/html": [
              "<table border=\"1\" class=\"dataframe\">\n",
              "  <thead>\n",
              "    <tr style=\"text-align: right;\">\n",
              "      <th>Worst drawdown periods</th>\n",
              "      <th>Net drawdown in %</th>\n",
              "      <th>Peak date</th>\n",
              "      <th>Valley date</th>\n",
              "      <th>Recovery date</th>\n",
              "      <th>Duration</th>\n",
              "    </tr>\n",
              "  </thead>\n",
              "  <tbody>\n",
              "    <tr>\n",
              "      <th>0</th>\n",
              "      <td>20.73</td>\n",
              "      <td>2020-02-19</td>\n",
              "      <td>2020-03-12</td>\n",
              "      <td>2020-06-05</td>\n",
              "      <td>78</td>\n",
              "    </tr>\n",
              "    <tr>\n",
              "      <th>1</th>\n",
              "      <td>10.37</td>\n",
              "      <td>2020-06-08</td>\n",
              "      <td>2020-06-26</td>\n",
              "      <td>2020-09-02</td>\n",
              "      <td>63</td>\n",
              "    </tr>\n",
              "    <tr>\n",
              "      <th>2</th>\n",
              "      <td>7.45</td>\n",
              "      <td>2020-09-02</td>\n",
              "      <td>2020-09-23</td>\n",
              "      <td>NaT</td>\n",
              "      <td>NaN</td>\n",
              "    </tr>\n",
              "    <tr>\n",
              "      <th>3</th>\n",
              "      <td>5.96</td>\n",
              "      <td>2019-07-26</td>\n",
              "      <td>2019-08-05</td>\n",
              "      <td>2019-11-07</td>\n",
              "      <td>75</td>\n",
              "    </tr>\n",
              "    <tr>\n",
              "      <th>4</th>\n",
              "      <td>5.87</td>\n",
              "      <td>2019-04-08</td>\n",
              "      <td>2019-06-03</td>\n",
              "      <td>2019-06-20</td>\n",
              "      <td>54</td>\n",
              "    </tr>\n",
              "  </tbody>\n",
              "</table>"
            ],
            "text/plain": [
              "<IPython.core.display.HTML object>"
            ]
          },
          "metadata": {
            "tags": []
          }
        },
        {
          "output_type": "stream",
          "text": [
            "/usr/local/lib/python3.6/dist-packages/pyfolio/tears.py:907: UserWarning: Passed returns do not overlap with anyinteresting times.\n",
            "  'interesting times.', UserWarning)\n"
          ],
          "name": "stderr"
        },
        {
          "output_type": "display_data",
          "data": {
            "image/png": "[encoded data removed]",
            "text/plain": [
              "<Figure size 1008x5184 with 13 Axes>"
            ]
          },
          "metadata": {
            "tags": [],
            "needs_background": "light"
          }
        }
      ]
    },
    {
      "cell_type": "markdown",
      "metadata": {
        "id": "SlLT9_5WN478"
      },
      "source": [
        "<a id='6.3'></a>\n",
        "## 7.3 Baseline Stats"
      ]
    },
    {
      "cell_type": "code",
      "metadata": {
        "id": "YktexHcqh1jc",
        "colab": {
          "base_uri": "https://localhost:8080/"
        },
        "outputId": "3ff6ffbe-9f31-41cb-fed6-8d5dfbc31424"
      },
      "source": [
        "print(\"==============Get Baseline Stats===========\")\n",
        "baesline_perf_stats=BaselineStats('^DJI',\n",
        "                                  baseline_start = '2019-01-01',\n",
        "                                  baseline_end = '2020-09-30')"
      ],
      "execution_count": 35,
      "outputs": [
        {
          "output_type": "stream",
          "text": [
            "==============Get Baseline Stats===========\n",
            "[*********************100%***********************]  1 of 1 completed\n",
            "Shape of DataFrame:  (440, 7)\n",
            "Annual return          0.097239\n",
            "Cumulative returns     0.175892\n",
            "Annual volatility      0.287173\n",
            "Sharpe ratio           0.468543\n",
            "Calmar ratio           0.262198\n",
            "Stability              0.010261\n",
            "Max drawdown          -0.370862\n",
            "Omega ratio            1.110729\n",
            "Sortino ratio          0.641939\n",
            "Skew                        NaN\n",
            "Kurtosis                    NaN\n",
            "Tail ratio             0.807113\n",
            "Daily value at risk   -0.035647\n",
            "Alpha                  0.000000\n",
            "Beta                   1.000000\n",
            "dtype: float64\n"
          ],
          "name": "stdout"
        }
      ]
    },
    {
      "cell_type": "code",
      "metadata": {
        "id": "A6W2J57ch1j9"
      },
      "source": [
        ""
      ],
      "execution_count": 35,
      "outputs": []
    }
  ]
}