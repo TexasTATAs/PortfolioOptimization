{
  "nbformat": 4,
  "nbformat_minor": 0,
  "metadata": {
    "accelerator": "GPU",
    "colab": {
      "name": "BareBones_Step1_MultipleTimeSteps.ipynb",
      "provenance": [],
      "machine_shape": "hm"
    },
    "kernelspec": {
      "display_name": "Python 3",
      "language": "python",
      "name": "python3"
    },
    "language_info": {
      "codemirror_mode": {
        "name": "ipython",
        "version": 3
      },
      "file_extension": ".py",
      "mimetype": "text/x-python",
      "name": "python",
      "nbconvert_exporter": "python",
      "pygments_lexer": "ipython3",
      "version": "3.7.3"
    }
  },
  "cells": [
    {
      "cell_type": "markdown",
      "metadata": {
        "id": "weT3AKQH3tcm"
      },
      "source": [
        "<a href=\"https://colab.research.google.com/github/tatsath/PortfolioOptimization/blob/main/BareBonesAnalysis/Step2.1_2assets_no_timedimension.ipynb\" target=\"_parent\"><img src=\"https://colab.research.google.com/assets/colab-badge.svg\" alt=\"Open In Colab\"/></a>"
      ]
    },
    {
      "cell_type": "code",
      "metadata": {
        "id": "tAVxbcDC3lCI"
      },
      "source": [
        "import numpy as np\n",
        "import numpy.matlib\n",
        "from scipy.stats import norm\n",
        "\n",
        "import matplotlib.pyplot as plt\n",
        "\n",
        "import torch\n",
        "import torch.nn as nn\n",
        "import torch.nn.functional as F\n",
        "import torch.optim as optim\n",
        "from scipy import stats\n",
        "import seaborn as sns"
      ],
      "execution_count": 20,
      "outputs": []
    },
    {
      "cell_type": "code",
      "metadata": {
        "id": "sLnskTZwXelA"
      },
      "source": [
        "# # %%\n",
        "# params ={ \"mu\": 0.1,\n",
        "#          \"sigma\": 0.2,\n",
        "#          \"T\" : 1}\n",
        "\n",
        "#%% ANN\n",
        "class MyNet(nn.Module):\n",
        "    \n",
        "    def __init__(self, n ):\n",
        "        super(MyNet, self).__init__()\n",
        "        \n",
        "        # 1 input layer (X_T^delta), 1 output channel, 3 hidden layers with n units each\n",
        "        self.f_in_to_h1 = nn.Linear( 2 , n)\n",
        "        self.f_h1_to_h2 = nn.Linear(n, n)\n",
        "        self.f_h2_to_out = nn.Linear(n, 2)\n",
        "        #self.f_h2_to_out = nn.LogSoftmax(n, 3)\n",
        "        self.myReLU = nn.ReLU()\n",
        "\n",
        "    def forward(self, x):\n",
        "        \n",
        "        # input into 1st hidden layer\n",
        "        h1 = self.myReLU(self.f_in_to_h1(x) )\n",
        "        \n",
        "        # 1st hidden to 2nd hidden layer\n",
        "        h2 = self.myReLU(self.f_h1_to_h2(h1))\n",
        "            \n",
        "        # 2nd hidden layer to output layer\n",
        "        y = self.f_h2_to_out(h2)      \n",
        "        \n",
        "        return y\n",
        "    "
      ],
      "execution_count": 21,
      "outputs": []
    },
    {
      "cell_type": "code",
      "metadata": {
        "colab": {
          "base_uri": "https://localhost:8080/"
        },
        "id": "_9HrQAuF7xye",
        "outputId": "5ea61ce9-01c1-47bf-c80f-1501645cfc0d"
      },
      "source": [
        "if torch.cuda.is_available():\n",
        "    device = torch.device('cuda') \n",
        "else:\n",
        "    device = torch.device('cpu') \n",
        "print(device)    "
      ],
      "execution_count": 22,
      "outputs": [
        {
          "output_type": "stream",
          "text": [
            "cuda\n"
          ],
          "name": "stdout"
        }
      ]
    },
    {
      "cell_type": "code",
      "metadata": {
        "id": "YC43MdsYOhSo"
      },
      "source": [
        "#Setting seed\r\n",
        "torch.manual_seed(11)\r\n",
        "torch.cuda.manual_seed(11)\r\n",
        "np.random.seed(11)"
      ],
      "execution_count": 23,
      "outputs": []
    },
    {
      "cell_type": "code",
      "metadata": {
        "id": "D5bloAiKXelB"
      },
      "source": [
        "# params = {\n",
        "#     \"S0\" : np.array([1]),\n",
        "#     \"mu\" : np.array([0.03]),\n",
        "#     \"sigma\" : np.array([.2]),\n",
        "#     \"rho\" : np.array([[1]]),\n",
        "#     \"rf\" : 0.00,\n",
        "#     \"delta\" : np.array([0.7]),\n",
        "#     \"T\" : 5\n",
        "#     }\n",
        "\n",
        "params = {\n",
        "    \"S0\" : np.array([1, 2]),\n",
        "    \"mu\" : np.array([0.05, 0.06]),\n",
        "    \"sigma\" : np.array([0.1, 0.12]),\n",
        "    \"rho\" : np.array([[1, .25],[.25,1]]),\n",
        "    \"rf\" : 0.00,\n",
        "    \"delta\" : np.array([0.25, 0.75])\n",
        "    }\n",
        "\n",
        "def SimPath(Ndt, params, T, Nsims):\n",
        "    \n",
        "    dt = T/Ndt\n",
        "    \n",
        "    N_assets= params[\"mu\"].shape[0]\n",
        "    \n",
        "    assert N_assets == params[\"sigma\"].shape[0], \"#assets in mu != #assets in sigma\"\n",
        "    assert N_assets == params[\"rho\"].shape[0], \"#assets in mu != #assets in rho\"\n",
        "    assert params[\"rho\"].ndim == 2, \"rho must be matrix\"\n",
        "    assert N_assets == params[\"rho\"].shape[1], \"rho not square matrix\"\n",
        "    \n",
        "    S = np.zeros((Ndt+1, Nsims, N_assets ))\n",
        "    S[0,:,:] = params[\"S0\"]\n",
        "\n",
        "    \n",
        "    for i in range(Ndt):\n",
        "        \n",
        "        dW = np.sqrt(dt) * np.random.multivariate_normal(np.zeros(N_assets), params[\"rho\"], Nsims)\n",
        "        S[i+1,:,:] = S[i,:,:] * np.exp((params[\"mu\"]-0.5*params[\"sigma\"]**2)*dt + params[\"sigma\"]*dW)\n",
        "        \n",
        "    t = np.linspace(0,T,Ndt+1)\n",
        "    return t, S"
      ],
      "execution_count": 24,
      "outputs": []
    },
    {
      "cell_type": "code",
      "metadata": {
        "id": "erhSzCu8XelC"
      },
      "source": [
        "#%% Compute RM from samples\n",
        "def GetRiskMeasure(X, Type):\n",
        "    #TVaR    \n",
        "    if (Type == \"TVaR\"):\n",
        "        \n",
        "        alpha = 0.15\n",
        "        Qtl= torch.quantile(X, alpha)\n",
        "        RiskMeasure = -torch.mean(X[X<=Qtl])\n",
        "    \n",
        "    # alpha-beta\n",
        "    elif (Type == \"alpha-beta\" ):\n",
        "        \n",
        "        alpha = 0.1        \n",
        "        LQtl = torch.quantile(X,alpha)\n",
        "        \n",
        "        beta = 0.9\n",
        "        UQtl = torch.quantile(X,beta)\n",
        "        \n",
        "        # weight factor (p in the paper)\n",
        "        p = 0.75\n",
        "        eta = p * alpha + (1-p) * (1-beta)\n",
        "        RiskMeasure = -(p* alpha* torch.mean(X[X<=LQtl]) \\\n",
        "                        + (1-p) *(1-beta) * torch.mean(X[X>=UQtl] ) )/eta\n",
        "        \n",
        "        \n",
        "    #Variance\n",
        "    elif (Type == \"Variance\"):  \n",
        "        RiskMeasure = torch.var(X)   \n",
        "        \n",
        "    return RiskMeasure"
      ],
      "execution_count": 25,
      "outputs": []
    },
    {
      "cell_type": "code",
      "metadata": {
        "id": "M1--faPt0TgZ"
      },
      "source": [
        "Ndt=500\r\n",
        "T =5\r\n",
        "X0=1\r\n",
        "num_asset = 2\r\n",
        "Nsims=5000\r\n",
        "t, S = SimPath(Ndt, params, T=T, Nsims=Nsims) "
      ],
      "execution_count": 26,
      "outputs": []
    },
    {
      "cell_type": "code",
      "metadata": {
        "colab": {
          "base_uri": "https://localhost:8080/"
        },
        "id": "szoEqSmq0aCm",
        "outputId": "bb3986f4-ad4c-406b-8fc9-892b9896755e"
      },
      "source": [
        "S.shape"
      ],
      "execution_count": 27,
      "outputs": [
        {
          "output_type": "execute_result",
          "data": {
            "text/plain": [
              "(501, 5000, 2)"
            ]
          },
          "metadata": {
            "tags": []
          },
          "execution_count": 27
        }
      ]
    },
    {
      "cell_type": "code",
      "metadata": {
        "id": "eu13eL5aXelD"
      },
      "source": [
        "# %% compute Wasserstein distance\n",
        "def getWassDistance(X, Y):\n",
        "    \n",
        "    # generate co-monotonic versions of the sample\n",
        "    X_sorted, _ = torch.sort(X)\n",
        "    Y_sorted, _ = torch.sort(Y)\n",
        "    \n",
        "    wass_dist = torch.sqrt(torch.mean(( X_sorted - Y_sorted )**2))\n",
        "    \n",
        "    return wass_dist \n",
        "\n",
        "# %% simulate and compute RM\n",
        "\n",
        "\n",
        "def SimRM(net, params, Nsims, type=\"alpha-beta\", device=device ):\n",
        "    \n",
        "    # a sample sim\n",
        "#     X = np.exp((params[\"mu\"]-0.5*params[\"sigma\"]**2)*params[\"T\"]\\\n",
        "#                +params[\"sigma\"]*np.sqrt(params[\"T\"])*np.random.randn(Nsims,1))\n",
        "    \n",
        "#     X_t = torch.tensor(X, dtype=torch.float, requires_grad=False)\n",
        "    \n",
        "#     Y_t = net(X_t)\n",
        "\n",
        "    Ndt=500\n",
        "    T =5\n",
        "    X0=1\n",
        "    num_asset = 2\n",
        "    t, S = SimPath(Ndt, params, T=T, Nsims=Nsims)  \n",
        "    S_t = torch.tensor(S, dtype=torch.float, requires_grad=False, device=device)\n",
        "  \n",
        "    wt = net(S_t) \n",
        "\n",
        "    # Y_t = w_t[-1,:].reshape(-1,1)\n",
        "    # X_t = S_t[-1,:].reshape(-1,1)\n",
        "    dt = t[1]-t[0]\n",
        "    S_Ret = (S_t[1:,:,:]-S_t[:-1,:,:])/S_t[:-1,:,:]\n",
        "    \n",
        "    #Benchmark Delta and return\n",
        "    Delta_t = torch.zeros((Ndt, Nsims, num_asset), \\\n",
        "                                 dtype=torch.float, requires_grad=False, device=device)\n",
        "    # note only 90% invested in risky assets here... 10% in risk-free\n",
        "    delta = torch.tensor(params[\"delta\"],requires_grad=False, device=device)\n",
        "    delta_r = 1 - torch.sum(delta)\n",
        "    Delta_t += delta \n",
        "\n",
        "    # accumulate returns as we go along\n",
        "    Benchmark_Ret = delta_r * params[\"rf\"] * dt+ torch.sum(Delta_t * S_Ret , axis=2)\n",
        "    \n",
        "    BenchmarkVal_path = torch.zeros((Ndt+1,Nsims), dtype=torch.float, requires_grad=False, device=device)\n",
        "    BenchmarkVal_path[0,:]  = X0\n",
        "    BenchmarkVal_path[1:,:] = X0*torch.cumprod( (1.0+Benchmark_Ret), axis=0)\n",
        "    BenchmarkVal_T = BenchmarkVal_path[-1,:].reshape(-1,1)\n",
        "\n",
        "     # the candidate portolio\n",
        "    Portfolio_Ret = (1-torch.sum(wt[:-1,:,:], axis=2)) * params[\"rf\"] * dt+ torch.sum(wt[:-1,:,:] * S_Ret , axis=2)\n",
        "    \n",
        "    PortfolioVal_path = torch.zeros((Ndt+1,Nsims), dtype=torch.float, requires_grad=False, device=device)    \n",
        "    PortfolioVal_path[0,:] = X0\n",
        "    PortfolioVal_path[1:,:] = X0*torch.cumprod( (1.0+Portfolio_Ret), axis=0)\n",
        "    PortfolioVal_T = PortfolioVal_path[-1,:].reshape(-1,1)\n",
        "\n",
        "    Y_t = PortfolioVal_T\n",
        "    X_t = BenchmarkVal_T    \n",
        "    \n",
        "    wass_dist = getWassDistance(X_t, Y_t)\n",
        "    \n",
        "    RiskMeasure = GetRiskMeasure(Y_t, \"alpha-beta\") \n",
        "    \n",
        "    return RiskMeasure, wass_dist, X_t, Y_t"
      ],
      "execution_count": 28,
      "outputs": []
    },
    {
      "cell_type": "code",
      "metadata": {
        "id": "IRgvj6ve5I_L"
      },
      "source": [
        "# t, S = SimPath(Ndt, params, T=T, Nsims=Nsims)  \n",
        "# S_t = torch.tensor(S, dtype=torch.float, requires_grad=False, device=device)\n",
        "    \n",
        "# Return = S_t[:,1:] - S_t[:,:-1]    \n",
        "# Return.shape\n"
      ],
      "execution_count": 29,
      "outputs": []
    },
    {
      "cell_type": "code",
      "metadata": {
        "id": "4vBbDv8c7GMb"
      },
      "source": [
        "# S_t.shape"
      ],
      "execution_count": 30,
      "outputs": []
    },
    {
      "cell_type": "code",
      "metadata": {
        "id": "yUZKC7Kl6Hy2"
      },
      "source": [
        "# w_t = net(S_t) \n",
        "\n",
        "# #S and w at maturity as the sum of all the returns \n",
        "\n",
        "# Y_t = w_t[-1,:].reshape(-1,1)\n",
        "# X_t = S_t[-1,:].reshape(-1,1)\n",
        "\n",
        "# wass_dist = getWassDistance(X_t, Y_t)\n",
        "\n",
        "# RiskMeasure = GetRiskMeasure(Y_t, \"alpha-beta\") \n",
        "    "
      ],
      "execution_count": 31,
      "outputs": []
    },
    {
      "cell_type": "code",
      "metadata": {
        "id": "4rYrz-rsXelK"
      },
      "source": [
        "# %%\n",
        "def PlotHists(X, Y):\n",
        "    \n",
        "    bins = np.linspace(0,2.5,25)\n",
        "    \n",
        "    Xcp = X.clone().cpu().detach().numpy()\n",
        "    Ycp = Y.clone().cpu().detach().numpy()\n",
        "    \n",
        "    plt.figure(figsize=(10,5))\n",
        "    \n",
        "    plt.subplot(1,3,1)\n",
        "    \n",
        "    sns.distplot(Xcp, bins = bins, hist=True, kde=True, label='Index')\n",
        "    sns.distplot(Ycp, bins = bins,  hist=True, kde=True, label='Portfolio')\n",
        "    plt.legend()    \n",
        "    \n",
        "    plt.axvline(np.quantile(Xcp, 0.15),color='k')\n",
        "    plt.axvline(np.quantile(Ycp, 0.15),color='r')\n",
        "\n",
        "    plt.xlim(bins[0],bins[-1])\n",
        "    \n",
        "    plt.legend()\n",
        "    \n",
        "    plt.subplot(1,3,2)\n",
        "    sns.distplot(Ycp-Xcp, hist=True, kde=True)\n",
        "    plt.axvline(np.quantile(Ycp-Xcp, 0.05),color='k')\n",
        "\n",
        "    \n",
        "    plt.subplot(1,3,3)\n",
        "    \n",
        "    plt.plot(np.array([0,bins[-1]]),np.array([0,bins[-1]]))\n",
        "    plt.scatter(Xcp,Ycp, marker='o',color='r', s=5)\n",
        "    \n",
        "    plt.ylim(0.9*np.quantile(Xcp,0.01),1.1*np.quantile(Xcp,0.99))\n",
        "    plt.xlim(0.9*np.quantile(Xcp,0.01),1.1*np.quantile(Xcp,0.99))\n",
        "\n",
        "    \n",
        "    plt.rcParams.update({'font.size': 16})\n",
        "    plt.rc('axes', labelsize=22)\n",
        "    \n",
        "    plt.tight_layout()\n",
        "    \n",
        "    plt.show()"
      ],
      "execution_count": 32,
      "outputs": []
    },
    {
      "cell_type": "code",
      "metadata": {
        "id": "4D-s8IDoXelK"
      },
      "source": [
        "    \n",
        "# #%%\n",
        "# def PlotStrat(net): \n",
        "#     X = np.linspace(0.5,2.2,100).reshape(-1,1)\n",
        "    \n",
        "#     # don't think we need sensitivities w.r.t. this as they are fixed per simulation\n",
        "#     X_t = torch.tensor(X, dtype=torch.float, requires_grad=True)\n",
        "    \n",
        "#     Y_t = net(X_t)    \n",
        "    \n",
        "#     Y = Y_t.detach().numpy()\n",
        "    \n",
        "#     plt.plot(X,Y)\n",
        "#     plt.plot(X,X,'--k',linewidth=0.5)\n",
        "    \n",
        "#     plt.show()\n",
        "    \n",
        "# #%%"
      ],
      "execution_count": 33,
      "outputs": []
    },
    {
      "cell_type": "code",
      "metadata": {
        "colab": {
          "base_uri": "https://localhost:8080/",
          "height": 482
        },
        "id": "Jy0-wGPvXelL",
        "outputId": "edf371d3-45bc-4629-81e0-e2e32979ba16"
      },
      "source": [
        "net = MyNet(50).to(device)\n",
        "RiskMeasure, wass_dist, X_t, Y_t = SimRM(net, params, Nsims=1000, device=device)\n",
        "PlotHists(X_t, Y_t)\n",
        "\n",
        "# create  optimizer\n",
        "optimizer = optim.Adam(net.parameters())\n",
        "\n",
        "Nepochs = 1000\n",
        "loss_hist = []\n",
        "risk_history = []\n",
        "wass_dist_history=[]\n",
        "\n",
        "for epoch in range(Nepochs):  # loop over the dataset multiple times\n",
        "\n",
        "\n",
        "    # zero the parameter gradients\n",
        "    optimizer.zero_grad()\n",
        "\n",
        "    RiskMeasure, wass_dist,  X_t, Y_t = SimRM(net, params, Nsims=1000, device=device)\n",
        "    \n",
        "    \n",
        "    loss = 10*wass_dist*(wass_dist>0.1) \\\n",
        "        + RiskMeasure/2 \\\n",
        "        + 10*(torch.mean(Y_t)>torch.mean(X_t))\n",
        "     \n",
        "    # loss = 10*wass_dist*(wass_dist>0.1) \\\n",
        "    #     + RiskMeasure/2 \n",
        "\n",
        "    loss.backward()   \n",
        "    \n",
        "    optimizer.step()\n",
        "    \n",
        "    # store running loss\n",
        "    loss_hist.append(  loss.item() )\n",
        "    risk_history.append( RiskMeasure.cpu().detach().numpy() )\n",
        "    wass_dist_history.append( wass_dist.cpu().detach().numpy() )\n",
        "    \n",
        "    # PlotHists(X_t, Y_t)\n",
        "    \n",
        "    # plot output every 50 iterations\n",
        "    if( (epoch % 100 == 0) and (epoch>1) ):\n",
        "        print(epoch, end=\" \")\n",
        "        print(\"Wass Dist:\", wass_dist.cpu().detach().numpy(), end=\" \" )\n",
        "        print(\"Risk Measure:\", RiskMeasure.cpu().detach().numpy(), end=\" \")\n",
        "        print(\"Loss:\", loss.item())\n",
        "\n",
        "        PlotHists(X_t, Y_t)\n",
        "        \n",
        "        # plt.figure(figsize=(10,5))\n",
        "        \n",
        "        # plt.subplot(1,3,1)\n",
        "        # plt.plot(risk_history)\n",
        "        # plt.title(\"RM\") \n",
        "        \n",
        "        # plt.subplot(1,3,2)\n",
        "        # plt.plot(wass_dist_history)\n",
        "        # plt.title(\"WD\") \n",
        "        \n",
        "        # plt.subplot(1,3,3)\n",
        "        # plt.plot(loss_hist)\n",
        "        # plt.title(\"Loss\") \n",
        "\n",
        "        # plt.tight_layout()        \n",
        "        # plt.show()\n",
        "        \n",
        "\n",
        "print('Finished Training')"
      ],
      "execution_count": null,
      "outputs": [
        {
          "output_type": "stream",
          "text": [
            "/usr/local/lib/python3.7/dist-packages/seaborn/distributions.py:2557: FutureWarning: `distplot` is a deprecated function and will be removed in a future version. Please adapt your code to use either `displot` (a figure-level function with similar flexibility) or `histplot` (an axes-level function for histograms).\n",
            "  warnings.warn(msg, FutureWarning)\n",
            "/usr/local/lib/python3.7/dist-packages/seaborn/distributions.py:2557: FutureWarning: `distplot` is a deprecated function and will be removed in a future version. Please adapt your code to use either `displot` (a figure-level function with similar flexibility) or `histplot` (an axes-level function for histograms).\n",
            "  warnings.warn(msg, FutureWarning)\n",
            "/usr/local/lib/python3.7/dist-packages/seaborn/distributions.py:2557: FutureWarning: `distplot` is a deprecated function and will be removed in a future version. Please adapt your code to use either `displot` (a figure-level function with similar flexibility) or `histplot` (an axes-level function for histograms).\n",
            "  warnings.warn(msg, FutureWarning)\n"
          ],
          "name": "stderr"
        },
        {
          "output_type": "display_data",
          "data": {
            "image/png": "[encoded data removed]",
            "text/plain": [
              "<Figure size 720x360 with 3 Axes>"
            ]
          },
          "metadata": {
            "tags": [],
            "needs_background": "light"
          }
        }
      ]
    },
    {
      "cell_type": "code",
      "metadata": {
        "id": "Sy_gsfHSbWTS"
      },
      "source": [
        "X1_delta_t = np.linspace(0.0, 3, 100)   \r\n",
        "X2_delta_t = np.linspace(0.0, 3, 100)   \r\n",
        "x = np.zeros((X1_delta_t.shape[0],2))\r\n",
        "\r\n",
        "x[:,0] = X1_delta_t\r\n",
        "x[:,1] = X2_delta_t\r\n",
        "\r\n",
        "x_t = torch.tensor(x, dtype=torch.float, device=device )\r\n",
        "\r\n",
        "w_t = net(x_t).cpu().detach().numpy()\r\n",
        "x_input = x_t.cpu().detach().numpy()\r\n",
        "\r\n",
        "plt.plot(x_input[:,0],w_t[:,0] )\r\n",
        "plt.show()\r\n",
        "plt.plot(x_input[:,1],w_t[:,1] )\r\n",
        "plt.show()"
      ],
      "execution_count": null,
      "outputs": []
    },
    {
      "cell_type": "code",
      "metadata": {
        "id": "_ZozNeuk0nhQ"
      },
      "source": [
        "x_input.shape"
      ],
      "execution_count": null,
      "outputs": []
    },
    {
      "cell_type": "code",
      "metadata": {
        "id": "hpWbKPwxw8aJ"
      },
      "source": [
        "w_t[:,1]"
      ],
      "execution_count": null,
      "outputs": []
    },
    {
      "cell_type": "code",
      "metadata": {
        "id": "y8rHAqm1wsnr"
      },
      "source": [
        ""
      ],
      "execution_count": null,
      "outputs": []
    }
  ]
}