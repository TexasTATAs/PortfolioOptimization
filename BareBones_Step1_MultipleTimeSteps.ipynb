{
 "cells": [
  {
   "cell_type": "code",
   "execution_count": 64,
   "metadata": {},
   "outputs": [],
   "source": [
    "import numpy as np\n",
    "import numpy.matlib\n",
    "from scipy.stats import norm\n",
    "\n",
    "import matplotlib.pyplot as plt\n",
    "\n",
    "import torch\n",
    "import torch.nn as nn\n",
    "import torch.nn.functional as F\n",
    "import torch.optim as optim\n",
    "from scipy import stats\n",
    "import seaborn as sns"
   ]
  },
  {
   "cell_type": "code",
   "execution_count": 65,
   "metadata": {},
   "outputs": [],
   "source": [
    "# # %%\n",
    "# params ={ \"mu\": 0.1,\n",
    "#          \"sigma\": 0.2,\n",
    "#          \"T\" : 1}\n",
    "\n",
    "#%% ANN\n",
    "class MyNet(nn.Module):\n",
    "    \n",
    "    def __init__(self, n ):\n",
    "        super(MyNet, self).__init__()\n",
    "        \n",
    "        # 1 input layer (X_T^delta), 1 output channel, 3 hidden layers with n units each\n",
    "        self.f_in_to_h1 = nn.Linear( 1 , n)\n",
    "        self.f_h1_to_h2 = nn.Linear(n, n)\n",
    "        self.f_h2_to_out = nn.Linear(n, 1)\n",
    "        #self.f_h2_to_out = nn.LogSoftmax(n, 3)\n",
    "        self.myReLU = nn.ReLU()\n",
    "\n",
    "    def forward(self, x):\n",
    "        \n",
    "        # input into 1st hidden layer\n",
    "        h1 = self.myReLU(self.f_in_to_h1(x) )\n",
    "        \n",
    "        # 1st hidden to 2nd hidden layer\n",
    "        h2 = self.myReLU(self.f_h1_to_h2(h1))\n",
    "            \n",
    "        # 2nd hidden layer to output layer\n",
    "        y = self.f_h2_to_out(h2)      \n",
    "        \n",
    "        return y\n",
    "    "
   ]
  },
  {
   "cell_type": "code",
   "execution_count": 90,
   "metadata": {},
   "outputs": [],
   "source": [
    "params = {\n",
    "    \"S0\" : np.array([1]),\n",
    "    \"mu\" : np.array([0.03]),\n",
    "    \"sigma\" : np.array([.2]),\n",
    "    \"rho\" : np.array([[1]]),\n",
    "    \"rf\" : 0.00,\n",
    "    \"delta\" : np.array([0.7]),\n",
    "    \"T\" : 1\n",
    "    }\n",
    "\n",
    "\n",
    "def SimPath(Ndt, params, T, Nsims):\n",
    "    \n",
    "    dt = T/Ndt\n",
    "    \n",
    "    N_assets= params[\"mu\"].shape[0]\n",
    "    \n",
    "    assert N_assets == params[\"sigma\"].shape[0], \"#assets in mu != #assets in sigma\"\n",
    "    assert N_assets == params[\"rho\"].shape[0], \"#assets in mu != #assets in rho\"\n",
    "    assert params[\"rho\"].ndim == 2, \"rho must be matrix\"\n",
    "    assert N_assets == params[\"rho\"].shape[1], \"rho not square matrix\"\n",
    "    \n",
    "    S = np.zeros((Ndt+1, Nsims, N_assets ))\n",
    "    S[0,:,:] = params[\"S0\"]\n",
    "\n",
    "    \n",
    "    for i in range(Ndt):\n",
    "        \n",
    "        dW = np.sqrt(dt) * np.random.multivariate_normal(np.zeros(N_assets), params[\"rho\"], Nsims)\n",
    "        S[i+1,:,:] = S[i,:,:] * np.exp((params[\"mu\"]-0.5*params[\"sigma\"]**2)*dt + params[\"sigma\"]*dW)\n",
    "        \n",
    "    t = np.linspace(0,T,Ndt+1)\n",
    "    return t, S"
   ]
  },
  {
   "cell_type": "code",
   "execution_count": 91,
   "metadata": {},
   "outputs": [],
   "source": [
    "#%% Compute RM from samples\n",
    "def GetRiskMeasure(X, Type):\n",
    "    #TVaR    \n",
    "    if (Type == \"TVaR\"):\n",
    "        \n",
    "        alpha = 0.15\n",
    "        Qtl= torch.quantile(X, alpha)\n",
    "        RiskMeasure = -torch.mean(X[X<=Qtl])\n",
    "    \n",
    "    # alpha-beta\n",
    "    elif (Type == \"alpha-beta\" ):\n",
    "        \n",
    "        alpha = 0.1        \n",
    "        LQtl = torch.quantile(X,alpha)\n",
    "        \n",
    "        beta = 0.9\n",
    "        UQtl = torch.quantile(X,beta)\n",
    "        \n",
    "        # weight factor (p in the paper)\n",
    "        p = 0.75\n",
    "        eta = p * alpha + (1-p) * (1-beta)\n",
    "        RiskMeasure = -(p* alpha* torch.mean(X[X<=LQtl]) \\\n",
    "                        + (1-p) *(1-beta) * torch.mean(X[X>=UQtl] ) )/eta\n",
    "        \n",
    "        \n",
    "    #Variance\n",
    "    elif (Type == \"Variance\"):  \n",
    "        RiskMeasure = torch.var(X)   \n",
    "        \n",
    "    return RiskMeasure"
   ]
  },
  {
   "cell_type": "code",
   "execution_count": 101,
   "metadata": {},
   "outputs": [],
   "source": [
    "# %% compute Wasserstein distance\n",
    "def getWassDistance(X, Y):\n",
    "    \n",
    "    # generate co-monotonic versions of the sample\n",
    "    X_sorted, _ = torch.sort(X)\n",
    "    Y_sorted, _ = torch.sort(Y)\n",
    "    \n",
    "    wass_dist = torch.sqrt(torch.mean(( X_sorted - Y_sorted )**2))\n",
    "    \n",
    "    return wass_dist \n",
    "\n",
    "# %% simulate and compute RM\n",
    "\n",
    "\n",
    "def SimRM(net, params, Nsims, type=\"alpha-beta\"):\n",
    "    \n",
    "    # a sample sim\n",
    "#     X = np.exp((params[\"mu\"]-0.5*params[\"sigma\"]**2)*params[\"T\"]\\\n",
    "#                +params[\"sigma\"]*np.sqrt(params[\"T\"])*np.random.randn(Nsims,1))\n",
    "    \n",
    "#     X_t = torch.tensor(X, dtype=torch.float, requires_grad=False)\n",
    "    \n",
    "#     Y_t = net(X_t)\n",
    "    Ndt=500\n",
    "    T =5\n",
    "    t, S = SimPath(Ndt, params, T=T, Nsims=Nsims)  \n",
    "    S_t = torch.tensor(S, dtype=torch.float, requires_grad=False)\n",
    "       \n",
    "    w_t = net(S_t)    \n",
    "    Y_t = w_t[-1,:].reshape(-1,1)\n",
    "    X_t = S_t[-1,:].reshape(-1,1)\n",
    "    \n",
    "    wass_dist = getWassDistance(X_t, Y_t)\n",
    "    \n",
    "    RiskMeasure = GetRiskMeasure(Y_t, \"alpha-beta\") \n",
    "    \n",
    "    return RiskMeasure, wass_dist, X_t, Y_t"
   ]
  },
  {
   "cell_type": "code",
   "execution_count": 93,
   "metadata": {},
   "outputs": [],
   "source": [
    "Nsims = 20\n",
    "X = np.exp((params[\"mu\"]-0.5*params[\"sigma\"]**2)*params[\"T\"]\n",
    "           +params[\"sigma\"]*np.sqrt(params[\"T\"])*np.random.randn(Nsims,1))\n",
    "    \n",
    "X_t = torch.tensor(X, dtype=torch.float, requires_grad=False)\n",
    "\n",
    "Y_t = net(X_t)"
   ]
  },
  {
   "cell_type": "code",
   "execution_count": 94,
   "metadata": {},
   "outputs": [
    {
     "data": {
      "text/plain": [
       "torch.Size([20, 1])"
      ]
     },
     "execution_count": 94,
     "metadata": {},
     "output_type": "execute_result"
    }
   ],
   "source": [
    "Y_t.shape"
   ]
  },
  {
   "cell_type": "code",
   "execution_count": null,
   "metadata": {},
   "outputs": [],
   "source": [
    "Ndt=500\n",
    "T =5\n",
    "t, S = SimPath(Ndt, params, T=T, Nsims=Nsims)  \n",
    "X_t = torch.tensor(S, dtype=torch.float, requires_grad=False)\n",
    "\n",
    "Y_t = net(X_t)    "
   ]
  },
  {
   "cell_type": "code",
   "execution_count": 98,
   "metadata": {},
   "outputs": [
    {
     "data": {
      "text/plain": [
       "torch.Size([501, 20, 1])"
      ]
     },
     "execution_count": 98,
     "metadata": {},
     "output_type": "execute_result"
    }
   ],
   "source": [
    "Y_t.shape"
   ]
  },
  {
   "cell_type": "code",
   "execution_count": 99,
   "metadata": {},
   "outputs": [],
   "source": [
    "Y_T = Y_t[-1,:].reshape(-1,1)"
   ]
  },
  {
   "cell_type": "code",
   "execution_count": 100,
   "metadata": {},
   "outputs": [
    {
     "data": {
      "text/plain": [
       "torch.Size([20, 1])"
      ]
     },
     "execution_count": 100,
     "metadata": {},
     "output_type": "execute_result"
    }
   ],
   "source": [
    "Y_T.shape"
   ]
  },
  {
   "cell_type": "code",
   "execution_count": 97,
   "metadata": {},
   "outputs": [],
   "source": [
    "wass_dist = getWassDistance(X_t, Y_t)\n",
    "\n",
    "RiskMeasure = GetRiskMeasure(Y_t, \"alpha-beta\") "
   ]
  },
  {
   "cell_type": "code",
   "execution_count": 102,
   "metadata": {},
   "outputs": [],
   "source": [
    "# %%\n",
    "def PlotHists(X, Y):\n",
    "    \n",
    "    bins = np.linspace(0,2.5,25)\n",
    "    \n",
    "    Xcp = X.clone().detach().numpy()\n",
    "    Ycp = Y.clone().detach().numpy()\n",
    "    \n",
    "    plt.figure(figsize=(10,5))\n",
    "    \n",
    "    plt.subplot(1,3,1)\n",
    "    \n",
    "    sns.distplot(Xcp, bins = bins, hist=True, kde=True, label='Index')\n",
    "    sns.distplot(Ycp, bins = bins,  hist=True, kde=True, label='Portfolio')\n",
    "    plt.legend()    \n",
    "    \n",
    "    plt.axvline(np.quantile(Xcp, 0.15),color='k')\n",
    "    plt.axvline(np.quantile(Ycp, 0.15),color='r')\n",
    "\n",
    "    plt.xlim(bins[0],bins[-1])\n",
    "    \n",
    "    plt.legend()\n",
    "    \n",
    "    plt.subplot(1,3,2)\n",
    "    sns.distplot(Ycp-Xcp, hist=True, kde=True)\n",
    "    plt.axvline(np.quantile(Ycp-Xcp, 0.05),color='k')\n",
    "\n",
    "    \n",
    "    plt.subplot(1,3,3)\n",
    "    \n",
    "    plt.plot(np.array([0,bins[-1]]),np.array([0,bins[-1]]))\n",
    "    plt.scatter(Xcp,Ycp, marker='o',color='r', s=5)\n",
    "    \n",
    "    plt.ylim(0.9*np.quantile(Xcp,0.01),1.1*np.quantile(Xcp,0.99))\n",
    "    plt.xlim(0.9*np.quantile(Xcp,0.01),1.1*np.quantile(Xcp,0.99))\n",
    "\n",
    "    \n",
    "    plt.rcParams.update({'font.size': 16})\n",
    "    plt.rc('axes', labelsize=22)\n",
    "    \n",
    "    plt.tight_layout()\n",
    "    \n",
    "    plt.show()"
   ]
  },
  {
   "cell_type": "code",
   "execution_count": 103,
   "metadata": {},
   "outputs": [],
   "source": [
    "    \n",
    "#%%\n",
    "def PlotStrat(net):\n",
    " \n",
    "    X = np.linspace(0.5,2.2,100).reshape(-1,1)\n",
    "    \n",
    "    # don't think we need sensitivities w.r.t. this as they are fixed per simulation\n",
    "    X_t = torch.tensor(X, dtype=torch.float, requires_grad=True)\n",
    "    \n",
    "    Y_t = net(X_t)    \n",
    "    \n",
    "    Y = Y_t.detach().numpy()\n",
    "    \n",
    "    plt.plot(X,Y)\n",
    "    plt.plot(X,X,'--k',linewidth=0.5)\n",
    "    \n",
    "    plt.show()\n",
    "    \n",
    "#%%"
   ]
  },
  {
   "cell_type": "code",
   "execution_count": null,
   "metadata": {},
   "outputs": [
    {
     "name": "stderr",
     "output_type": "stream",
     "text": [
      "D:\\Anaconda\\lib\\site-packages\\numpy\\lib\\histograms.py:893: RuntimeWarning: invalid value encountered in true_divide\n",
      "  return n/db/n.sum(), bin_edges\n"
     ]
    },
    {
     "data": {
      "image/png": "[encoded data removed]",
      "text/plain": [
       "<Figure size 720x360 with 3 Axes>"
      ]
     },
     "metadata": {
      "needs_background": "light"
     },
     "output_type": "display_data"
    },
    {
     "name": "stdout",
     "output_type": "stream",
     "text": [
      "400 Wass Dist: 0.078905396 Risk Measure: -1.0433924 Loss: 9.478303909301758\n"
     ]
    },
    {
     "data": {
      "image/png": "[encoded data removed]",
      "text/plain": [
       "<Figure size 720x360 with 3 Axes>"
      ]
     },
     "metadata": {
      "needs_background": "light"
     },
     "output_type": "display_data"
    }
   ],
   "source": [
    "net = MyNet(10)\n",
    "RiskMeasure, wass_dist, X_t, Y_t = SimRM(net, params, Nsims=100)\n",
    "PlotHists(X_t, Y_t)\n",
    "\n",
    "# create  optimizer\n",
    "optimizer = optim.Adam(net.parameters())\n",
    "\n",
    "Nepochs = 5000\n",
    "loss_hist = []\n",
    "risk_history = []\n",
    "wass_dist_history=[]\n",
    "\n",
    "for epoch in range(Nepochs):  # loop over the dataset multiple times\n",
    "\n",
    "\n",
    "    # zero the parameter gradients\n",
    "    optimizer.zero_grad()\n",
    "\n",
    "    RiskMeasure, wass_dist,  X_t, Y_t = SimRM(net, params, Nsims=1000)\n",
    "    \n",
    "    \n",
    "    loss = 10*wass_dist*(wass_dist>0.1) \\\n",
    "        + RiskMeasure/2 \\\n",
    "        + 10*(torch.mean(Y_t)>torch.mean(X_t))\n",
    "     \n",
    "    \n",
    "    loss.backward()   \n",
    "    \n",
    "    optimizer.step()\n",
    "    \n",
    "    # store running loss\n",
    "    loss_hist.append(  loss.item() )\n",
    "    risk_history.append( RiskMeasure.detach().numpy() )\n",
    "    wass_dist_history.append( wass_dist.detach().numpy() )\n",
    "    \n",
    "    # PlotHists(X_t, Y_t)\n",
    "    \n",
    "    # plot output every 50 iterations\n",
    "    if( (epoch % 400 == 0) and (epoch>1) ):\n",
    "        print(epoch, end=\" \")\n",
    "        print(\"Wass Dist:\", wass_dist.detach().numpy(), end=\" \" )\n",
    "        print(\"Risk Measure:\", RiskMeasure.detach().numpy(), end=\" \")\n",
    "        print(\"Loss:\", loss.item())\n",
    "\n",
    "        PlotHists(X_t, Y_t)\n",
    "        \n",
    "        # plt.figure(figsize=(10,5))\n",
    "        \n",
    "        # plt.subplot(1,3,1)\n",
    "        # plt.plot(risk_history)\n",
    "        # plt.title(\"RM\") \n",
    "        \n",
    "        # plt.subplot(1,3,2)\n",
    "        # plt.plot(wass_dist_history)\n",
    "        # plt.title(\"WD\") \n",
    "        \n",
    "        # plt.subplot(1,3,3)\n",
    "        # plt.plot(loss_hist)\n",
    "        # plt.title(\"Loss\") \n",
    "\n",
    "        # plt.tight_layout()        \n",
    "        # plt.show()\n",
    "        \n",
    "\n",
    "print('Finished Training')"
   ]
  }
 ],
 "metadata": {
  "kernelspec": {
   "display_name": "Python 3",
   "language": "python",
   "name": "python3"
  },
  "language_info": {
   "codemirror_mode": {
    "name": "ipython",
    "version": 3
   },
   "file_extension": ".py",
   "mimetype": "text/x-python",
   "name": "python",
   "nbconvert_exporter": "python",
   "pygments_lexer": "ipython3",
   "version": "3.7.3"
  }
 },
 "nbformat": 4,
 "nbformat_minor": 2
}
